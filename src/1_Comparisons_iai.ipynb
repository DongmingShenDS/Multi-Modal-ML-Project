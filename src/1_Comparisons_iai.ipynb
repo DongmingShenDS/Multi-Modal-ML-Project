{
 "cells": [
  {
   "cell_type": "markdown",
   "id": "216102b2-555a-48b9-bc0c-11209fd0a107",
   "metadata": {},
   "source": [
    "# Summary of this file\n",
    "\n",
    "This file presents a comparison of various machine learning algorithms fitted to different combinations of modalities for two main purposes:\n",
    "\n",
    "1. To observe the performance differences between these models.\n",
    "2. To examine how the performance varies within the same models when using different modalities.\n",
    "\n",
    "NOTE:\n",
    "For categorical features, most algorithms cannot handle them directly, so we use one-hot encoding.\n",
    "\n",
    "Results:\n",
    "1. CatBoost and LGBM consistently outperform other models; therefore, our focus should be on these two models.\n",
    "2. Including more modalities definitely leads to improved performance."
   ]
  },
  {
   "cell_type": "code",
   "execution_count": 1,
   "id": "fa679d8c-be5b-45bd-a0a6-28be42a2d8c6",
   "metadata": {},
   "outputs": [
    {
     "name": "stderr",
     "output_type": "stream",
     "text": [
      "/Users/shendongming/miniconda3/envs/myjulia/lib/python3.9/site-packages/tqdm/auto.py:21: TqdmWarning: IProgress not found. Please update jupyter and ipywidgets. See https://ipywidgets.readthedocs.io/en/stable/user_install.html\n",
      "  from .autonotebook import tqdm as notebook_tqdm\n",
      "WARNING:root:This copy of Interpretable AI software is for academic purposes only and not for commercial use.\n",
      "WARNING:root:Interpretable AI license expires soon: 2023-12-31T00:00:00. If you need to renew, please send us the following machine ID:\n",
      "0d4cb87c61af7fe404c7211bf0d7d87358e244e9407b26c78823e4e4d8c5b40d\n"
     ]
    }
   ],
   "source": [
    "import numpy as np \n",
    "import pandas as pd \n",
    "from sklearn.preprocessing import LabelEncoder\n",
    "import catboost\n",
    "from catboost import CatBoostClassifier, CatBoostRegressor\n",
    "from sklearn.metrics import classification_report, accuracy_score\n",
    "import optuna\n",
    "from sklearn.model_selection import train_test_split\n",
    "from sklearn.metrics import log_loss\n",
    "from sklearn.metrics import roc_auc_score, roc_curve, auc\n",
    "from sklearn.preprocessing import label_binarize\n",
    "from sklearn.metrics import mean_squared_error\n",
    "from sklearn.metrics import cohen_kappa_score\n",
    "import matplotlib.pyplot as plt\n",
    "from functools import partial\n",
    "import scipy as sp\n",
    "from sklearn.metrics import confusion_matrix as sk_cmatrix\n",
    "from sklearn.model_selection import KFold\n",
    "from joblib import dump\n",
    "import re\n",
    "\n",
    "import pandas as pd\n",
    "import numpy as np\n",
    "import itertools\n",
    "\n",
    "import matplotlib.pyplot as plt\n",
    "import seaborn as sns\n",
    "import missingno as msno\n",
    "import time\n",
    "import warnings\n",
    "warnings.filterwarnings('ignore')\n",
    "from sklearn.model_selection import train_test_split, StratifiedKFold\n",
    "\n",
    "from sklearn.model_selection import train_test_split, GridSearchCV, cross_val_score\n",
    "from sklearn.metrics import accuracy_score, confusion_matrix, classification_report, roc_auc_score, roc_curve, auc\n",
    "from sklearn.linear_model import LogisticRegression\n",
    "from sklearn.neighbors import KNeighborsClassifier\n",
    "from sklearn.svm import SVC\n",
    "from sklearn.tree import DecisionTreeClassifier\n",
    "from sklearn.ensemble import RandomForestClassifier\n",
    "from sklearn.ensemble import RandomForestClassifier\n",
    "from sklearn.ensemble import AdaBoostClassifier\n",
    "from sklearn.ensemble import GradientBoostingClassifier\n",
    "from xgboost import XGBClassifier\n",
    "from catboost import CatBoostClassifier\n",
    "from sklearn.ensemble import ExtraTreesClassifier\n",
    "from lightgbm import LGBMClassifier\n",
    "from sklearn.ensemble import VotingClassifier\n",
    "import lightgbm as lgb\n",
    "import catboost\n",
    "import optuna\n",
    "import joblib\n",
    "import shap\n",
    "import pickle\n",
    "\n",
    "from sklearn.linear_model import LinearRegression, Ridge, Lasso, ElasticNet\n",
    "from sklearn.neighbors import KNeighborsRegressor\n",
    "from sklearn.tree import DecisionTreeRegressor\n",
    "from sklearn.ensemble import RandomForestRegressor, GradientBoostingRegressor, ExtraTreesRegressor\n",
    "from xgboost import XGBRegressor\n",
    "from lightgbm import LGBMRegressor\n",
    "from catboost import CatBoostRegressor\n",
    "from sklearn.metrics import cohen_kappa_score\n",
    "\n",
    "import interpretableai\n",
    "from julia.api import Julia\n",
    "jl = Julia(compiled_modules=False)\n",
    "import os\n",
    "os.environ['JULIA_NUM_THREADS'] = '50'\n",
    "from interpretableai import iai"
   ]
  },
  {
   "cell_type": "code",
   "execution_count": 2,
   "id": "423d7cf2-87ba-47f2-9ad0-92de27f06874",
   "metadata": {},
   "outputs": [],
   "source": [
    "class OptimizedRounder(object):\n",
    "    def __init__(self):\n",
    "        self.coef_ = 0\n",
    "    def _kappa_loss(self, coef, X, y):\n",
    "        preds = pd.cut(X, [-np.inf] + list(np.sort(coef)) + [np.inf], labels = [0, 1, 2, 3, 4])\n",
    "        return -cohen_kappa_score(y, preds, weights='quadratic')\n",
    "    def fit(self, X, y):\n",
    "        loss_partial = partial(self._kappa_loss, X = X, y = y)\n",
    "        initial_coef = [0.5, 1.5, 2.5, 3.5]\n",
    "        self.coef_ = sp.optimize.minimize(loss_partial, initial_coef, method='nelder-mead')\n",
    "    def predict(self, X, coef):\n",
    "        preds = pd.cut(X, [-np.inf] + list(np.sort(coef)) + [np.inf], labels = [0, 1, 2, 3, 4])\n",
    "        return preds\n",
    "    def coefficients(self):\n",
    "        return self.coef_['x']"
   ]
  },
  {
   "cell_type": "code",
   "execution_count": 3,
   "id": "ca5efcbe-24e1-4c67-a52b-09aa09fa500c",
   "metadata": {},
   "outputs": [],
   "source": [
    "# df = pd.read_csv(f'petfinder-adoption-prediction/train/train.csv')\n",
    "# X = df.drop(columns=['AdoptionSpeed'])\n",
    "# y = df['AdoptionSpeed']\n",
    "# X_train, X_test, y_train, y_test = train_test_split(X, y, test_size=0.2, stratify=y, random_state=42)\n",
    "# df['iftrain'] = 0\n",
    "# df.loc[df.index.isin(X_train.index), 'iftrain'] = 1"
   ]
  },
  {
   "cell_type": "code",
   "execution_count": 4,
   "id": "4012a25e-ad17-4cb4-9ffa-1fc183490b25",
   "metadata": {},
   "outputs": [],
   "source": [
    "# df.to_csv(f'petfinder-adoption-prediction/train/train_split.csv')\n",
    "df = pd.read_csv(f'petfinder-adoption-prediction/train/train_split.csv')\n",
    "df_test = pd.read_csv(f'petfinder-adoption-prediction/test/test.csv')"
   ]
  },
  {
   "cell_type": "code",
   "execution_count": null,
   "id": "f4040c87-8184-47fe-8b81-67940550e64f",
   "metadata": {},
   "outputs": [],
   "source": []
  },
  {
   "cell_type": "code",
   "execution_count": null,
   "id": "b245ad7d-e9a6-49d6-83c4-afa52ce61fa1",
   "metadata": {},
   "outputs": [],
   "source": []
  },
  {
   "cell_type": "code",
   "execution_count": 5,
   "id": "0e6581f9-bebf-4c9b-965f-6b2febaf82b7",
   "metadata": {},
   "outputs": [],
   "source": [
    "def PreProcess(\n",
    "    df_in, bert=True, beit=True, breed=True, txt=True, meta=True, senti=True, newcols=True,\n",
    "    pca_bert=200, pca_breed=200\n",
    "):\n",
    "    # get normal files\n",
    "    df = df_in.copy(deep=True) \n",
    "    name = 'train'\n",
    "    # extra modals\n",
    "    if beit:\n",
    "        beit_emb = pd.read_csv(f'petfinder-adoption-prediction/{name}/beit_emb.csv')\n",
    "        beit_emb = beit_emb.drop(columns=['Description', 'PhotoAmt'])\n",
    "        df = pd.merge(df, beit_emb, on=['PetID'], how='left')\n",
    "    if bert and pca_bert > 0: \n",
    "        bert_pca200_ALL = pd.read_csv('petfinder-adoption-prediction/train/bert_pca200_ALL.csv') # 100 enough\n",
    "        bert_emb = bert_pca200_ALL[['PetID'] + [f'bert_pc_{i}' for i in range(1, pca_bert + 1)]] # PetID\n",
    "        df = pd.merge(df, bert_emb, on=['PetID'], how='left')\n",
    "    if breed and pca_breed > 0: \n",
    "        breed_pca200_ALL = pd.read_csv('petfinder-adoption-prediction/train/breed_pca200_ALL.csv') # 100 enough\n",
    "        breed_emb = breed_pca200_ALL[['BreedID'] + [f'breed_pc_{i}' for i in range(1, pca_breed + 1)]] # BreedID\n",
    "        df = pd.merge(df, breed_emb, left_on=['Breed1'], right_on=['BreedID'], how='left')\n",
    "        df = df.drop(columns=['BreedID'])  \n",
    "    if txt: \n",
    "        txt_emb = pd.read_csv(f'petfinder-adoption-prediction/{name}/txt_emb.csv').drop(columns=['Description', 'PhotoAmt'])\n",
    "        df = pd.merge(df, txt_emb, on=['PetID'], how='left')\n",
    "    if meta: \n",
    "        metadata_gr = pd.read_csv(f'petfinder-adoption-prediction/{name}/metadata_gr.csv')\n",
    "        df = pd.merge(df, metadata_gr, on=['PetID'], how='left')\n",
    "    if senti: \n",
    "        sentiment_gr = pd.read_csv(f'petfinder-adoption-prediction/{name}/sentiment_gr.csv')\n",
    "        df = pd.merge(df, sentiment_gr, on=['PetID'], how='left')\n",
    "    if newcols: \n",
    "        new_cols_ALL = pd.read_csv('petfinder-adoption-prediction/train/new_cols_ALL.csv') # PetID\n",
    "        df = pd.merge(df, new_cols_ALL, on=['PetID'], how='left')\n",
    "    # catagorical one-hot encoding\n",
    "    non_numeric_columns = ['Type', 'Breed1', 'Breed2', 'Gender', 'Color1', 'Color2', 'Color3', 'State']\n",
    "    df_encoded = pd.get_dummies(df, columns=non_numeric_columns)\n",
    "    # make sure feature names are valid\n",
    "    df_encoded = df_encoded.rename(columns = lambda x:re.sub('[^A-Za-z0-9_]+', '', x))\n",
    "    df_encoded = df_encoded.fillna(0)\n",
    "    # split into train & test\n",
    "    train_df, test_df = df_encoded[df_encoded['iftrain'] == 1], df_encoded[df_encoded['iftrain'] == 0]\n",
    "    to_drop = ['AdoptionSpeed', 'Name', 'Description', 'PetID', 'RescuerID', 'iftrain']\n",
    "    X_train = train_df.drop(columns=to_drop)\n",
    "    Y_train = train_df['AdoptionSpeed']\n",
    "    X_test = test_df.drop(columns=to_drop)\n",
    "    Y_test = test_df['AdoptionSpeed']\n",
    "    # return results\n",
    "    return X_train, X_test, Y_train, Y_test"
   ]
  },
  {
   "cell_type": "code",
   "execution_count": 6,
   "id": "1c07eca5-cd3b-4161-bb1a-5e47830e6e1d",
   "metadata": {},
   "outputs": [],
   "source": [
    "import pandas as pd\n",
    "\n",
    "def quick_check_regression(X_train, X_test, y_train, y_test):\n",
    "    grid = iai.GridSearch(\n",
    "        iai.OptimalTreeRegressor(\n",
    "            **{\n",
    "                'max_depth': 50,\n",
    "            }),\n",
    "    )\n",
    "    start_time = time.time()\n",
    "    grid.fit(X_train, y_train)\n",
    "    preds = grid.predict(X_train)\n",
    "    optR = OptimizedRounder()\n",
    "    optR.fit(preds, y_train.values)\n",
    "    coefficients = optR.coefficients()\n",
    "    pred_y = optR.predict(grid.predict(X_test), coefficients)\n",
    "    kappa_score = cohen_kappa_score(y_test, pred_y, weights='quadratic')\n",
    "    end_time = time.time()\n",
    "    print(f'loss: {kappa_score}. time: {end_time - start_time}')\n",
    "    # Initialize an empty DataFrame to store results\n",
    "    results_df = pd.DataFrame(columns=[\"Model\", \"Cohen's Kappa Score\"])\n",
    "    # print(f\"Testing Cohen's Kappa Score : {kappa_score}\")\n",
    "    result = pd.DataFrame([[\"ORT\", kappa_score]], columns=[\"Model\", \"Cohen's Kappa Score\"])\n",
    "    results_df = pd.concat([results_df, result], ignore_index=True)\n",
    "\n",
    "    return results_df"
   ]
  },
  {
   "cell_type": "markdown",
   "id": "1bafb370-dfed-4d0e-8c3f-89c66858cf11",
   "metadata": {},
   "source": [
    "## basic"
   ]
  },
  {
   "cell_type": "code",
   "execution_count": null,
   "id": "07f1574d-5305-483a-ab53-0ff6f93f140d",
   "metadata": {},
   "outputs": [],
   "source": [
    "# basic\n",
    "bert=False\n",
    "beit=False\n",
    "breed=False\n",
    "txt=False\n",
    "meta=False\n",
    "senti=False\n",
    "newcols=False\n",
    "pca_bert=0\n",
    "pca_breed=0\n",
    "X_train, X_test, y_train, y_test = PreProcess(\n",
    "    df, bert, beit, breed, txt, meta, senti, newcols, pca_bert, pca_breed\n",
    ")\n",
    "result = quick_check_regression(X_train, X_test, y_train, y_test)\n",
    "result"
   ]
  },
  {
   "cell_type": "code",
   "execution_count": 26,
   "id": "915d9a63-aed3-438c-8188-ebced0b7d5bf",
   "metadata": {},
   "outputs": [
    {
     "name": "stdout",
     "output_type": "stream",
     "text": [
      "loss: 0.19982954140910492. time: 1643.6413788795471\n"
     ]
    },
    {
     "data": {
      "text/html": [
       "<div>\n",
       "<style scoped>\n",
       "    .dataframe tbody tr th:only-of-type {\n",
       "        vertical-align: middle;\n",
       "    }\n",
       "\n",
       "    .dataframe tbody tr th {\n",
       "        vertical-align: top;\n",
       "    }\n",
       "\n",
       "    .dataframe thead th {\n",
       "        text-align: right;\n",
       "    }\n",
       "</style>\n",
       "<table border=\"1\" class=\"dataframe\">\n",
       "  <thead>\n",
       "    <tr style=\"text-align: right;\">\n",
       "      <th></th>\n",
       "      <th>Model</th>\n",
       "      <th>Cohen's Kappa Score</th>\n",
       "    </tr>\n",
       "  </thead>\n",
       "  <tbody>\n",
       "    <tr>\n",
       "      <th>0</th>\n",
       "      <td>ORT</td>\n",
       "      <td>0.19983</td>\n",
       "    </tr>\n",
       "  </tbody>\n",
       "</table>\n",
       "</div>"
      ],
      "text/plain": [
       "  Model  Cohen's Kappa Score\n",
       "0   ORT              0.19983"
      ]
     },
     "execution_count": 26,
     "metadata": {},
     "output_type": "execute_result"
    }
   ],
   "source": [
    "# basic + bert\n",
    "bert=True\n",
    "beit=False\n",
    "breed=False\n",
    "txt=False\n",
    "meta=False\n",
    "senti=False\n",
    "newcols=False\n",
    "pca_bert=200\n",
    "pca_breed=200\n",
    "X_train, X_test, y_train, y_test = PreProcess(\n",
    "    df, bert, beit, breed, txt, meta, senti, newcols, pca_bert, pca_breed\n",
    ")\n",
    "result = quick_check_regression(X_train, X_test, y_train, y_test)\n",
    "result"
   ]
  },
  {
   "cell_type": "code",
   "execution_count": 27,
   "id": "a46154bb-cd71-4175-921d-27b04a395a75",
   "metadata": {},
   "outputs": [
    {
     "name": "stdout",
     "output_type": "stream",
     "text": [
      "loss: 0.19742180817340227. time: 2139.486210823059\n"
     ]
    },
    {
     "data": {
      "text/html": [
       "<div>\n",
       "<style scoped>\n",
       "    .dataframe tbody tr th:only-of-type {\n",
       "        vertical-align: middle;\n",
       "    }\n",
       "\n",
       "    .dataframe tbody tr th {\n",
       "        vertical-align: top;\n",
       "    }\n",
       "\n",
       "    .dataframe thead th {\n",
       "        text-align: right;\n",
       "    }\n",
       "</style>\n",
       "<table border=\"1\" class=\"dataframe\">\n",
       "  <thead>\n",
       "    <tr style=\"text-align: right;\">\n",
       "      <th></th>\n",
       "      <th>Model</th>\n",
       "      <th>Cohen's Kappa Score</th>\n",
       "    </tr>\n",
       "  </thead>\n",
       "  <tbody>\n",
       "    <tr>\n",
       "      <th>0</th>\n",
       "      <td>ORT</td>\n",
       "      <td>0.197422</td>\n",
       "    </tr>\n",
       "  </tbody>\n",
       "</table>\n",
       "</div>"
      ],
      "text/plain": [
       "  Model  Cohen's Kappa Score\n",
       "0   ORT             0.197422"
      ]
     },
     "execution_count": 27,
     "metadata": {},
     "output_type": "execute_result"
    }
   ],
   "source": [
    "# basic + bert + breed\n",
    "bert=True\n",
    "beit=False\n",
    "breed=True\n",
    "txt=False\n",
    "meta=False\n",
    "senti=False\n",
    "newcols=False\n",
    "pca_bert=200\n",
    "pca_breed=200\n",
    "X_train, X_test, y_train, y_test = PreProcess(\n",
    "    df, bert, beit, breed, txt, meta, senti, newcols, pca_bert, pca_breed\n",
    ")\n",
    "result = quick_check_regression(X_train, X_test, y_train, y_test)\n",
    "result"
   ]
  },
  {
   "cell_type": "code",
   "execution_count": 28,
   "id": "93c74b37-7f93-4b59-90d7-ec20cfca8141",
   "metadata": {},
   "outputs": [
    {
     "name": "stdout",
     "output_type": "stream",
     "text": [
      "loss: 0.20600579821938503. time: 4824.678575992584\n"
     ]
    },
    {
     "data": {
      "text/html": [
       "<div>\n",
       "<style scoped>\n",
       "    .dataframe tbody tr th:only-of-type {\n",
       "        vertical-align: middle;\n",
       "    }\n",
       "\n",
       "    .dataframe tbody tr th {\n",
       "        vertical-align: top;\n",
       "    }\n",
       "\n",
       "    .dataframe thead th {\n",
       "        text-align: right;\n",
       "    }\n",
       "</style>\n",
       "<table border=\"1\" class=\"dataframe\">\n",
       "  <thead>\n",
       "    <tr style=\"text-align: right;\">\n",
       "      <th></th>\n",
       "      <th>Model</th>\n",
       "      <th>Cohen's Kappa Score</th>\n",
       "    </tr>\n",
       "  </thead>\n",
       "  <tbody>\n",
       "    <tr>\n",
       "      <th>0</th>\n",
       "      <td>ORT</td>\n",
       "      <td>0.206006</td>\n",
       "    </tr>\n",
       "  </tbody>\n",
       "</table>\n",
       "</div>"
      ],
      "text/plain": [
       "  Model  Cohen's Kappa Score\n",
       "0   ORT             0.206006"
      ]
     },
     "execution_count": 28,
     "metadata": {},
     "output_type": "execute_result"
    }
   ],
   "source": [
    "# basic + beit\n",
    "bert=False\n",
    "beit=True\n",
    "breed=False\n",
    "txt=False\n",
    "meta=False\n",
    "senti=False\n",
    "newcols=False\n",
    "pca_bert=200\n",
    "pca_breed=200\n",
    "X_train, X_test, y_train, y_test = PreProcess(\n",
    "    df, bert, beit, breed, txt, meta, senti, newcols, pca_bert, pca_breed\n",
    ")\n",
    "result = quick_check_regression(X_train, X_test, y_train, y_test)\n",
    "result"
   ]
  },
  {
   "cell_type": "code",
   "execution_count": 29,
   "id": "77d6bb5e-a18c-418a-8947-a3c2a32fdff1",
   "metadata": {},
   "outputs": [
    {
     "name": "stdout",
     "output_type": "stream",
     "text": [
      "loss: 0.20415741648256702. time: 480.3777301311493\n"
     ]
    },
    {
     "data": {
      "text/html": [
       "<div>\n",
       "<style scoped>\n",
       "    .dataframe tbody tr th:only-of-type {\n",
       "        vertical-align: middle;\n",
       "    }\n",
       "\n",
       "    .dataframe tbody tr th {\n",
       "        vertical-align: top;\n",
       "    }\n",
       "\n",
       "    .dataframe thead th {\n",
       "        text-align: right;\n",
       "    }\n",
       "</style>\n",
       "<table border=\"1\" class=\"dataframe\">\n",
       "  <thead>\n",
       "    <tr style=\"text-align: right;\">\n",
       "      <th></th>\n",
       "      <th>Model</th>\n",
       "      <th>Cohen's Kappa Score</th>\n",
       "    </tr>\n",
       "  </thead>\n",
       "  <tbody>\n",
       "    <tr>\n",
       "      <th>0</th>\n",
       "      <td>ORT</td>\n",
       "      <td>0.204157</td>\n",
       "    </tr>\n",
       "  </tbody>\n",
       "</table>\n",
       "</div>"
      ],
      "text/plain": [
       "  Model  Cohen's Kappa Score\n",
       "0   ORT             0.204157"
      ]
     },
     "execution_count": 29,
     "metadata": {},
     "output_type": "execute_result"
    }
   ],
   "source": [
    "# basic + senti\n",
    "bert=False\n",
    "beit=False\n",
    "breed=False\n",
    "txt=False\n",
    "meta=False\n",
    "senti=True\n",
    "newcols=False\n",
    "pca_bert=200\n",
    "pca_breed=200\n",
    "X_train, X_test, y_train, y_test = PreProcess(\n",
    "    df, bert, beit, breed, txt, meta, senti, newcols, pca_bert, pca_breed\n",
    ")\n",
    "result = quick_check_regression(X_train, X_test, y_train, y_test)\n",
    "result"
   ]
  },
  {
   "cell_type": "code",
   "execution_count": 30,
   "id": "98c6c766-6c18-4106-8bb2-ca12245efcfc",
   "metadata": {},
   "outputs": [
    {
     "name": "stdout",
     "output_type": "stream",
     "text": [
      "loss: 0.2764025815755743. time: 548.5626170635223\n"
     ]
    },
    {
     "data": {
      "text/html": [
       "<div>\n",
       "<style scoped>\n",
       "    .dataframe tbody tr th:only-of-type {\n",
       "        vertical-align: middle;\n",
       "    }\n",
       "\n",
       "    .dataframe tbody tr th {\n",
       "        vertical-align: top;\n",
       "    }\n",
       "\n",
       "    .dataframe thead th {\n",
       "        text-align: right;\n",
       "    }\n",
       "</style>\n",
       "<table border=\"1\" class=\"dataframe\">\n",
       "  <thead>\n",
       "    <tr style=\"text-align: right;\">\n",
       "      <th></th>\n",
       "      <th>Model</th>\n",
       "      <th>Cohen's Kappa Score</th>\n",
       "    </tr>\n",
       "  </thead>\n",
       "  <tbody>\n",
       "    <tr>\n",
       "      <th>0</th>\n",
       "      <td>ORT</td>\n",
       "      <td>0.276403</td>\n",
       "    </tr>\n",
       "  </tbody>\n",
       "</table>\n",
       "</div>"
      ],
      "text/plain": [
       "  Model  Cohen's Kappa Score\n",
       "0   ORT             0.276403"
      ]
     },
     "execution_count": 30,
     "metadata": {},
     "output_type": "execute_result"
    }
   ],
   "source": [
    "# basic + meta\n",
    "bert=False\n",
    "beit=False\n",
    "breed=False\n",
    "txt=False\n",
    "meta=True\n",
    "senti=False\n",
    "newcols=False\n",
    "pca_bert=200\n",
    "pca_breed=200\n",
    "X_train, X_test, y_train, y_test = PreProcess(\n",
    "    df, bert, beit, breed, txt, meta, senti, newcols, pca_bert, pca_breed\n",
    ")\n",
    "result = quick_check_regression(X_train, X_test, y_train, y_test)\n",
    "result"
   ]
  },
  {
   "cell_type": "code",
   "execution_count": 31,
   "id": "c1750d01-176f-4492-8cb3-f3d547f1a850",
   "metadata": {},
   "outputs": [
    {
     "name": "stdout",
     "output_type": "stream",
     "text": [
      "loss: 0.20742332391595697. time: 551.2858290672302\n"
     ]
    },
    {
     "data": {
      "text/html": [
       "<div>\n",
       "<style scoped>\n",
       "    .dataframe tbody tr th:only-of-type {\n",
       "        vertical-align: middle;\n",
       "    }\n",
       "\n",
       "    .dataframe tbody tr th {\n",
       "        vertical-align: top;\n",
       "    }\n",
       "\n",
       "    .dataframe thead th {\n",
       "        text-align: right;\n",
       "    }\n",
       "</style>\n",
       "<table border=\"1\" class=\"dataframe\">\n",
       "  <thead>\n",
       "    <tr style=\"text-align: right;\">\n",
       "      <th></th>\n",
       "      <th>Model</th>\n",
       "      <th>Cohen's Kappa Score</th>\n",
       "    </tr>\n",
       "  </thead>\n",
       "  <tbody>\n",
       "    <tr>\n",
       "      <th>0</th>\n",
       "      <td>ORT</td>\n",
       "      <td>0.207423</td>\n",
       "    </tr>\n",
       "  </tbody>\n",
       "</table>\n",
       "</div>"
      ],
      "text/plain": [
       "  Model  Cohen's Kappa Score\n",
       "0   ORT             0.207423"
      ]
     },
     "execution_count": 31,
     "metadata": {},
     "output_type": "execute_result"
    }
   ],
   "source": [
    "# basic + meta + senti\n",
    "bert=False\n",
    "beit=False\n",
    "breed=False\n",
    "txt=False\n",
    "meta=True\n",
    "senti=True\n",
    "newcols=False\n",
    "pca_bert=200\n",
    "pca_breed=200\n",
    "X_train, X_test, y_train, y_test = PreProcess(\n",
    "    df, bert, beit, breed, txt, meta, senti, newcols, pca_bert, pca_breed\n",
    ")\n",
    "result = quick_check_regression(X_train, X_test, y_train, y_test)\n",
    "result"
   ]
  },
  {
   "cell_type": "code",
   "execution_count": 32,
   "id": "a4231fe1-2b15-47b4-bac2-9c234935fc7b",
   "metadata": {},
   "outputs": [
    {
     "name": "stdout",
     "output_type": "stream",
     "text": [
      "loss: 0.17177912031573017. time: 7162.766335964203\n"
     ]
    },
    {
     "data": {
      "text/html": [
       "<div>\n",
       "<style scoped>\n",
       "    .dataframe tbody tr th:only-of-type {\n",
       "        vertical-align: middle;\n",
       "    }\n",
       "\n",
       "    .dataframe tbody tr th {\n",
       "        vertical-align: top;\n",
       "    }\n",
       "\n",
       "    .dataframe thead th {\n",
       "        text-align: right;\n",
       "    }\n",
       "</style>\n",
       "<table border=\"1\" class=\"dataframe\">\n",
       "  <thead>\n",
       "    <tr style=\"text-align: right;\">\n",
       "      <th></th>\n",
       "      <th>Model</th>\n",
       "      <th>Cohen's Kappa Score</th>\n",
       "    </tr>\n",
       "  </thead>\n",
       "  <tbody>\n",
       "    <tr>\n",
       "      <th>0</th>\n",
       "      <td>ORT</td>\n",
       "      <td>0.171779</td>\n",
       "    </tr>\n",
       "  </tbody>\n",
       "</table>\n",
       "</div>"
      ],
      "text/plain": [
       "  Model  Cohen's Kappa Score\n",
       "0   ORT             0.171779"
      ]
     },
     "execution_count": 32,
     "metadata": {},
     "output_type": "execute_result"
    }
   ],
   "source": [
    "# basic + bert + breed + beit\n",
    "bert=True\n",
    "beit=True\n",
    "breed=True\n",
    "txt=False\n",
    "meta=False\n",
    "senti=False\n",
    "newcols=False\n",
    "pca_bert=200\n",
    "pca_breed=200\n",
    "X_train, X_test, y_train, y_test = PreProcess(\n",
    "    df, bert, beit, breed, txt, meta, senti, newcols, pca_bert, pca_breed\n",
    ")\n",
    "result = quick_check_regression(X_train, X_test, y_train, y_test)\n",
    "result"
   ]
  },
  {
   "cell_type": "code",
   "execution_count": 33,
   "id": "9c342ccf-6e59-451f-9b22-b855fa89abb3",
   "metadata": {},
   "outputs": [
    {
     "name": "stdout",
     "output_type": "stream",
     "text": [
      "loss: 0.20342051122188232. time: 544.4982483386993\n"
     ]
    },
    {
     "data": {
      "text/html": [
       "<div>\n",
       "<style scoped>\n",
       "    .dataframe tbody tr th:only-of-type {\n",
       "        vertical-align: middle;\n",
       "    }\n",
       "\n",
       "    .dataframe tbody tr th {\n",
       "        vertical-align: top;\n",
       "    }\n",
       "\n",
       "    .dataframe thead th {\n",
       "        text-align: right;\n",
       "    }\n",
       "</style>\n",
       "<table border=\"1\" class=\"dataframe\">\n",
       "  <thead>\n",
       "    <tr style=\"text-align: right;\">\n",
       "      <th></th>\n",
       "      <th>Model</th>\n",
       "      <th>Cohen's Kappa Score</th>\n",
       "    </tr>\n",
       "  </thead>\n",
       "  <tbody>\n",
       "    <tr>\n",
       "      <th>0</th>\n",
       "      <td>ORT</td>\n",
       "      <td>0.203421</td>\n",
       "    </tr>\n",
       "  </tbody>\n",
       "</table>\n",
       "</div>"
      ],
      "text/plain": [
       "  Model  Cohen's Kappa Score\n",
       "0   ORT             0.203421"
      ]
     },
     "execution_count": 33,
     "metadata": {},
     "output_type": "execute_result"
    }
   ],
   "source": [
    "# basic + txt\n",
    "bert=False\n",
    "beit=False\n",
    "breed=False\n",
    "txt=True\n",
    "meta=False\n",
    "senti=False\n",
    "newcols=False\n",
    "pca_bert=200\n",
    "pca_breed=200\n",
    "X_train, X_test, y_train, y_test = PreProcess(\n",
    "    df, bert, beit, breed, txt, meta, senti, newcols, pca_bert, pca_breed\n",
    ")\n",
    "result = quick_check_regression(X_train, X_test, y_train, y_test)\n",
    "result"
   ]
  },
  {
   "cell_type": "code",
   "execution_count": null,
   "id": "e6f3d8ba-13d5-4875-b5a2-1fc446f64a80",
   "metadata": {},
   "outputs": [],
   "source": [
    "# basic + meta + senti + txt\n",
    "bert=False\n",
    "beit=False\n",
    "breed=False\n",
    "txt=True\n",
    "meta=True\n",
    "senti=True\n",
    "newcols=False\n",
    "pca_bert=200\n",
    "pca_breed=200\n",
    "X_train, X_test, y_train, y_test = PreProcess(\n",
    "    df, bert, beit, breed, txt, meta, senti, newcols, pca_bert, pca_breed\n",
    ")\n",
    "result = quick_check_regression(X_train, X_test, y_train, y_test)\n",
    "result"
   ]
  },
  {
   "cell_type": "code",
   "execution_count": 35,
   "id": "7206c0a9-afd0-407d-a2d3-0b88eed6f800",
   "metadata": {},
   "outputs": [
    {
     "name": "stdout",
     "output_type": "stream",
     "text": [
      "loss: 0.17616033261465025. time: 7577.685313940048\n"
     ]
    },
    {
     "data": {
      "text/html": [
       "<div>\n",
       "<style scoped>\n",
       "    .dataframe tbody tr th:only-of-type {\n",
       "        vertical-align: middle;\n",
       "    }\n",
       "\n",
       "    .dataframe tbody tr th {\n",
       "        vertical-align: top;\n",
       "    }\n",
       "\n",
       "    .dataframe thead th {\n",
       "        text-align: right;\n",
       "    }\n",
       "</style>\n",
       "<table border=\"1\" class=\"dataframe\">\n",
       "  <thead>\n",
       "    <tr style=\"text-align: right;\">\n",
       "      <th></th>\n",
       "      <th>Model</th>\n",
       "      <th>Cohen's Kappa Score</th>\n",
       "    </tr>\n",
       "  </thead>\n",
       "  <tbody>\n",
       "    <tr>\n",
       "      <th>0</th>\n",
       "      <td>ORT</td>\n",
       "      <td>0.17616</td>\n",
       "    </tr>\n",
       "  </tbody>\n",
       "</table>\n",
       "</div>"
      ],
      "text/plain": [
       "  Model  Cohen's Kappa Score\n",
       "0   ORT              0.17616"
      ]
     },
     "execution_count": 35,
     "metadata": {},
     "output_type": "execute_result"
    }
   ],
   "source": [
    "# basic + bert + breed + beit + meta + senti + txt\n",
    "bert=True\n",
    "beit=True\n",
    "breed=True\n",
    "txt=True\n",
    "meta=True\n",
    "senti=True\n",
    "newcols=False\n",
    "pca_bert=200\n",
    "pca_breed=200\n",
    "X_train, X_test, y_train, y_test = PreProcess(\n",
    "    df, bert, beit, breed, txt, meta, senti, newcols, pca_bert, pca_breed\n",
    ")\n",
    "result = quick_check_regression(X_train, X_test, y_train, y_test)\n",
    "result"
   ]
  },
  {
   "cell_type": "code",
   "execution_count": 36,
   "id": "ed427a9a-2038-47f5-8842-7683c49914cf",
   "metadata": {},
   "outputs": [
    {
     "name": "stdout",
     "output_type": "stream",
     "text": [
      "loss: 0.20816440612540765. time: 623.7845799922943\n"
     ]
    },
    {
     "data": {
      "text/html": [
       "<div>\n",
       "<style scoped>\n",
       "    .dataframe tbody tr th:only-of-type {\n",
       "        vertical-align: middle;\n",
       "    }\n",
       "\n",
       "    .dataframe tbody tr th {\n",
       "        vertical-align: top;\n",
       "    }\n",
       "\n",
       "    .dataframe thead th {\n",
       "        text-align: right;\n",
       "    }\n",
       "</style>\n",
       "<table border=\"1\" class=\"dataframe\">\n",
       "  <thead>\n",
       "    <tr style=\"text-align: right;\">\n",
       "      <th></th>\n",
       "      <th>Model</th>\n",
       "      <th>Cohen's Kappa Score</th>\n",
       "    </tr>\n",
       "  </thead>\n",
       "  <tbody>\n",
       "    <tr>\n",
       "      <th>0</th>\n",
       "      <td>ORT</td>\n",
       "      <td>0.208164</td>\n",
       "    </tr>\n",
       "  </tbody>\n",
       "</table>\n",
       "</div>"
      ],
      "text/plain": [
       "  Model  Cohen's Kappa Score\n",
       "0   ORT             0.208164"
      ]
     },
     "execution_count": 36,
     "metadata": {},
     "output_type": "execute_result"
    }
   ],
   "source": [
    "# basic + meta + txt\n",
    "bert=False\n",
    "beit=False\n",
    "breed=False\n",
    "txt=True\n",
    "meta=True\n",
    "senti=False\n",
    "newcols=False\n",
    "pca_bert=200\n",
    "pca_breed=200\n",
    "X_train, X_test, y_train, y_test = PreProcess(\n",
    "    df, bert, beit, breed, txt, meta, senti, newcols, pca_bert, pca_breed\n",
    ")\n",
    "result = quick_check_regression(X_train, X_test, y_train, y_test)\n",
    "result"
   ]
  },
  {
   "cell_type": "code",
   "execution_count": 37,
   "id": "6c00583e-0be1-4c86-9fea-2d18e5bf6113",
   "metadata": {},
   "outputs": [
    {
     "name": "stdout",
     "output_type": "stream",
     "text": [
      "loss: 0.1752955261135698. time: 13343.6002099514\n"
     ]
    },
    {
     "data": {
      "text/html": [
       "<div>\n",
       "<style scoped>\n",
       "    .dataframe tbody tr th:only-of-type {\n",
       "        vertical-align: middle;\n",
       "    }\n",
       "\n",
       "    .dataframe tbody tr th {\n",
       "        vertical-align: top;\n",
       "    }\n",
       "\n",
       "    .dataframe thead th {\n",
       "        text-align: right;\n",
       "    }\n",
       "</style>\n",
       "<table border=\"1\" class=\"dataframe\">\n",
       "  <thead>\n",
       "    <tr style=\"text-align: right;\">\n",
       "      <th></th>\n",
       "      <th>Model</th>\n",
       "      <th>Cohen's Kappa Score</th>\n",
       "    </tr>\n",
       "  </thead>\n",
       "  <tbody>\n",
       "    <tr>\n",
       "      <th>0</th>\n",
       "      <td>ORT</td>\n",
       "      <td>0.175296</td>\n",
       "    </tr>\n",
       "  </tbody>\n",
       "</table>\n",
       "</div>"
      ],
      "text/plain": [
       "  Model  Cohen's Kappa Score\n",
       "0   ORT             0.175296"
      ]
     },
     "execution_count": 37,
     "metadata": {},
     "output_type": "execute_result"
    }
   ],
   "source": [
    "# basic + bert + breed + beit + meta + txt\n",
    "bert=True\n",
    "beit=True\n",
    "breed=True\n",
    "txt=True\n",
    "meta=True\n",
    "senti=False\n",
    "newcols=False\n",
    "pca_bert=200\n",
    "pca_breed=200\n",
    "X_train, X_test, y_train, y_test = PreProcess(\n",
    "    df, bert, beit, breed, txt, meta, senti, newcols, pca_bert, pca_breed\n",
    ")\n",
    "result = quick_check_regression(X_train, X_test, y_train, y_test)\n",
    "result"
   ]
  },
  {
   "cell_type": "code",
   "execution_count": null,
   "id": "cdaca5d1-f8b3-42a4-bf8a-5423ef116883",
   "metadata": {},
   "outputs": [],
   "source": []
  },
  {
   "cell_type": "markdown",
   "id": "84c49eb8-ee0f-4cbe-b1c4-ef5195ac12c5",
   "metadata": {},
   "source": [
    "## advanced (always have newcols)"
   ]
  },
  {
   "cell_type": "code",
   "execution_count": 7,
   "id": "19534eb5-e8f2-453d-997c-88c41798de58",
   "metadata": {},
   "outputs": [
    {
     "name": "stderr",
     "output_type": "stream",
     "text": [
      "[ Warning: This copy of Interpretable AI software is for academic purposes only and not for commercial use.\n",
      "┌ Warning: Interpretable AI license expires soon: 2023-12-31T00:00:00. If you need to renew, please send us the following machine ID:\n",
      "└ 0d4cb87c61af7fe404c7211bf0d7d87358e244e9407b26c78823e4e4d8c5b40d\n"
     ]
    },
    {
     "name": "stdout",
     "output_type": "stream",
     "text": [
      "loss: 0.30570092321598985. time: 1720.2823100090027\n"
     ]
    },
    {
     "data": {
      "text/html": [
       "<div>\n",
       "<style scoped>\n",
       "    .dataframe tbody tr th:only-of-type {\n",
       "        vertical-align: middle;\n",
       "    }\n",
       "\n",
       "    .dataframe tbody tr th {\n",
       "        vertical-align: top;\n",
       "    }\n",
       "\n",
       "    .dataframe thead th {\n",
       "        text-align: right;\n",
       "    }\n",
       "</style>\n",
       "<table border=\"1\" class=\"dataframe\">\n",
       "  <thead>\n",
       "    <tr style=\"text-align: right;\">\n",
       "      <th></th>\n",
       "      <th>Model</th>\n",
       "      <th>Cohen's Kappa Score</th>\n",
       "    </tr>\n",
       "  </thead>\n",
       "  <tbody>\n",
       "    <tr>\n",
       "      <th>0</th>\n",
       "      <td>ORT</td>\n",
       "      <td>0.305701</td>\n",
       "    </tr>\n",
       "  </tbody>\n",
       "</table>\n",
       "</div>"
      ],
      "text/plain": [
       "  Model  Cohen's Kappa Score\n",
       "0   ORT             0.305701"
      ]
     },
     "execution_count": 7,
     "metadata": {},
     "output_type": "execute_result"
    }
   ],
   "source": [
    "# advanced !!!!!!!!\n",
    "bert=False\n",
    "beit=False\n",
    "breed=False\n",
    "txt=False\n",
    "meta=False\n",
    "senti=False\n",
    "newcols=True\n",
    "pca_bert=200\n",
    "pca_breed=200\n",
    "X_train, X_test, y_train, y_test = PreProcess(\n",
    "    df, bert, beit, breed, txt, meta, senti, newcols, pca_bert, pca_breed\n",
    ")\n",
    "result = quick_check_regression(X_train, X_test, y_train, y_test)\n",
    "result"
   ]
  },
  {
   "cell_type": "code",
   "execution_count": 8,
   "id": "a1af890b-da1e-4dd6-a7b7-f3399f0e9cc9",
   "metadata": {},
   "outputs": [
    {
     "name": "stdout",
     "output_type": "stream",
     "text": [
      "loss: 0.3175706275999882. time: 1635.547772884369\n"
     ]
    },
    {
     "data": {
      "text/html": [
       "<div>\n",
       "<style scoped>\n",
       "    .dataframe tbody tr th:only-of-type {\n",
       "        vertical-align: middle;\n",
       "    }\n",
       "\n",
       "    .dataframe tbody tr th {\n",
       "        vertical-align: top;\n",
       "    }\n",
       "\n",
       "    .dataframe thead th {\n",
       "        text-align: right;\n",
       "    }\n",
       "</style>\n",
       "<table border=\"1\" class=\"dataframe\">\n",
       "  <thead>\n",
       "    <tr style=\"text-align: right;\">\n",
       "      <th></th>\n",
       "      <th>Model</th>\n",
       "      <th>Cohen's Kappa Score</th>\n",
       "    </tr>\n",
       "  </thead>\n",
       "  <tbody>\n",
       "    <tr>\n",
       "      <th>0</th>\n",
       "      <td>ORT</td>\n",
       "      <td>0.317571</td>\n",
       "    </tr>\n",
       "  </tbody>\n",
       "</table>\n",
       "</div>"
      ],
      "text/plain": [
       "  Model  Cohen's Kappa Score\n",
       "0   ORT             0.317571"
      ]
     },
     "execution_count": 8,
     "metadata": {},
     "output_type": "execute_result"
    }
   ],
   "source": [
    "# advanced + bert ！！！！！！！！！\n",
    "bert=True\n",
    "beit=False\n",
    "breed=False\n",
    "txt=False\n",
    "meta=False\n",
    "senti=False\n",
    "newcols=True\n",
    "pca_bert=200\n",
    "pca_breed=200\n",
    "X_train, X_test, y_train, y_test = PreProcess(\n",
    "    df, bert, beit, breed, txt, meta, senti, newcols, pca_bert, pca_breed\n",
    ")\n",
    "result = quick_check_regression(X_train, X_test, y_train, y_test)\n",
    "result"
   ]
  },
  {
   "cell_type": "code",
   "execution_count": 40,
   "id": "8044bc91-a414-4fcf-a414-8497fb75ae07",
   "metadata": {},
   "outputs": [
    {
     "name": "stdout",
     "output_type": "stream",
     "text": [
      "loss: 0.19350778897010423. time: 3690.416400909424\n"
     ]
    },
    {
     "data": {
      "text/html": [
       "<div>\n",
       "<style scoped>\n",
       "    .dataframe tbody tr th:only-of-type {\n",
       "        vertical-align: middle;\n",
       "    }\n",
       "\n",
       "    .dataframe tbody tr th {\n",
       "        vertical-align: top;\n",
       "    }\n",
       "\n",
       "    .dataframe thead th {\n",
       "        text-align: right;\n",
       "    }\n",
       "</style>\n",
       "<table border=\"1\" class=\"dataframe\">\n",
       "  <thead>\n",
       "    <tr style=\"text-align: right;\">\n",
       "      <th></th>\n",
       "      <th>Model</th>\n",
       "      <th>Cohen's Kappa Score</th>\n",
       "    </tr>\n",
       "  </thead>\n",
       "  <tbody>\n",
       "    <tr>\n",
       "      <th>0</th>\n",
       "      <td>ORT</td>\n",
       "      <td>0.193508</td>\n",
       "    </tr>\n",
       "  </tbody>\n",
       "</table>\n",
       "</div>"
      ],
      "text/plain": [
       "  Model  Cohen's Kappa Score\n",
       "0   ORT             0.193508"
      ]
     },
     "execution_count": 40,
     "metadata": {},
     "output_type": "execute_result"
    }
   ],
   "source": [
    "# advanced + bert + breed\n",
    "bert=True\n",
    "beit=False\n",
    "breed=True\n",
    "txt=False\n",
    "meta=False\n",
    "senti=False\n",
    "newcols=True\n",
    "pca_bert=200\n",
    "pca_breed=200\n",
    "X_train, X_test, y_train, y_test = PreProcess(\n",
    "    df, bert, beit, breed, txt, meta, senti, newcols, pca_bert, pca_breed\n",
    ")\n",
    "result = quick_check_regression(X_train, X_test, y_train, y_test)\n",
    "result"
   ]
  },
  {
   "cell_type": "code",
   "execution_count": 9,
   "id": "a4e95c90-ca9d-47cc-82f9-68829cad9753",
   "metadata": {},
   "outputs": [
    {
     "name": "stdout",
     "output_type": "stream",
     "text": [
      "loss: 0.18634916127076617. time: 2675.458956003189\n"
     ]
    },
    {
     "data": {
      "text/html": [
       "<div>\n",
       "<style scoped>\n",
       "    .dataframe tbody tr th:only-of-type {\n",
       "        vertical-align: middle;\n",
       "    }\n",
       "\n",
       "    .dataframe tbody tr th {\n",
       "        vertical-align: top;\n",
       "    }\n",
       "\n",
       "    .dataframe thead th {\n",
       "        text-align: right;\n",
       "    }\n",
       "</style>\n",
       "<table border=\"1\" class=\"dataframe\">\n",
       "  <thead>\n",
       "    <tr style=\"text-align: right;\">\n",
       "      <th></th>\n",
       "      <th>Model</th>\n",
       "      <th>Cohen's Kappa Score</th>\n",
       "    </tr>\n",
       "  </thead>\n",
       "  <tbody>\n",
       "    <tr>\n",
       "      <th>0</th>\n",
       "      <td>ORT</td>\n",
       "      <td>0.186349</td>\n",
       "    </tr>\n",
       "  </tbody>\n",
       "</table>\n",
       "</div>"
      ],
      "text/plain": [
       "  Model  Cohen's Kappa Score\n",
       "0   ORT             0.186349"
      ]
     },
     "execution_count": 9,
     "metadata": {},
     "output_type": "execute_result"
    }
   ],
   "source": [
    "# advanced + beit ！！！！！！！！！\n",
    "bert=False\n",
    "beit=True\n",
    "breed=False\n",
    "txt=False\n",
    "meta=False\n",
    "senti=False\n",
    "newcols=True\n",
    "pca_bert=200\n",
    "pca_breed=200\n",
    "X_train, X_test, y_train, y_test = PreProcess(\n",
    "    df, bert, beit, breed, txt, meta, senti, newcols, pca_bert, pca_breed\n",
    ")\n",
    "result = quick_check_regression(X_train, X_test, y_train, y_test)\n",
    "result"
   ]
  },
  {
   "cell_type": "code",
   "execution_count": 42,
   "id": "9fe920e2-88e0-4c9e-8ce8-7b4709e9de6b",
   "metadata": {},
   "outputs": [
    {
     "name": "stdout",
     "output_type": "stream",
     "text": [
      "loss: 0.2874469721905445. time: 1861.8705520629883\n"
     ]
    },
    {
     "data": {
      "text/html": [
       "<div>\n",
       "<style scoped>\n",
       "    .dataframe tbody tr th:only-of-type {\n",
       "        vertical-align: middle;\n",
       "    }\n",
       "\n",
       "    .dataframe tbody tr th {\n",
       "        vertical-align: top;\n",
       "    }\n",
       "\n",
       "    .dataframe thead th {\n",
       "        text-align: right;\n",
       "    }\n",
       "</style>\n",
       "<table border=\"1\" class=\"dataframe\">\n",
       "  <thead>\n",
       "    <tr style=\"text-align: right;\">\n",
       "      <th></th>\n",
       "      <th>Model</th>\n",
       "      <th>Cohen's Kappa Score</th>\n",
       "    </tr>\n",
       "  </thead>\n",
       "  <tbody>\n",
       "    <tr>\n",
       "      <th>0</th>\n",
       "      <td>ORT</td>\n",
       "      <td>0.287447</td>\n",
       "    </tr>\n",
       "  </tbody>\n",
       "</table>\n",
       "</div>"
      ],
      "text/plain": [
       "  Model  Cohen's Kappa Score\n",
       "0   ORT             0.287447"
      ]
     },
     "execution_count": 42,
     "metadata": {},
     "output_type": "execute_result"
    }
   ],
   "source": [
    "# advanced + senti\n",
    "bert=False\n",
    "beit=False\n",
    "breed=False\n",
    "txt=False\n",
    "meta=False\n",
    "senti=True\n",
    "newcols=True\n",
    "pca_bert=200\n",
    "pca_breed=200\n",
    "X_train, X_test, y_train, y_test = PreProcess(\n",
    "    df, bert, beit, breed, txt, meta, senti, newcols, pca_bert, pca_breed\n",
    ")\n",
    "result = quick_check_regression(X_train, X_test, y_train, y_test)\n",
    "result"
   ]
  },
  {
   "cell_type": "code",
   "execution_count": 43,
   "id": "1fda2876-b945-440c-b48c-2463133f26fd",
   "metadata": {},
   "outputs": [
    {
     "name": "stdout",
     "output_type": "stream",
     "text": [
      "loss: 0.20881856624490702. time: 1908.7015919685364\n"
     ]
    },
    {
     "data": {
      "text/html": [
       "<div>\n",
       "<style scoped>\n",
       "    .dataframe tbody tr th:only-of-type {\n",
       "        vertical-align: middle;\n",
       "    }\n",
       "\n",
       "    .dataframe tbody tr th {\n",
       "        vertical-align: top;\n",
       "    }\n",
       "\n",
       "    .dataframe thead th {\n",
       "        text-align: right;\n",
       "    }\n",
       "</style>\n",
       "<table border=\"1\" class=\"dataframe\">\n",
       "  <thead>\n",
       "    <tr style=\"text-align: right;\">\n",
       "      <th></th>\n",
       "      <th>Model</th>\n",
       "      <th>Cohen's Kappa Score</th>\n",
       "    </tr>\n",
       "  </thead>\n",
       "  <tbody>\n",
       "    <tr>\n",
       "      <th>0</th>\n",
       "      <td>ORT</td>\n",
       "      <td>0.208819</td>\n",
       "    </tr>\n",
       "  </tbody>\n",
       "</table>\n",
       "</div>"
      ],
      "text/plain": [
       "  Model  Cohen's Kappa Score\n",
       "0   ORT             0.208819"
      ]
     },
     "execution_count": 43,
     "metadata": {},
     "output_type": "execute_result"
    }
   ],
   "source": [
    "# advanced + meta\n",
    "bert=False\n",
    "beit=False\n",
    "breed=False\n",
    "txt=False\n",
    "meta=True\n",
    "senti=False\n",
    "newcols=True\n",
    "pca_bert=200\n",
    "pca_breed=200\n",
    "X_train, X_test, y_train, y_test = PreProcess(\n",
    "    df, bert, beit, breed, txt, meta, senti, newcols, pca_bert, pca_breed\n",
    ")\n",
    "result = quick_check_regression(X_train, X_test, y_train, y_test)\n",
    "result"
   ]
  },
  {
   "cell_type": "code",
   "execution_count": 44,
   "id": "b7735b5f-eaae-409d-9bce-f448f6dc01ff",
   "metadata": {},
   "outputs": [
    {
     "name": "stdout",
     "output_type": "stream",
     "text": [
      "loss: 0.20773012572891625. time: 2083.023488998413\n"
     ]
    },
    {
     "data": {
      "text/html": [
       "<div>\n",
       "<style scoped>\n",
       "    .dataframe tbody tr th:only-of-type {\n",
       "        vertical-align: middle;\n",
       "    }\n",
       "\n",
       "    .dataframe tbody tr th {\n",
       "        vertical-align: top;\n",
       "    }\n",
       "\n",
       "    .dataframe thead th {\n",
       "        text-align: right;\n",
       "    }\n",
       "</style>\n",
       "<table border=\"1\" class=\"dataframe\">\n",
       "  <thead>\n",
       "    <tr style=\"text-align: right;\">\n",
       "      <th></th>\n",
       "      <th>Model</th>\n",
       "      <th>Cohen's Kappa Score</th>\n",
       "    </tr>\n",
       "  </thead>\n",
       "  <tbody>\n",
       "    <tr>\n",
       "      <th>0</th>\n",
       "      <td>ORT</td>\n",
       "      <td>0.20773</td>\n",
       "    </tr>\n",
       "  </tbody>\n",
       "</table>\n",
       "</div>"
      ],
      "text/plain": [
       "  Model  Cohen's Kappa Score\n",
       "0   ORT              0.20773"
      ]
     },
     "execution_count": 44,
     "metadata": {},
     "output_type": "execute_result"
    }
   ],
   "source": [
    "# advanced + meta + senti\n",
    "bert=False\n",
    "beit=False\n",
    "breed=False\n",
    "txt=False\n",
    "meta=True\n",
    "senti=True\n",
    "newcols=True\n",
    "pca_bert=200\n",
    "pca_breed=200\n",
    "X_train, X_test, y_train, y_test = PreProcess(\n",
    "    df, bert, beit, breed, txt, meta, senti, newcols, pca_bert, pca_breed\n",
    ")\n",
    "result = quick_check_regression(X_train, X_test, y_train, y_test)\n",
    "result"
   ]
  },
  {
   "cell_type": "code",
   "execution_count": 45,
   "id": "03cfe0ae-19fa-4a13-b13f-8d3037130c3f",
   "metadata": {},
   "outputs": [
    {
     "name": "stdout",
     "output_type": "stream",
     "text": [
      "loss: 0.19023140664391314. time: 8504.269695997238\n"
     ]
    },
    {
     "data": {
      "text/html": [
       "<div>\n",
       "<style scoped>\n",
       "    .dataframe tbody tr th:only-of-type {\n",
       "        vertical-align: middle;\n",
       "    }\n",
       "\n",
       "    .dataframe tbody tr th {\n",
       "        vertical-align: top;\n",
       "    }\n",
       "\n",
       "    .dataframe thead th {\n",
       "        text-align: right;\n",
       "    }\n",
       "</style>\n",
       "<table border=\"1\" class=\"dataframe\">\n",
       "  <thead>\n",
       "    <tr style=\"text-align: right;\">\n",
       "      <th></th>\n",
       "      <th>Model</th>\n",
       "      <th>Cohen's Kappa Score</th>\n",
       "    </tr>\n",
       "  </thead>\n",
       "  <tbody>\n",
       "    <tr>\n",
       "      <th>0</th>\n",
       "      <td>ORT</td>\n",
       "      <td>0.190231</td>\n",
       "    </tr>\n",
       "  </tbody>\n",
       "</table>\n",
       "</div>"
      ],
      "text/plain": [
       "  Model  Cohen's Kappa Score\n",
       "0   ORT             0.190231"
      ]
     },
     "execution_count": 45,
     "metadata": {},
     "output_type": "execute_result"
    }
   ],
   "source": [
    "# advanced + bert + breed + beit\n",
    "bert=True\n",
    "beit=True\n",
    "breed=True\n",
    "txt=False\n",
    "meta=False\n",
    "senti=False\n",
    "newcols=True\n",
    "pca_bert=200\n",
    "pca_breed=200\n",
    "X_train, X_test, y_train, y_test = PreProcess(\n",
    "    df, bert, beit, breed, txt, meta, senti, newcols, pca_bert, pca_breed\n",
    ")\n",
    "result = quick_check_regression(X_train, X_test, y_train, y_test)\n",
    "result"
   ]
  },
  {
   "cell_type": "code",
   "execution_count": 46,
   "id": "395e72e8-a7e4-49fb-ae00-24fa76a4244f",
   "metadata": {},
   "outputs": [
    {
     "name": "stdout",
     "output_type": "stream",
     "text": [
      "loss: 0.20758817861471224. time: 563.1778111457825\n"
     ]
    },
    {
     "data": {
      "text/html": [
       "<div>\n",
       "<style scoped>\n",
       "    .dataframe tbody tr th:only-of-type {\n",
       "        vertical-align: middle;\n",
       "    }\n",
       "\n",
       "    .dataframe tbody tr th {\n",
       "        vertical-align: top;\n",
       "    }\n",
       "\n",
       "    .dataframe thead th {\n",
       "        text-align: right;\n",
       "    }\n",
       "</style>\n",
       "<table border=\"1\" class=\"dataframe\">\n",
       "  <thead>\n",
       "    <tr style=\"text-align: right;\">\n",
       "      <th></th>\n",
       "      <th>Model</th>\n",
       "      <th>Cohen's Kappa Score</th>\n",
       "    </tr>\n",
       "  </thead>\n",
       "  <tbody>\n",
       "    <tr>\n",
       "      <th>0</th>\n",
       "      <td>ORT</td>\n",
       "      <td>0.207588</td>\n",
       "    </tr>\n",
       "  </tbody>\n",
       "</table>\n",
       "</div>"
      ],
      "text/plain": [
       "  Model  Cohen's Kappa Score\n",
       "0   ORT             0.207588"
      ]
     },
     "execution_count": 46,
     "metadata": {},
     "output_type": "execute_result"
    }
   ],
   "source": [
    "# advanced + txt\n",
    "bert=False\n",
    "beit=False\n",
    "breed=False\n",
    "txt=True\n",
    "meta=False\n",
    "senti=False\n",
    "newcols=True\n",
    "pca_bert=200\n",
    "pca_breed=200\n",
    "X_train, X_test, y_train, y_test = PreProcess(\n",
    "    df, bert, beit, breed, txt, meta, senti, newcols, pca_bert, pca_breed\n",
    ")\n",
    "result = quick_check_regression(X_train, X_test, y_train, y_test)\n",
    "result"
   ]
  },
  {
   "cell_type": "code",
   "execution_count": 8,
   "id": "01187c75-176d-43c2-869f-820efcbcf731",
   "metadata": {},
   "outputs": [
    {
     "name": "stdout",
     "output_type": "stream",
     "text": [
      "loss: 0.28826791118926465. time: 1883.9095659255981\n"
     ]
    },
    {
     "data": {
      "text/html": [
       "<div>\n",
       "<style scoped>\n",
       "    .dataframe tbody tr th:only-of-type {\n",
       "        vertical-align: middle;\n",
       "    }\n",
       "\n",
       "    .dataframe tbody tr th {\n",
       "        vertical-align: top;\n",
       "    }\n",
       "\n",
       "    .dataframe thead th {\n",
       "        text-align: right;\n",
       "    }\n",
       "</style>\n",
       "<table border=\"1\" class=\"dataframe\">\n",
       "  <thead>\n",
       "    <tr style=\"text-align: right;\">\n",
       "      <th></th>\n",
       "      <th>Model</th>\n",
       "      <th>Cohen's Kappa Score</th>\n",
       "    </tr>\n",
       "  </thead>\n",
       "  <tbody>\n",
       "    <tr>\n",
       "      <th>0</th>\n",
       "      <td>ORT</td>\n",
       "      <td>0.288268</td>\n",
       "    </tr>\n",
       "  </tbody>\n",
       "</table>\n",
       "</div>"
      ],
      "text/plain": [
       "  Model  Cohen's Kappa Score\n",
       "0   ORT             0.288268"
      ]
     },
     "execution_count": 8,
     "metadata": {},
     "output_type": "execute_result"
    }
   ],
   "source": [
    "# advanced + meta + senti + txt !!!!!!!!\n",
    "bert=False\n",
    "beit=False\n",
    "breed=False\n",
    "txt=True\n",
    "meta=True\n",
    "senti=True\n",
    "newcols=True\n",
    "pca_bert=200\n",
    "pca_breed=200\n",
    "X_train, X_test, y_train, y_test = PreProcess(\n",
    "    df, bert, beit, breed, txt, meta, senti, newcols, pca_bert, pca_breed\n",
    ")\n",
    "result = quick_check_regression(X_train, X_test, y_train, y_test)\n",
    "result"
   ]
  },
  {
   "cell_type": "code",
   "execution_count": null,
   "id": "6eba7b6a-6858-4270-b690-c9b10c96aee3",
   "metadata": {},
   "outputs": [],
   "source": [
    "def quick_check_regression(X_train, X_test, y_train, y_test):\n",
    "    grid = iai.GridSearch(\n",
    "        iai.OptimalTreeRegressor(\n",
    "            **{\n",
    "                'max_depth': 20,\n",
    "                'regression_features': {'All'},\n",
    "                'ls_num_tree_restarts': 20\n",
    "            }),\n",
    "    )\n",
    "    start_time = time.time()\n",
    "    grid.fit(X_train, y_train)\n",
    "    preds = grid.predict(X_train)\n",
    "    optR = OptimizedRounder()\n",
    "    optR.fit(preds, y_train.values)\n",
    "    coefficients = optR.coefficients()\n",
    "    pred_y = optR.predict(grid.predict(X_test), coefficients)\n",
    "    kappa_score = cohen_kappa_score(y_test, pred_y, weights='quadratic')\n",
    "    end_time = time.time()\n",
    "    print(f'loss: {kappa_score}. time: {end_time - start_time}')\n",
    "    # Initialize an empty DataFrame to store results\n",
    "    results_df = pd.DataFrame(columns=[\"Model\", \"Cohen's Kappa Score\"])\n",
    "    # print(f\"Testing Cohen's Kappa Score : {kappa_score}\")\n",
    "    result = pd.DataFrame([[\"ORT\", kappa_score]], columns=[\"Model\", \"Cohen's Kappa Score\"])\n",
    "    results_df = pd.concat([results_df, result], ignore_index=True)\n",
    "\n",
    "    return results_df\n",
    "\n",
    "# advanced + bert + breed + beit + meta + senti + txt (200) !!!!!!!!\n",
    "bert=True\n",
    "beit=True\n",
    "breed=True\n",
    "txt=True\n",
    "meta=True\n",
    "senti=True\n",
    "newcols=True\n",
    "pca_bert=200\n",
    "pca_breed=200\n",
    "X_train, X_test, y_train, y_test = PreProcess(\n",
    "    df, bert, beit, breed, txt, meta, senti, newcols, pca_bert, pca_breed\n",
    ")\n",
    "result = quick_check_regression(X_train, X_test, y_train, y_test)\n",
    "result"
   ]
  },
  {
   "cell_type": "code",
   "execution_count": null,
   "id": "41b5f3a1-4a73-4b26-b06b-5531273f86d8",
   "metadata": {},
   "outputs": [],
   "source": [
    "def quick_check_regression(X_train, X_test, y_train, y_test):\n",
    "    grid = iai.GridSearch(\n",
    "        iai.OptimalTreeRegressor(\n",
    "            **{\n",
    "                'max_depth': 30,\n",
    "                'regression_features': {'All'},\n",
    "                'ls_num_tree_restarts': 20\n",
    "            }),\n",
    "    )\n",
    "    start_time = time.time()\n",
    "    grid.fit(X_train, y_train)\n",
    "    preds = grid.predict(X_train)\n",
    "    optR = OptimizedRounder()\n",
    "    optR.fit(preds, y_train.values)\n",
    "    coefficients = optR.coefficients()\n",
    "    pred_y = optR.predict(grid.predict(X_test), coefficients)\n",
    "    kappa_score = cohen_kappa_score(y_test, pred_y, weights='quadratic')\n",
    "    end_time = time.time()\n",
    "    print(f'loss: {kappa_score}. time: {end_time - start_time}')\n",
    "    # Initialize an empty DataFrame to store results\n",
    "    results_df = pd.DataFrame(columns=[\"Model\", \"Cohen's Kappa Score\"])\n",
    "    # print(f\"Testing Cohen's Kappa Score : {kappa_score}\")\n",
    "    result = pd.DataFrame([[\"ORT\", kappa_score]], columns=[\"Model\", \"Cohen's Kappa Score\"])\n",
    "    results_df = pd.concat([results_df, result], ignore_index=True)\n",
    "\n",
    "    return results_df\n",
    "\n",
    "# advanced + bert + breed + beit + meta + senti + txt (200) !!!!!!!!\n",
    "bert=True\n",
    "beit=True\n",
    "breed=True\n",
    "txt=True\n",
    "meta=True\n",
    "senti=True\n",
    "newcols=True\n",
    "pca_bert=200\n",
    "pca_breed=200\n",
    "X_train, X_test, y_train, y_test = PreProcess(\n",
    "    df, bert, beit, breed, txt, meta, senti, newcols, pca_bert, pca_breed\n",
    ")\n",
    "result = quick_check_regression(X_train, X_test, y_train, y_test)\n",
    "result"
   ]
  },
  {
   "cell_type": "code",
   "execution_count": null,
   "id": "27a272e3-afa4-426f-8d67-b046c1123adf",
   "metadata": {},
   "outputs": [],
   "source": [
    "def quick_check_regression(X_train, X_test, y_train, y_test):\n",
    "    grid = iai.GridSearch(\n",
    "        iai.OptimalTreeRegressor(\n",
    "            **{\n",
    "                'max_depth': 5,\n",
    "                'hyperplane_config': {'sparsity': 'all'},\n",
    "                'regression_features': {'All'},\n",
    "                'ls_num_tree_restarts': 1\n",
    "            }),\n",
    "    )\n",
    "    start_time = time.time()\n",
    "    grid.fit(X_train, y_train)\n",
    "    preds = grid.predict(X_train)\n",
    "    optR = OptimizedRounder()\n",
    "    optR.fit(preds, y_train.values)\n",
    "    coefficients = optR.coefficients()\n",
    "    pred_y = optR.predict(grid.predict(X_test), coefficients)\n",
    "    kappa_score = cohen_kappa_score(y_test, pred_y, weights='quadratic')\n",
    "    end_time = time.time()\n",
    "    print(f'loss: {kappa_score}. time: {end_time - start_time}')\n",
    "    # Initialize an empty DataFrame to store results\n",
    "    results_df = pd.DataFrame(columns=[\"Model\", \"Cohen's Kappa Score\"])\n",
    "    # print(f\"Testing Cohen's Kappa Score : {kappa_score}\")\n",
    "    result = pd.DataFrame([[\"ORT\", kappa_score]], columns=[\"Model\", \"Cohen's Kappa Score\"])\n",
    "    results_df = pd.concat([results_df, result], ignore_index=True)\n",
    "\n",
    "    return results_df\n",
    "\n",
    "# advanced + bert + breed + beit + meta + senti + txt (200) !!!!!!!!\n",
    "bert=True\n",
    "beit=True\n",
    "breed=True\n",
    "txt=True\n",
    "meta=True\n",
    "senti=True\n",
    "newcols=True\n",
    "pca_bert=200\n",
    "pca_breed=200\n",
    "X_train, X_test, y_train, y_test = PreProcess(\n",
    "    df, bert, beit, breed, txt, meta, senti, newcols, pca_bert, pca_breed\n",
    ")\n",
    "result = quick_check_regression(X_train, X_test, y_train, y_test)\n",
    "result"
   ]
  },
  {
   "cell_type": "code",
   "execution_count": null,
   "id": "c8cb6a33-d0d7-46d3-b930-685ce6ee3c31",
   "metadata": {},
   "outputs": [],
   "source": [
    "def quick_check_regression(X_train, X_test, y_train, y_test):\n",
    "    grid = iai.GridSearch(\n",
    "        iai.OptimalTreeRegressor(\n",
    "            **{\n",
    "                'max_depth': 10,\n",
    "                'hyperplane_config': {'sparsity': 'all'},\n",
    "                'regression_features': {'All'},\n",
    "                'ls_num_tree_restarts': 1\n",
    "            }),\n",
    "    )\n",
    "    start_time = time.time()\n",
    "    grid.fit(X_train, y_train)\n",
    "    preds = grid.predict(X_train)\n",
    "    optR = OptimizedRounder()\n",
    "    optR.fit(preds, y_train.values)\n",
    "    coefficients = optR.coefficients()\n",
    "    pred_y = optR.predict(grid.predict(X_test), coefficients)\n",
    "    kappa_score = cohen_kappa_score(y_test, pred_y, weights='quadratic')\n",
    "    end_time = time.time()\n",
    "    print(f'loss: {kappa_score}. time: {end_time - start_time}')\n",
    "    # Initialize an empty DataFrame to store results\n",
    "    results_df = pd.DataFrame(columns=[\"Model\", \"Cohen's Kappa Score\"])\n",
    "    # print(f\"Testing Cohen's Kappa Score : {kappa_score}\")\n",
    "    result = pd.DataFrame([[\"ORT\", kappa_score]], columns=[\"Model\", \"Cohen's Kappa Score\"])\n",
    "    results_df = pd.concat([results_df, result], ignore_index=True)\n",
    "\n",
    "    return results_df\n",
    "\n",
    "# advanced + bert + breed + beit + meta + senti + txt (200) !!!!!!!!\n",
    "bert=True\n",
    "beit=True\n",
    "breed=True\n",
    "txt=True\n",
    "meta=True\n",
    "senti=True\n",
    "newcols=True\n",
    "pca_bert=200\n",
    "pca_breed=200\n",
    "X_train, X_test, y_train, y_test = PreProcess(\n",
    "    df, bert, beit, breed, txt, meta, senti, newcols, pca_bert, pca_breed\n",
    ")\n",
    "result = quick_check_regression(X_train, X_test, y_train, y_test)\n",
    "result"
   ]
  },
  {
   "cell_type": "code",
   "execution_count": null,
   "id": "2f707418-c4f1-4b9d-a602-d9c4be600502",
   "metadata": {},
   "outputs": [],
   "source": [
    "def quick_check_regression(X_train, X_test, y_train, y_test):\n",
    "    grid = iai.GridSearch(\n",
    "        iai.OptimalTreeRegressor(\n",
    "            **{\n",
    "                'max_depth': 20,\n",
    "                'hyperplane_config': {'sparsity': 'all'},\n",
    "                'regression_features': {'All'},\n",
    "                'ls_num_tree_restarts': 1\n",
    "            }),\n",
    "    )\n",
    "    start_time = time.time()\n",
    "    grid.fit(X_train, y_train)\n",
    "    preds = grid.predict(X_train)\n",
    "    optR = OptimizedRounder()\n",
    "    optR.fit(preds, y_train.values)\n",
    "    coefficients = optR.coefficients()\n",
    "    pred_y = optR.predict(grid.predict(X_test), coefficients)\n",
    "    kappa_score = cohen_kappa_score(y_test, pred_y, weights='quadratic')\n",
    "    end_time = time.time()\n",
    "    print(f'loss: {kappa_score}. time: {end_time - start_time}')\n",
    "    # Initialize an empty DataFrame to store results\n",
    "    results_df = pd.DataFrame(columns=[\"Model\", \"Cohen's Kappa Score\"])\n",
    "    # print(f\"Testing Cohen's Kappa Score : {kappa_score}\")\n",
    "    result = pd.DataFrame([[\"ORT\", kappa_score]], columns=[\"Model\", \"Cohen's Kappa Score\"])\n",
    "    results_df = pd.concat([results_df, result], ignore_index=True)\n",
    "\n",
    "    return results_df\n",
    "\n",
    "# advanced + bert + breed + beit + meta + senti + txt (200) !!!!!!!!\n",
    "bert=True\n",
    "beit=True\n",
    "breed=True\n",
    "txt=True\n",
    "meta=True\n",
    "senti=True\n",
    "newcols=True\n",
    "pca_bert=200\n",
    "pca_breed=200\n",
    "X_train, X_test, y_train, y_test = PreProcess(\n",
    "    df, bert, beit, breed, txt, meta, senti, newcols, pca_bert, pca_breed\n",
    ")\n",
    "result = quick_check_regression(X_train, X_test, y_train, y_test)\n",
    "result"
   ]
  },
  {
   "cell_type": "code",
   "execution_count": null,
   "id": "7c614858-d7fa-4c79-a8e6-4472289d81d6",
   "metadata": {},
   "outputs": [],
   "source": []
  },
  {
   "cell_type": "code",
   "execution_count": null,
   "id": "028156a2-9c0b-4f08-8684-d753786f3218",
   "metadata": {},
   "outputs": [],
   "source": []
  },
  {
   "cell_type": "code",
   "execution_count": null,
   "id": "46edcdea-764d-463b-bb46-362a5910fa87",
   "metadata": {},
   "outputs": [],
   "source": []
  },
  {
   "cell_type": "code",
   "execution_count": null,
   "id": "b6b4b723-f78f-4a4b-89f6-92cf0b76fede",
   "metadata": {},
   "outputs": [],
   "source": []
  },
  {
   "cell_type": "code",
   "execution_count": null,
   "id": "2f7e3041-4968-4772-a3bc-dfcd2fb78f33",
   "metadata": {},
   "outputs": [],
   "source": []
  },
  {
   "cell_type": "code",
   "execution_count": null,
   "id": "7d38acc5-11fb-4ca3-b569-b5fac51594fb",
   "metadata": {},
   "outputs": [],
   "source": []
  },
  {
   "cell_type": "code",
   "execution_count": 49,
   "id": "2547b9a2-6e5a-4fdb-9e29-c0c4eee5d62e",
   "metadata": {},
   "outputs": [
    {
     "name": "stdout",
     "output_type": "stream",
     "text": [
      "loss: 0.1941070765159696. time: 648.813099861145\n"
     ]
    },
    {
     "data": {
      "text/html": [
       "<div>\n",
       "<style scoped>\n",
       "    .dataframe tbody tr th:only-of-type {\n",
       "        vertical-align: middle;\n",
       "    }\n",
       "\n",
       "    .dataframe tbody tr th {\n",
       "        vertical-align: top;\n",
       "    }\n",
       "\n",
       "    .dataframe thead th {\n",
       "        text-align: right;\n",
       "    }\n",
       "</style>\n",
       "<table border=\"1\" class=\"dataframe\">\n",
       "  <thead>\n",
       "    <tr style=\"text-align: right;\">\n",
       "      <th></th>\n",
       "      <th>Model</th>\n",
       "      <th>Cohen's Kappa Score</th>\n",
       "    </tr>\n",
       "  </thead>\n",
       "  <tbody>\n",
       "    <tr>\n",
       "      <th>0</th>\n",
       "      <td>ORT</td>\n",
       "      <td>0.194107</td>\n",
       "    </tr>\n",
       "  </tbody>\n",
       "</table>\n",
       "</div>"
      ],
      "text/plain": [
       "  Model  Cohen's Kappa Score\n",
       "0   ORT             0.194107"
      ]
     },
     "execution_count": 49,
     "metadata": {},
     "output_type": "execute_result"
    }
   ],
   "source": [
    "# advanced + meta + txt\n",
    "bert=False\n",
    "beit=False\n",
    "breed=False\n",
    "txt=True\n",
    "meta=True\n",
    "senti=False\n",
    "newcols=True\n",
    "pca_bert=200\n",
    "pca_breed=200\n",
    "X_train, X_test, y_train, y_test = PreProcess(\n",
    "    df, bert, beit, breed, txt, meta, senti, newcols, pca_bert, pca_breed\n",
    ")\n",
    "result = quick_check_regression(X_train, X_test, y_train, y_test)\n",
    "result"
   ]
  },
  {
   "cell_type": "code",
   "execution_count": 50,
   "id": "d431b7c2-f493-4a7b-bc78-96c45d0e0676",
   "metadata": {},
   "outputs": [
    {
     "name": "stdout",
     "output_type": "stream",
     "text": [
      "loss: 0.268976198894165. time: 13509.181233882904\n"
     ]
    },
    {
     "data": {
      "text/html": [
       "<div>\n",
       "<style scoped>\n",
       "    .dataframe tbody tr th:only-of-type {\n",
       "        vertical-align: middle;\n",
       "    }\n",
       "\n",
       "    .dataframe tbody tr th {\n",
       "        vertical-align: top;\n",
       "    }\n",
       "\n",
       "    .dataframe thead th {\n",
       "        text-align: right;\n",
       "    }\n",
       "</style>\n",
       "<table border=\"1\" class=\"dataframe\">\n",
       "  <thead>\n",
       "    <tr style=\"text-align: right;\">\n",
       "      <th></th>\n",
       "      <th>Model</th>\n",
       "      <th>Cohen's Kappa Score</th>\n",
       "    </tr>\n",
       "  </thead>\n",
       "  <tbody>\n",
       "    <tr>\n",
       "      <th>0</th>\n",
       "      <td>ORT</td>\n",
       "      <td>0.268976</td>\n",
       "    </tr>\n",
       "  </tbody>\n",
       "</table>\n",
       "</div>"
      ],
      "text/plain": [
       "  Model  Cohen's Kappa Score\n",
       "0   ORT             0.268976"
      ]
     },
     "execution_count": 50,
     "metadata": {},
     "output_type": "execute_result"
    }
   ],
   "source": [
    "# advanced + bert + breed + beit + meta + txt\n",
    "bert=True\n",
    "beit=True\n",
    "breed=True\n",
    "txt=True\n",
    "meta=True\n",
    "senti=False\n",
    "newcols=True\n",
    "pca_bert=200\n",
    "pca_breed=200\n",
    "X_train, X_test, y_train, y_test = PreProcess(\n",
    "    df, bert, beit, breed, txt, meta, senti, newcols, pca_bert, pca_breed\n",
    ")\n",
    "result = quick_check_regression(X_train, X_test, y_train, y_test)\n",
    "result"
   ]
  },
  {
   "cell_type": "code",
   "execution_count": 51,
   "id": "2f53abc0-4d96-4f72-b787-ab77f86ee16a",
   "metadata": {},
   "outputs": [
    {
     "name": "stdout",
     "output_type": "stream",
     "text": [
      "loss: 0.24424646810958184. time: 5964.544634103775\n"
     ]
    },
    {
     "data": {
      "text/html": [
       "<div>\n",
       "<style scoped>\n",
       "    .dataframe tbody tr th:only-of-type {\n",
       "        vertical-align: middle;\n",
       "    }\n",
       "\n",
       "    .dataframe tbody tr th {\n",
       "        vertical-align: top;\n",
       "    }\n",
       "\n",
       "    .dataframe thead th {\n",
       "        text-align: right;\n",
       "    }\n",
       "</style>\n",
       "<table border=\"1\" class=\"dataframe\">\n",
       "  <thead>\n",
       "    <tr style=\"text-align: right;\">\n",
       "      <th></th>\n",
       "      <th>Model</th>\n",
       "      <th>Cohen's Kappa Score</th>\n",
       "    </tr>\n",
       "  </thead>\n",
       "  <tbody>\n",
       "    <tr>\n",
       "      <th>0</th>\n",
       "      <td>ORT</td>\n",
       "      <td>0.244246</td>\n",
       "    </tr>\n",
       "  </tbody>\n",
       "</table>\n",
       "</div>"
      ],
      "text/plain": [
       "  Model  Cohen's Kappa Score\n",
       "0   ORT             0.244246"
      ]
     },
     "execution_count": 51,
     "metadata": {},
     "output_type": "execute_result"
    }
   ],
   "source": [
    "# advanced + bert + breed + beit + meta + senti + txt (100)\n",
    "bert=True\n",
    "beit=True\n",
    "breed=True\n",
    "txt=True\n",
    "meta=True\n",
    "senti=True\n",
    "newcols=True\n",
    "pca_bert=100\n",
    "pca_breed=100\n",
    "X_train, X_test, y_train, y_test = PreProcess(\n",
    "    df, bert, beit, breed, txt, meta, senti, newcols, pca_bert, pca_breed\n",
    ")\n",
    "result = quick_check_regression(X_train, X_test, y_train, y_test)\n",
    "result"
   ]
  },
  {
   "cell_type": "code",
   "execution_count": 52,
   "id": "6d474622-edfb-406f-b9ec-ff24d047377c",
   "metadata": {},
   "outputs": [
    {
     "name": "stdout",
     "output_type": "stream",
     "text": [
      "loss: 0.2648328599161782. time: 33904.699218034744\n"
     ]
    },
    {
     "data": {
      "text/html": [
       "<div>\n",
       "<style scoped>\n",
       "    .dataframe tbody tr th:only-of-type {\n",
       "        vertical-align: middle;\n",
       "    }\n",
       "\n",
       "    .dataframe tbody tr th {\n",
       "        vertical-align: top;\n",
       "    }\n",
       "\n",
       "    .dataframe thead th {\n",
       "        text-align: right;\n",
       "    }\n",
       "</style>\n",
       "<table border=\"1\" class=\"dataframe\">\n",
       "  <thead>\n",
       "    <tr style=\"text-align: right;\">\n",
       "      <th></th>\n",
       "      <th>Model</th>\n",
       "      <th>Cohen's Kappa Score</th>\n",
       "    </tr>\n",
       "  </thead>\n",
       "  <tbody>\n",
       "    <tr>\n",
       "      <th>0</th>\n",
       "      <td>ORT</td>\n",
       "      <td>0.264833</td>\n",
       "    </tr>\n",
       "  </tbody>\n",
       "</table>\n",
       "</div>"
      ],
      "text/plain": [
       "  Model  Cohen's Kappa Score\n",
       "0   ORT             0.264833"
      ]
     },
     "execution_count": 52,
     "metadata": {},
     "output_type": "execute_result"
    }
   ],
   "source": [
    "# advanced + bert + beit + meta + senti + txt (200)\n",
    "bert=True\n",
    "beit=True\n",
    "breed=False\n",
    "txt=True\n",
    "meta=True\n",
    "senti=True\n",
    "newcols=True\n",
    "pca_bert=200\n",
    "pca_breed=200\n",
    "X_train, X_test, y_train, y_test = PreProcess(\n",
    "    df, bert, beit, breed, txt, meta, senti, newcols, pca_bert, pca_breed\n",
    ")\n",
    "result = quick_check_regression(X_train, X_test, y_train, y_test)\n",
    "result"
   ]
  },
  {
   "cell_type": "code",
   "execution_count": 53,
   "id": "ab173ee0-15c1-45dd-aac4-95412f339d2d",
   "metadata": {},
   "outputs": [
    {
     "name": "stdout",
     "output_type": "stream",
     "text": [
      "loss: 0.18647585197472616. time: 6439.1790890693665\n"
     ]
    },
    {
     "data": {
      "text/html": [
       "<div>\n",
       "<style scoped>\n",
       "    .dataframe tbody tr th:only-of-type {\n",
       "        vertical-align: middle;\n",
       "    }\n",
       "\n",
       "    .dataframe tbody tr th {\n",
       "        vertical-align: top;\n",
       "    }\n",
       "\n",
       "    .dataframe thead th {\n",
       "        text-align: right;\n",
       "    }\n",
       "</style>\n",
       "<table border=\"1\" class=\"dataframe\">\n",
       "  <thead>\n",
       "    <tr style=\"text-align: right;\">\n",
       "      <th></th>\n",
       "      <th>Model</th>\n",
       "      <th>Cohen's Kappa Score</th>\n",
       "    </tr>\n",
       "  </thead>\n",
       "  <tbody>\n",
       "    <tr>\n",
       "      <th>0</th>\n",
       "      <td>ORT</td>\n",
       "      <td>0.186476</td>\n",
       "    </tr>\n",
       "  </tbody>\n",
       "</table>\n",
       "</div>"
      ],
      "text/plain": [
       "  Model  Cohen's Kappa Score\n",
       "0   ORT             0.186476"
      ]
     },
     "execution_count": 53,
     "metadata": {},
     "output_type": "execute_result"
    }
   ],
   "source": [
    "# advanced + bert + breed + beit + meta + senti + txt (150)\n",
    "bert=True\n",
    "beit=True\n",
    "breed=True\n",
    "txt=True\n",
    "meta=True\n",
    "senti=True\n",
    "newcols=True\n",
    "pca_bert=150\n",
    "pca_breed=150\n",
    "X_train, X_test, y_train, y_test = PreProcess(\n",
    "    df, bert, beit, breed, txt, meta, senti, newcols, pca_bert, pca_breed\n",
    ")\n",
    "result = quick_check_regression(X_train, X_test, y_train, y_test)\n",
    "result"
   ]
  },
  {
   "cell_type": "code",
   "execution_count": 54,
   "id": "f8520891-07b8-43fa-b744-8e78e99625e4",
   "metadata": {},
   "outputs": [
    {
     "name": "stdout",
     "output_type": "stream",
     "text": [
      "loss: 0.19474986272958816. time: 18711.66781115532\n"
     ]
    },
    {
     "data": {
      "text/html": [
       "<div>\n",
       "<style scoped>\n",
       "    .dataframe tbody tr th:only-of-type {\n",
       "        vertical-align: middle;\n",
       "    }\n",
       "\n",
       "    .dataframe tbody tr th {\n",
       "        vertical-align: top;\n",
       "    }\n",
       "\n",
       "    .dataframe thead th {\n",
       "        text-align: right;\n",
       "    }\n",
       "</style>\n",
       "<table border=\"1\" class=\"dataframe\">\n",
       "  <thead>\n",
       "    <tr style=\"text-align: right;\">\n",
       "      <th></th>\n",
       "      <th>Model</th>\n",
       "      <th>Cohen's Kappa Score</th>\n",
       "    </tr>\n",
       "  </thead>\n",
       "  <tbody>\n",
       "    <tr>\n",
       "      <th>0</th>\n",
       "      <td>ORT</td>\n",
       "      <td>0.19475</td>\n",
       "    </tr>\n",
       "  </tbody>\n",
       "</table>\n",
       "</div>"
      ],
      "text/plain": [
       "  Model  Cohen's Kappa Score\n",
       "0   ORT              0.19475"
      ]
     },
     "execution_count": 54,
     "metadata": {},
     "output_type": "execute_result"
    }
   ],
   "source": [
    "# advanced + bert + breed + beit + meta + senti + txt (160)\n",
    "bert=True\n",
    "beit=True\n",
    "breed=True\n",
    "txt=True\n",
    "meta=True\n",
    "senti=True\n",
    "newcols=True\n",
    "pca_bert=160\n",
    "pca_breed=160\n",
    "X_train, X_test, y_train, y_test = PreProcess(\n",
    "    df, bert, beit, breed, txt, meta, senti, newcols, pca_bert, pca_breed\n",
    ")\n",
    "result = quick_check_regression(X_train, X_test, y_train, y_test)\n",
    "result"
   ]
  },
  {
   "cell_type": "code",
   "execution_count": 55,
   "id": "e44a79f5-5c8e-42b7-819b-5a78ec9e98e0",
   "metadata": {},
   "outputs": [
    {
     "name": "stdout",
     "output_type": "stream",
     "text": [
      "loss: 0.17702903333803843. time: 6405.00651216507\n"
     ]
    },
    {
     "data": {
      "text/html": [
       "<div>\n",
       "<style scoped>\n",
       "    .dataframe tbody tr th:only-of-type {\n",
       "        vertical-align: middle;\n",
       "    }\n",
       "\n",
       "    .dataframe tbody tr th {\n",
       "        vertical-align: top;\n",
       "    }\n",
       "\n",
       "    .dataframe thead th {\n",
       "        text-align: right;\n",
       "    }\n",
       "</style>\n",
       "<table border=\"1\" class=\"dataframe\">\n",
       "  <thead>\n",
       "    <tr style=\"text-align: right;\">\n",
       "      <th></th>\n",
       "      <th>Model</th>\n",
       "      <th>Cohen's Kappa Score</th>\n",
       "    </tr>\n",
       "  </thead>\n",
       "  <tbody>\n",
       "    <tr>\n",
       "      <th>0</th>\n",
       "      <td>ORT</td>\n",
       "      <td>0.177029</td>\n",
       "    </tr>\n",
       "  </tbody>\n",
       "</table>\n",
       "</div>"
      ],
      "text/plain": [
       "  Model  Cohen's Kappa Score\n",
       "0   ORT             0.177029"
      ]
     },
     "execution_count": 55,
     "metadata": {},
     "output_type": "execute_result"
    }
   ],
   "source": [
    "# advanced + bert + breed + beit + meta + senti + txt (170)\n",
    "bert=True\n",
    "beit=True\n",
    "breed=True\n",
    "txt=True\n",
    "meta=True\n",
    "senti=True\n",
    "newcols=True\n",
    "pca_bert=170\n",
    "pca_breed=170\n",
    "X_train, X_test, y_train, y_test = PreProcess(\n",
    "    df, bert, beit, breed, txt, meta, senti, newcols, pca_bert, pca_breed\n",
    ")\n",
    "result = quick_check_regression(X_train, X_test, y_train, y_test)\n",
    "result"
   ]
  },
  {
   "cell_type": "code",
   "execution_count": 56,
   "id": "29f7c695-fc2e-409f-94d7-94bbf612708b",
   "metadata": {},
   "outputs": [
    {
     "name": "stdout",
     "output_type": "stream",
     "text": [
      "loss: 0.20487495582014825. time: 7319.160205125809\n"
     ]
    },
    {
     "data": {
      "text/html": [
       "<div>\n",
       "<style scoped>\n",
       "    .dataframe tbody tr th:only-of-type {\n",
       "        vertical-align: middle;\n",
       "    }\n",
       "\n",
       "    .dataframe tbody tr th {\n",
       "        vertical-align: top;\n",
       "    }\n",
       "\n",
       "    .dataframe thead th {\n",
       "        text-align: right;\n",
       "    }\n",
       "</style>\n",
       "<table border=\"1\" class=\"dataframe\">\n",
       "  <thead>\n",
       "    <tr style=\"text-align: right;\">\n",
       "      <th></th>\n",
       "      <th>Model</th>\n",
       "      <th>Cohen's Kappa Score</th>\n",
       "    </tr>\n",
       "  </thead>\n",
       "  <tbody>\n",
       "    <tr>\n",
       "      <th>0</th>\n",
       "      <td>ORT</td>\n",
       "      <td>0.204875</td>\n",
       "    </tr>\n",
       "  </tbody>\n",
       "</table>\n",
       "</div>"
      ],
      "text/plain": [
       "  Model  Cohen's Kappa Score\n",
       "0   ORT             0.204875"
      ]
     },
     "execution_count": 56,
     "metadata": {},
     "output_type": "execute_result"
    }
   ],
   "source": [
    "# advanced + bert + breed + beit + meta + senti + txt (180)\n",
    "bert=True\n",
    "beit=True\n",
    "breed=True\n",
    "txt=True\n",
    "meta=True\n",
    "senti=True\n",
    "newcols=True\n",
    "pca_bert=180\n",
    "pca_breed=180\n",
    "X_train, X_test, y_train, y_test = PreProcess(\n",
    "    df, bert, beit, breed, txt, meta, senti, newcols, pca_bert, pca_breed\n",
    ")\n",
    "result = quick_check_regression(X_train, X_test, y_train, y_test)\n",
    "result"
   ]
  },
  {
   "cell_type": "code",
   "execution_count": 57,
   "id": "72e9dfbf-79de-407e-b6cd-c4d17f949ede",
   "metadata": {},
   "outputs": [
    {
     "name": "stdout",
     "output_type": "stream",
     "text": [
      "loss: 0.2610649118540852. time: 6973.7124700546265\n"
     ]
    },
    {
     "data": {
      "text/html": [
       "<div>\n",
       "<style scoped>\n",
       "    .dataframe tbody tr th:only-of-type {\n",
       "        vertical-align: middle;\n",
       "    }\n",
       "\n",
       "    .dataframe tbody tr th {\n",
       "        vertical-align: top;\n",
       "    }\n",
       "\n",
       "    .dataframe thead th {\n",
       "        text-align: right;\n",
       "    }\n",
       "</style>\n",
       "<table border=\"1\" class=\"dataframe\">\n",
       "  <thead>\n",
       "    <tr style=\"text-align: right;\">\n",
       "      <th></th>\n",
       "      <th>Model</th>\n",
       "      <th>Cohen's Kappa Score</th>\n",
       "    </tr>\n",
       "  </thead>\n",
       "  <tbody>\n",
       "    <tr>\n",
       "      <th>0</th>\n",
       "      <td>ORT</td>\n",
       "      <td>0.261065</td>\n",
       "    </tr>\n",
       "  </tbody>\n",
       "</table>\n",
       "</div>"
      ],
      "text/plain": [
       "  Model  Cohen's Kappa Score\n",
       "0   ORT             0.261065"
      ]
     },
     "execution_count": 57,
     "metadata": {},
     "output_type": "execute_result"
    }
   ],
   "source": [
    "# advanced + bert + breed + beit + meta + senti + txt (190)\n",
    "bert=True\n",
    "beit=True\n",
    "breed=True\n",
    "txt=True\n",
    "meta=True\n",
    "senti=True\n",
    "newcols=True\n",
    "pca_bert=190\n",
    "pca_breed=190\n",
    "X_train, X_test, y_train, y_test = PreProcess(\n",
    "    df, bert, beit, breed, txt, meta, senti, newcols, pca_bert, pca_breed\n",
    ")\n",
    "result = quick_check_regression(X_train, X_test, y_train, y_test)\n",
    "result"
   ]
  },
  {
   "cell_type": "code",
   "execution_count": null,
   "id": "f9822734-66e2-40c5-a4a0-dfefce24af90",
   "metadata": {},
   "outputs": [],
   "source": []
  },
  {
   "cell_type": "code",
   "execution_count": null,
   "id": "4ceea970-9d83-4b52-9d29-dd2c9515f170",
   "metadata": {},
   "outputs": [],
   "source": []
  },
  {
   "cell_type": "code",
   "execution_count": null,
   "id": "4585e40c-0c0d-470f-ba24-a1e0fc5490ba",
   "metadata": {},
   "outputs": [],
   "source": []
  },
  {
   "cell_type": "code",
   "execution_count": null,
   "id": "3d245fbb-50f2-419f-9faa-a9dd71275502",
   "metadata": {},
   "outputs": [],
   "source": []
  }
 ],
 "metadata": {
  "kernelspec": {
   "display_name": "myjulia",
   "language": "python",
   "name": "myjulia"
  },
  "language_info": {
   "codemirror_mode": {
    "name": "ipython",
    "version": 3
   },
   "file_extension": ".py",
   "mimetype": "text/x-python",
   "name": "python",
   "nbconvert_exporter": "python",
   "pygments_lexer": "ipython3",
   "version": "3.9.18"
  }
 },
 "nbformat": 4,
 "nbformat_minor": 5
}
