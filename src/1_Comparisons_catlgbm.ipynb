{
 "cells": [
  {
   "cell_type": "markdown",
   "id": "9659d48d-443c-4afb-aabd-529126f5c12f",
   "metadata": {},
   "source": [
    "# Summary of this file\n",
    "\n",
    "This file presents a comparison of various machine learning algorithms fitted to different combinations of modalities for two main purposes:\n",
    "\n",
    "1. To observe the performance between CatBoost and LGBM.\n",
    "2. To examine how the performance varies within the same models when using different modalities.\n",
    "\n",
    "NOTE:\n",
    "For categorical features, since we have already attempted one-hot encoding with these two top-performing models, and these two models have built-in support for handling categorical variables directly, we can simply use categorical encoding.\n",
    "\n",
    "Results:\n",
    "1. Including more modalities definitely leads to improved performance."
   ]
  },
  {
   "cell_type": "code",
   "execution_count": 51,
   "id": "fa679d8c-be5b-45bd-a0a6-28be42a2d8c6",
   "metadata": {},
   "outputs": [],
   "source": [
    "import numpy as np \n",
    "import pandas as pd \n",
    "from sklearn.preprocessing import LabelEncoder\n",
    "import catboost\n",
    "from catboost import CatBoostClassifier, CatBoostRegressor\n",
    "from sklearn.metrics import classification_report, accuracy_score\n",
    "import optuna\n",
    "from sklearn.model_selection import train_test_split\n",
    "from sklearn.metrics import log_loss\n",
    "from sklearn.metrics import roc_auc_score, roc_curve, auc\n",
    "from sklearn.preprocessing import label_binarize\n",
    "from sklearn.metrics import mean_squared_error\n",
    "from sklearn.metrics import cohen_kappa_score\n",
    "import matplotlib.pyplot as plt\n",
    "from functools import partial\n",
    "import scipy as sp\n",
    "from sklearn.metrics import confusion_matrix as sk_cmatrix\n",
    "from sklearn.model_selection import KFold\n",
    "from joblib import dump\n",
    "import re\n",
    "\n",
    "import pandas as pd\n",
    "import numpy as np\n",
    "import itertools\n",
    "\n",
    "import matplotlib.pyplot as plt\n",
    "import seaborn as sns\n",
    "import missingno as msno\n",
    "import time\n",
    "import warnings\n",
    "warnings.filterwarnings('ignore')\n",
    "from sklearn.model_selection import train_test_split, StratifiedKFold\n",
    "\n",
    "from sklearn.model_selection import train_test_split, GridSearchCV, cross_val_score\n",
    "from sklearn.metrics import accuracy_score, confusion_matrix, classification_report, roc_auc_score, roc_curve, auc\n",
    "from sklearn.linear_model import LogisticRegression\n",
    "from sklearn.neighbors import KNeighborsClassifier\n",
    "from sklearn.svm import SVC\n",
    "from sklearn.tree import DecisionTreeClassifier\n",
    "from sklearn.ensemble import RandomForestClassifier\n",
    "from sklearn.ensemble import RandomForestClassifier\n",
    "from sklearn.ensemble import AdaBoostClassifier\n",
    "from sklearn.ensemble import GradientBoostingClassifier\n",
    "from xgboost import XGBClassifier\n",
    "from catboost import CatBoostClassifier\n",
    "from sklearn.ensemble import ExtraTreesClassifier\n",
    "from lightgbm import LGBMClassifier\n",
    "from sklearn.ensemble import VotingClassifier\n",
    "import lightgbm as lgb\n",
    "import catboost\n",
    "import optuna\n",
    "import joblib\n",
    "import shap\n",
    "import pickle\n",
    "\n",
    "from sklearn.linear_model import LinearRegression, Ridge, Lasso, ElasticNet\n",
    "from sklearn.neighbors import KNeighborsRegressor\n",
    "from sklearn.tree import DecisionTreeRegressor\n",
    "from sklearn.ensemble import RandomForestRegressor, GradientBoostingRegressor, ExtraTreesRegressor\n",
    "from xgboost import XGBRegressor\n",
    "from lightgbm import LGBMRegressor\n",
    "from catboost import CatBoostRegressor\n",
    "from sklearn.metrics import cohen_kappa_score"
   ]
  },
  {
   "cell_type": "code",
   "execution_count": 52,
   "id": "423d7cf2-87ba-47f2-9ad0-92de27f06874",
   "metadata": {},
   "outputs": [],
   "source": [
    "class OptimizedRounder(object):\n",
    "    def __init__(self):\n",
    "        self.coef_ = 0\n",
    "    def _kappa_loss(self, coef, X, y):\n",
    "        preds = pd.cut(X, [-np.inf] + list(np.sort(coef)) + [np.inf], labels = [0, 1, 2, 3, 4])\n",
    "        return -cohen_kappa_score(y, preds, weights='quadratic')\n",
    "    def fit(self, X, y):\n",
    "        loss_partial = partial(self._kappa_loss, X = X, y = y)\n",
    "        initial_coef = [0.5, 1.5, 2.5, 3.5]\n",
    "        self.coef_ = sp.optimize.minimize(loss_partial, initial_coef, method='nelder-mead')\n",
    "    def predict(self, X, coef):\n",
    "        preds = pd.cut(X, [-np.inf] + list(np.sort(coef)) + [np.inf], labels = [0, 1, 2, 3, 4])\n",
    "        return preds\n",
    "    def coefficients(self):\n",
    "        return self.coef_['x']"
   ]
  },
  {
   "cell_type": "code",
   "execution_count": 53,
   "id": "ca5efcbe-24e1-4c67-a52b-09aa09fa500c",
   "metadata": {},
   "outputs": [],
   "source": [
    "# df = pd.read_csv(f'petfinder-adoption-prediction/train/train.csv')\n",
    "# X = df.drop(columns=['AdoptionSpeed'])\n",
    "# y = df['AdoptionSpeed']\n",
    "# X_train, X_test, y_train, y_test = train_test_split(X, y, test_size=0.2, stratify=y, random_state=42)\n",
    "# df['iftrain'] = 0\n",
    "# df.loc[df.index.isin(X_train.index), 'iftrain'] = 1\n",
    "# df.to_csv(f'petfinder-adoption-prediction/train/train_split.csv')"
   ]
  },
  {
   "cell_type": "code",
   "execution_count": 54,
   "id": "4012a25e-ad17-4cb4-9ffa-1fc183490b25",
   "metadata": {},
   "outputs": [],
   "source": [
    "df = pd.read_csv(f'petfinder-adoption-prediction/train/train_split.csv')\n",
    "df_test = pd.read_csv(f'petfinder-adoption-prediction/test/test.csv')"
   ]
  },
  {
   "cell_type": "code",
   "execution_count": null,
   "id": "f4040c87-8184-47fe-8b81-67940550e64f",
   "metadata": {},
   "outputs": [],
   "source": []
  },
  {
   "cell_type": "code",
   "execution_count": 91,
   "id": "b245ad7d-e9a6-49d6-83c4-afa52ce61fa1",
   "metadata": {},
   "outputs": [],
   "source": [
    "non_numeric_columns = ['Type', 'Breed1', 'Breed2', 'Gender', 'Color1', 'Color2', 'Color3', 'State']\n",
    "\n",
    "def Split(\n",
    "    df_in, bert=True, beit=True, breed=True, txt=True, meta=True, senti=True, newcols=True,\n",
    "    pca_bert=200, pca_breed=200\n",
    "):\n",
    "    # get normal files\n",
    "    df = df_in.copy(deep=True) \n",
    "    name = 'train'\n",
    "    # extra modals\n",
    "    if beit:\n",
    "        beit_emb = pd.read_csv(f'petfinder-adoption-prediction/{name}/beit_emb.csv')\n",
    "        beit_emb = beit_emb.drop(columns=['Description', 'PhotoAmt'])\n",
    "        df = pd.merge(df, beit_emb, on=['PetID'], how='left')\n",
    "    if bert and pca_bert > 0: \n",
    "        bert_pca200_ALL = pd.read_csv('petfinder-adoption-prediction/train/bert_pca200_ALL.csv') # 100 enough\n",
    "        bert_emb = bert_pca200_ALL[['PetID'] + [f'bert_pc_{i}' for i in range(1, pca_bert + 1)]] # PetID\n",
    "        df = pd.merge(df, bert_emb, on=['PetID'], how='left')\n",
    "    if breed and pca_breed > 0: \n",
    "        breed_pca200_ALL = pd.read_csv('petfinder-adoption-prediction/train/breed_pca200_ALL.csv') # 100 enough\n",
    "        breed_emb = breed_pca200_ALL[['BreedID'] + [f'breed_pc_{i}' for i in range(1, pca_breed + 1)]] # BreedID\n",
    "        df = pd.merge(df, breed_emb, left_on=['Breed1'], right_on=['BreedID'], how='left')\n",
    "        df = df.drop(columns=['BreedID'])  \n",
    "    if txt: \n",
    "        txt_emb = pd.read_csv(f'petfinder-adoption-prediction/{name}/txt_emb.csv').drop(columns=['Description', 'PhotoAmt'])\n",
    "        df = pd.merge(df, txt_emb, on=['PetID'], how='left')\n",
    "    if meta: \n",
    "        metadata_gr = pd.read_csv(f'petfinder-adoption-prediction/{name}/metadata_gr.csv')\n",
    "        df = pd.merge(df, metadata_gr, on=['PetID'], how='left')\n",
    "    if senti: \n",
    "        sentiment_gr = pd.read_csv(f'petfinder-adoption-prediction/{name}/sentiment_gr.csv')\n",
    "        df = pd.merge(df, sentiment_gr, on=['PetID'], how='left')\n",
    "    if newcols: \n",
    "        new_cols_ALL = pd.read_csv('petfinder-adoption-prediction/train/new_cols_ALL.csv') # PetID\n",
    "        df = pd.merge(df, new_cols_ALL, on=['PetID'], how='left')\n",
    "    # catagorical one-hot encoding\n",
    "    for col in non_numeric_columns: \n",
    "        df[non_numeric_columns] = df[non_numeric_columns].astype('category')\n",
    "    df_encoded = df\n",
    "    # make sure feature names are valid\n",
    "    df_encoded = df_encoded.rename(columns = lambda x:re.sub('[^A-Za-z0-9_]+', '', x))\n",
    "    # split into train & test\n",
    "    to_drop = ['AdoptionSpeed', 'Name', 'Description', 'PetID', 'RescuerID', 'iftrain']\n",
    "    X = df_encoded.drop(columns=to_drop)\n",
    "    Y = df_encoded['AdoptionSpeed']\n",
    "    # return results\n",
    "    return X, Y"
   ]
  },
  {
   "cell_type": "code",
   "execution_count": 55,
   "id": "0e6581f9-bebf-4c9b-965f-6b2febaf82b7",
   "metadata": {},
   "outputs": [],
   "source": [
    "non_numeric_columns = ['Type', 'Breed1', 'Breed2', 'Gender', 'Color1', 'Color2', 'Color3', 'State']\n",
    "\n",
    "def PreProcess(\n",
    "    df_in, bert=True, beit=True, breed=True, txt=True, meta=True, senti=True, newcols=True,\n",
    "    pca_bert=200, pca_breed=200\n",
    "):\n",
    "    # get normal files\n",
    "    df = df_in.copy(deep=True) \n",
    "    name = 'train'\n",
    "    # extra modals\n",
    "    if beit:\n",
    "        beit_emb = pd.read_csv(f'petfinder-adoption-prediction/{name}/beit_emb.csv')\n",
    "        beit_emb = beit_emb.drop(columns=['Description', 'PhotoAmt'])\n",
    "        df = pd.merge(df, beit_emb, on=['PetID'], how='left')\n",
    "    if bert and pca_bert > 0: \n",
    "        bert_pca200_ALL = pd.read_csv('petfinder-adoption-prediction/train/bert_pca200_ALL.csv') # 100 enough\n",
    "        bert_emb = bert_pca200_ALL[['PetID'] + [f'bert_pc_{i}' for i in range(1, pca_bert + 1)]] # PetID\n",
    "        df = pd.merge(df, bert_emb, on=['PetID'], how='left')\n",
    "    if breed and pca_breed > 0: \n",
    "        breed_pca200_ALL = pd.read_csv('petfinder-adoption-prediction/train/breed_pca200_ALL.csv') # 100 enough\n",
    "        breed_emb = breed_pca200_ALL[['BreedID'] + [f'breed_pc_{i}' for i in range(1, pca_breed + 1)]] # BreedID\n",
    "        df = pd.merge(df, breed_emb, left_on=['Breed1'], right_on=['BreedID'], how='left')\n",
    "        df = df.drop(columns=['BreedID'])  \n",
    "    if txt: \n",
    "        txt_emb = pd.read_csv(f'petfinder-adoption-prediction/{name}/txt_emb.csv').drop(columns=['Description', 'PhotoAmt'])\n",
    "        df = pd.merge(df, txt_emb, on=['PetID'], how='left')\n",
    "    if meta: \n",
    "        metadata_gr = pd.read_csv(f'petfinder-adoption-prediction/{name}/metadata_gr.csv')\n",
    "        df = pd.merge(df, metadata_gr, on=['PetID'], how='left')\n",
    "    if senti: \n",
    "        sentiment_gr = pd.read_csv(f'petfinder-adoption-prediction/{name}/sentiment_gr.csv')\n",
    "        df = pd.merge(df, sentiment_gr, on=['PetID'], how='left')\n",
    "    if newcols: \n",
    "        new_cols_ALL = pd.read_csv('petfinder-adoption-prediction/train/new_cols_ALL.csv') # PetID\n",
    "        df = pd.merge(df, new_cols_ALL, on=['PetID'], how='left')\n",
    "    # catagorical one-hot encoding\n",
    "    for col in non_numeric_columns: \n",
    "        df[non_numeric_columns] = df[non_numeric_columns].astype('category')\n",
    "    df_encoded = df\n",
    "    # make sure feature names are valid\n",
    "    df_encoded = df_encoded.rename(columns = lambda x:re.sub('[^A-Za-z0-9_]+', '', x))\n",
    "    # split into train & test\n",
    "    train_df, test_df = df_encoded[df_encoded['iftrain'] == 1], df_encoded[df_encoded['iftrain'] == 0]\n",
    "    to_drop = ['AdoptionSpeed', 'Name', 'Description', 'PetID', 'RescuerID', 'iftrain']\n",
    "    X_train = train_df.drop(columns=to_drop)\n",
    "    Y_train = train_df['AdoptionSpeed']\n",
    "    X_test = test_df.drop(columns=to_drop)\n",
    "    Y_test = test_df['AdoptionSpeed']\n",
    "    # return results\n",
    "    return X_train, X_test, Y_train, Y_test"
   ]
  },
  {
   "cell_type": "code",
   "execution_count": 57,
   "id": "e7942f2a-b901-4c75-a60c-610620f015b8",
   "metadata": {},
   "outputs": [],
   "source": [
    "import pandas as pd\n",
    "\n",
    "def quick_check_regression(X_train, X_test, y_train, y_test):\n",
    "    models = {\n",
    "        \"LGBM Regressor\": LGBMRegressor(verbose=0, n_jobs=-1, categorical_feature=non_numeric_columns),\n",
    "        \"CatBoost Regressor\": CatBoostRegressor(verbose=0, thread_count=-1, cat_features=non_numeric_columns)  \n",
    "    }\n",
    "\n",
    "    # Initialize an empty DataFrame to store results\n",
    "    results_df = pd.DataFrame(columns=[\"Model\", \"Cohen's Kappa Score\"])\n",
    "\n",
    "    for name, model in models.items():\n",
    "        # print(f\"\\n\\n=========={name}==========\")\n",
    "        model.fit(X_train, y_train)\n",
    "        preds = model.predict(X_train)\n",
    "        optR = OptimizedRounder()\n",
    "        optR.fit(preds, y_train.values)\n",
    "        coefficients = optR.coefficients()\n",
    "        pred_y = optR.predict(model.predict(X_test), coefficients)\n",
    "        kappa_score = cohen_kappa_score(y_test, pred_y, weights='quadratic')\n",
    "        # print(f\"Testing Cohen's Kappa Score : {kappa_score}\")\n",
    "        result = pd.DataFrame([[name, kappa_score]], columns=[\"Model\", \"Cohen's Kappa Score\"])\n",
    "        results_df = pd.concat([results_df, result], ignore_index=True)\n",
    "    return results_df"
   ]
  },
  {
   "cell_type": "markdown",
   "id": "1bafb370-dfed-4d0e-8c3f-89c66858cf11",
   "metadata": {},
   "source": [
    "## basic"
   ]
  },
  {
   "cell_type": "code",
   "execution_count": 58,
   "id": "07f1574d-5305-483a-ab53-0ff6f93f140d",
   "metadata": {},
   "outputs": [
    {
     "name": "stdout",
     "output_type": "stream",
     "text": [
      "[LightGBM] [Warning] categorical_feature is set=Type,Breed1,Breed2,Gender,Color1,Color2,Color3,State, categorical_column=2,4,5,6,7,8,9,18 will be ignored. Current value: categorical_feature=Type,Breed1,Breed2,Gender,Color1,Color2,Color3,State\n"
     ]
    },
    {
     "data": {
      "text/html": [
       "<div>\n",
       "<style scoped>\n",
       "    .dataframe tbody tr th:only-of-type {\n",
       "        vertical-align: middle;\n",
       "    }\n",
       "\n",
       "    .dataframe tbody tr th {\n",
       "        vertical-align: top;\n",
       "    }\n",
       "\n",
       "    .dataframe thead th {\n",
       "        text-align: right;\n",
       "    }\n",
       "</style>\n",
       "<table border=\"1\" class=\"dataframe\">\n",
       "  <thead>\n",
       "    <tr style=\"text-align: right;\">\n",
       "      <th></th>\n",
       "      <th>Model</th>\n",
       "      <th>Cohen's Kappa Score</th>\n",
       "    </tr>\n",
       "  </thead>\n",
       "  <tbody>\n",
       "    <tr>\n",
       "      <th>0</th>\n",
       "      <td>LGBM Regressor</td>\n",
       "      <td>0.366827</td>\n",
       "    </tr>\n",
       "    <tr>\n",
       "      <th>1</th>\n",
       "      <td>CatBoost Regressor</td>\n",
       "      <td>0.371970</td>\n",
       "    </tr>\n",
       "  </tbody>\n",
       "</table>\n",
       "</div>"
      ],
      "text/plain": [
       "                Model  Cohen's Kappa Score\n",
       "0      LGBM Regressor             0.366827\n",
       "1  CatBoost Regressor             0.371970"
      ]
     },
     "execution_count": 58,
     "metadata": {},
     "output_type": "execute_result"
    }
   ],
   "source": [
    "# basic\n",
    "bert=False\n",
    "beit=False\n",
    "breed=False\n",
    "txt=False\n",
    "meta=False\n",
    "senti=False\n",
    "newcols=False\n",
    "pca_bert=0\n",
    "pca_breed=0\n",
    "X_train, X_test, y_train, y_test = PreProcess(\n",
    "    df, bert, beit, breed, txt, meta, senti, newcols, pca_bert, pca_breed\n",
    ")\n",
    "result = quick_check_regression(X_train, X_test, y_train, y_test)\n",
    "result"
   ]
  },
  {
   "cell_type": "code",
   "execution_count": 59,
   "id": "915d9a63-aed3-438c-8188-ebced0b7d5bf",
   "metadata": {},
   "outputs": [
    {
     "name": "stdout",
     "output_type": "stream",
     "text": [
      "[LightGBM] [Warning] categorical_feature is set=Type,Breed1,Breed2,Gender,Color1,Color2,Color3,State, categorical_column=2,4,5,6,7,8,9,18 will be ignored. Current value: categorical_feature=Type,Breed1,Breed2,Gender,Color1,Color2,Color3,State\n"
     ]
    },
    {
     "data": {
      "text/html": [
       "<div>\n",
       "<style scoped>\n",
       "    .dataframe tbody tr th:only-of-type {\n",
       "        vertical-align: middle;\n",
       "    }\n",
       "\n",
       "    .dataframe tbody tr th {\n",
       "        vertical-align: top;\n",
       "    }\n",
       "\n",
       "    .dataframe thead th {\n",
       "        text-align: right;\n",
       "    }\n",
       "</style>\n",
       "<table border=\"1\" class=\"dataframe\">\n",
       "  <thead>\n",
       "    <tr style=\"text-align: right;\">\n",
       "      <th></th>\n",
       "      <th>Model</th>\n",
       "      <th>Cohen's Kappa Score</th>\n",
       "    </tr>\n",
       "  </thead>\n",
       "  <tbody>\n",
       "    <tr>\n",
       "      <th>0</th>\n",
       "      <td>LGBM Regressor</td>\n",
       "      <td>0.364867</td>\n",
       "    </tr>\n",
       "    <tr>\n",
       "      <th>1</th>\n",
       "      <td>CatBoost Regressor</td>\n",
       "      <td>0.374952</td>\n",
       "    </tr>\n",
       "  </tbody>\n",
       "</table>\n",
       "</div>"
      ],
      "text/plain": [
       "                Model  Cohen's Kappa Score\n",
       "0      LGBM Regressor             0.364867\n",
       "1  CatBoost Regressor             0.374952"
      ]
     },
     "execution_count": 59,
     "metadata": {},
     "output_type": "execute_result"
    }
   ],
   "source": [
    "# basic + bert\n",
    "bert=True\n",
    "beit=False\n",
    "breed=False\n",
    "txt=False\n",
    "meta=False\n",
    "senti=False\n",
    "newcols=False\n",
    "pca_bert=200\n",
    "pca_breed=200\n",
    "X_train, X_test, y_train, y_test = PreProcess(\n",
    "    df, bert, beit, breed, txt, meta, senti, newcols, pca_bert, pca_breed\n",
    ")\n",
    "result = quick_check_regression(X_train, X_test, y_train, y_test)\n",
    "result"
   ]
  },
  {
   "cell_type": "code",
   "execution_count": 60,
   "id": "a46154bb-cd71-4175-921d-27b04a395a75",
   "metadata": {},
   "outputs": [
    {
     "name": "stdout",
     "output_type": "stream",
     "text": [
      "[LightGBM] [Warning] categorical_feature is set=Type,Breed1,Breed2,Gender,Color1,Color2,Color3,State, categorical_column=2,4,5,6,7,8,9,18 will be ignored. Current value: categorical_feature=Type,Breed1,Breed2,Gender,Color1,Color2,Color3,State\n"
     ]
    },
    {
     "data": {
      "text/html": [
       "<div>\n",
       "<style scoped>\n",
       "    .dataframe tbody tr th:only-of-type {\n",
       "        vertical-align: middle;\n",
       "    }\n",
       "\n",
       "    .dataframe tbody tr th {\n",
       "        vertical-align: top;\n",
       "    }\n",
       "\n",
       "    .dataframe thead th {\n",
       "        text-align: right;\n",
       "    }\n",
       "</style>\n",
       "<table border=\"1\" class=\"dataframe\">\n",
       "  <thead>\n",
       "    <tr style=\"text-align: right;\">\n",
       "      <th></th>\n",
       "      <th>Model</th>\n",
       "      <th>Cohen's Kappa Score</th>\n",
       "    </tr>\n",
       "  </thead>\n",
       "  <tbody>\n",
       "    <tr>\n",
       "      <th>0</th>\n",
       "      <td>LGBM Regressor</td>\n",
       "      <td>0.376745</td>\n",
       "    </tr>\n",
       "    <tr>\n",
       "      <th>1</th>\n",
       "      <td>CatBoost Regressor</td>\n",
       "      <td>0.382212</td>\n",
       "    </tr>\n",
       "  </tbody>\n",
       "</table>\n",
       "</div>"
      ],
      "text/plain": [
       "                Model  Cohen's Kappa Score\n",
       "0      LGBM Regressor             0.376745\n",
       "1  CatBoost Regressor             0.382212"
      ]
     },
     "execution_count": 60,
     "metadata": {},
     "output_type": "execute_result"
    }
   ],
   "source": [
    "# basic + bert + breed\n",
    "bert=True\n",
    "beit=False\n",
    "breed=True\n",
    "txt=False\n",
    "meta=False\n",
    "senti=False\n",
    "newcols=False\n",
    "pca_bert=200\n",
    "pca_breed=200\n",
    "X_train, X_test, y_train, y_test = PreProcess(\n",
    "    df, bert, beit, breed, txt, meta, senti, newcols, pca_bert, pca_breed\n",
    ")\n",
    "result = quick_check_regression(X_train, X_test, y_train, y_test)\n",
    "result"
   ]
  },
  {
   "cell_type": "code",
   "execution_count": 61,
   "id": "93c74b37-7f93-4b59-90d7-ec20cfca8141",
   "metadata": {},
   "outputs": [
    {
     "name": "stdout",
     "output_type": "stream",
     "text": [
      "[LightGBM] [Warning] categorical_feature is set=Type,Breed1,Breed2,Gender,Color1,Color2,Color3,State, categorical_column=2,4,5,6,7,8,9,18 will be ignored. Current value: categorical_feature=Type,Breed1,Breed2,Gender,Color1,Color2,Color3,State\n"
     ]
    },
    {
     "data": {
      "text/html": [
       "<div>\n",
       "<style scoped>\n",
       "    .dataframe tbody tr th:only-of-type {\n",
       "        vertical-align: middle;\n",
       "    }\n",
       "\n",
       "    .dataframe tbody tr th {\n",
       "        vertical-align: top;\n",
       "    }\n",
       "\n",
       "    .dataframe thead th {\n",
       "        text-align: right;\n",
       "    }\n",
       "</style>\n",
       "<table border=\"1\" class=\"dataframe\">\n",
       "  <thead>\n",
       "    <tr style=\"text-align: right;\">\n",
       "      <th></th>\n",
       "      <th>Model</th>\n",
       "      <th>Cohen's Kappa Score</th>\n",
       "    </tr>\n",
       "  </thead>\n",
       "  <tbody>\n",
       "    <tr>\n",
       "      <th>0</th>\n",
       "      <td>LGBM Regressor</td>\n",
       "      <td>0.388044</td>\n",
       "    </tr>\n",
       "    <tr>\n",
       "      <th>1</th>\n",
       "      <td>CatBoost Regressor</td>\n",
       "      <td>0.390247</td>\n",
       "    </tr>\n",
       "  </tbody>\n",
       "</table>\n",
       "</div>"
      ],
      "text/plain": [
       "                Model  Cohen's Kappa Score\n",
       "0      LGBM Regressor             0.388044\n",
       "1  CatBoost Regressor             0.390247"
      ]
     },
     "execution_count": 61,
     "metadata": {},
     "output_type": "execute_result"
    }
   ],
   "source": [
    "# basic + beit\n",
    "bert=False\n",
    "beit=True\n",
    "breed=False\n",
    "txt=False\n",
    "meta=False\n",
    "senti=False\n",
    "newcols=False\n",
    "pca_bert=200\n",
    "pca_breed=200\n",
    "X_train, X_test, y_train, y_test = PreProcess(\n",
    "    df, bert, beit, breed, txt, meta, senti, newcols, pca_bert, pca_breed\n",
    ")\n",
    "result = quick_check_regression(X_train, X_test, y_train, y_test)\n",
    "result"
   ]
  },
  {
   "cell_type": "code",
   "execution_count": 62,
   "id": "77d6bb5e-a18c-418a-8947-a3c2a32fdff1",
   "metadata": {},
   "outputs": [
    {
     "name": "stdout",
     "output_type": "stream",
     "text": [
      "[LightGBM] [Warning] categorical_feature is set=Type,Breed1,Breed2,Gender,Color1,Color2,Color3,State, categorical_column=2,4,5,6,7,8,9,18 will be ignored. Current value: categorical_feature=Type,Breed1,Breed2,Gender,Color1,Color2,Color3,State\n"
     ]
    },
    {
     "data": {
      "text/html": [
       "<div>\n",
       "<style scoped>\n",
       "    .dataframe tbody tr th:only-of-type {\n",
       "        vertical-align: middle;\n",
       "    }\n",
       "\n",
       "    .dataframe tbody tr th {\n",
       "        vertical-align: top;\n",
       "    }\n",
       "\n",
       "    .dataframe thead th {\n",
       "        text-align: right;\n",
       "    }\n",
       "</style>\n",
       "<table border=\"1\" class=\"dataframe\">\n",
       "  <thead>\n",
       "    <tr style=\"text-align: right;\">\n",
       "      <th></th>\n",
       "      <th>Model</th>\n",
       "      <th>Cohen's Kappa Score</th>\n",
       "    </tr>\n",
       "  </thead>\n",
       "  <tbody>\n",
       "    <tr>\n",
       "      <th>0</th>\n",
       "      <td>LGBM Regressor</td>\n",
       "      <td>0.368303</td>\n",
       "    </tr>\n",
       "    <tr>\n",
       "      <th>1</th>\n",
       "      <td>CatBoost Regressor</td>\n",
       "      <td>0.362618</td>\n",
       "    </tr>\n",
       "  </tbody>\n",
       "</table>\n",
       "</div>"
      ],
      "text/plain": [
       "                Model  Cohen's Kappa Score\n",
       "0      LGBM Regressor             0.368303\n",
       "1  CatBoost Regressor             0.362618"
      ]
     },
     "execution_count": 62,
     "metadata": {},
     "output_type": "execute_result"
    }
   ],
   "source": [
    "# basic + senti\n",
    "bert=False\n",
    "beit=False\n",
    "breed=False\n",
    "txt=False\n",
    "meta=False\n",
    "senti=True\n",
    "newcols=False\n",
    "pca_bert=200\n",
    "pca_breed=200\n",
    "X_train, X_test, y_train, y_test = PreProcess(\n",
    "    df, bert, beit, breed, txt, meta, senti, newcols, pca_bert, pca_breed\n",
    ")\n",
    "result = quick_check_regression(X_train, X_test, y_train, y_test)\n",
    "result"
   ]
  },
  {
   "cell_type": "code",
   "execution_count": 63,
   "id": "98c6c766-6c18-4106-8bb2-ca12245efcfc",
   "metadata": {},
   "outputs": [
    {
     "name": "stdout",
     "output_type": "stream",
     "text": [
      "[LightGBM] [Warning] categorical_feature is set=Type,Breed1,Breed2,Gender,Color1,Color2,Color3,State, categorical_column=2,4,5,6,7,8,9,18 will be ignored. Current value: categorical_feature=Type,Breed1,Breed2,Gender,Color1,Color2,Color3,State\n"
     ]
    },
    {
     "data": {
      "text/html": [
       "<div>\n",
       "<style scoped>\n",
       "    .dataframe tbody tr th:only-of-type {\n",
       "        vertical-align: middle;\n",
       "    }\n",
       "\n",
       "    .dataframe tbody tr th {\n",
       "        vertical-align: top;\n",
       "    }\n",
       "\n",
       "    .dataframe thead th {\n",
       "        text-align: right;\n",
       "    }\n",
       "</style>\n",
       "<table border=\"1\" class=\"dataframe\">\n",
       "  <thead>\n",
       "    <tr style=\"text-align: right;\">\n",
       "      <th></th>\n",
       "      <th>Model</th>\n",
       "      <th>Cohen's Kappa Score</th>\n",
       "    </tr>\n",
       "  </thead>\n",
       "  <tbody>\n",
       "    <tr>\n",
       "      <th>0</th>\n",
       "      <td>LGBM Regressor</td>\n",
       "      <td>0.365261</td>\n",
       "    </tr>\n",
       "    <tr>\n",
       "      <th>1</th>\n",
       "      <td>CatBoost Regressor</td>\n",
       "      <td>0.367350</td>\n",
       "    </tr>\n",
       "  </tbody>\n",
       "</table>\n",
       "</div>"
      ],
      "text/plain": [
       "                Model  Cohen's Kappa Score\n",
       "0      LGBM Regressor             0.365261\n",
       "1  CatBoost Regressor             0.367350"
      ]
     },
     "execution_count": 63,
     "metadata": {},
     "output_type": "execute_result"
    }
   ],
   "source": [
    "# basic + meta\n",
    "bert=False\n",
    "beit=False\n",
    "breed=False\n",
    "txt=False\n",
    "meta=True\n",
    "senti=False\n",
    "newcols=False\n",
    "pca_bert=200\n",
    "pca_breed=200\n",
    "X_train, X_test, y_train, y_test = PreProcess(\n",
    "    df, bert, beit, breed, txt, meta, senti, newcols, pca_bert, pca_breed\n",
    ")\n",
    "result = quick_check_regression(X_train, X_test, y_train, y_test)\n",
    "result"
   ]
  },
  {
   "cell_type": "code",
   "execution_count": 64,
   "id": "c1750d01-176f-4492-8cb3-f3d547f1a850",
   "metadata": {},
   "outputs": [
    {
     "name": "stdout",
     "output_type": "stream",
     "text": [
      "[LightGBM] [Warning] categorical_feature is set=Type,Breed1,Breed2,Gender,Color1,Color2,Color3,State, categorical_column=2,4,5,6,7,8,9,18 will be ignored. Current value: categorical_feature=Type,Breed1,Breed2,Gender,Color1,Color2,Color3,State\n"
     ]
    },
    {
     "data": {
      "text/html": [
       "<div>\n",
       "<style scoped>\n",
       "    .dataframe tbody tr th:only-of-type {\n",
       "        vertical-align: middle;\n",
       "    }\n",
       "\n",
       "    .dataframe tbody tr th {\n",
       "        vertical-align: top;\n",
       "    }\n",
       "\n",
       "    .dataframe thead th {\n",
       "        text-align: right;\n",
       "    }\n",
       "</style>\n",
       "<table border=\"1\" class=\"dataframe\">\n",
       "  <thead>\n",
       "    <tr style=\"text-align: right;\">\n",
       "      <th></th>\n",
       "      <th>Model</th>\n",
       "      <th>Cohen's Kappa Score</th>\n",
       "    </tr>\n",
       "  </thead>\n",
       "  <tbody>\n",
       "    <tr>\n",
       "      <th>0</th>\n",
       "      <td>LGBM Regressor</td>\n",
       "      <td>0.357666</td>\n",
       "    </tr>\n",
       "    <tr>\n",
       "      <th>1</th>\n",
       "      <td>CatBoost Regressor</td>\n",
       "      <td>0.361032</td>\n",
       "    </tr>\n",
       "  </tbody>\n",
       "</table>\n",
       "</div>"
      ],
      "text/plain": [
       "                Model  Cohen's Kappa Score\n",
       "0      LGBM Regressor             0.357666\n",
       "1  CatBoost Regressor             0.361032"
      ]
     },
     "execution_count": 64,
     "metadata": {},
     "output_type": "execute_result"
    }
   ],
   "source": [
    "# basic + meta + senti\n",
    "bert=False\n",
    "beit=False\n",
    "breed=False\n",
    "txt=False\n",
    "meta=True\n",
    "senti=True\n",
    "newcols=False\n",
    "pca_bert=200\n",
    "pca_breed=200\n",
    "X_train, X_test, y_train, y_test = PreProcess(\n",
    "    df, bert, beit, breed, txt, meta, senti, newcols, pca_bert, pca_breed\n",
    ")\n",
    "result = quick_check_regression(X_train, X_test, y_train, y_test)\n",
    "result"
   ]
  },
  {
   "cell_type": "code",
   "execution_count": 65,
   "id": "a4231fe1-2b15-47b4-bac2-9c234935fc7b",
   "metadata": {},
   "outputs": [
    {
     "name": "stdout",
     "output_type": "stream",
     "text": [
      "[LightGBM] [Warning] categorical_feature is set=Type,Breed1,Breed2,Gender,Color1,Color2,Color3,State, categorical_column=2,4,5,6,7,8,9,18 will be ignored. Current value: categorical_feature=Type,Breed1,Breed2,Gender,Color1,Color2,Color3,State\n"
     ]
    },
    {
     "data": {
      "text/html": [
       "<div>\n",
       "<style scoped>\n",
       "    .dataframe tbody tr th:only-of-type {\n",
       "        vertical-align: middle;\n",
       "    }\n",
       "\n",
       "    .dataframe tbody tr th {\n",
       "        vertical-align: top;\n",
       "    }\n",
       "\n",
       "    .dataframe thead th {\n",
       "        text-align: right;\n",
       "    }\n",
       "</style>\n",
       "<table border=\"1\" class=\"dataframe\">\n",
       "  <thead>\n",
       "    <tr style=\"text-align: right;\">\n",
       "      <th></th>\n",
       "      <th>Model</th>\n",
       "      <th>Cohen's Kappa Score</th>\n",
       "    </tr>\n",
       "  </thead>\n",
       "  <tbody>\n",
       "    <tr>\n",
       "      <th>0</th>\n",
       "      <td>LGBM Regressor</td>\n",
       "      <td>0.415616</td>\n",
       "    </tr>\n",
       "    <tr>\n",
       "      <th>1</th>\n",
       "      <td>CatBoost Regressor</td>\n",
       "      <td>0.418694</td>\n",
       "    </tr>\n",
       "  </tbody>\n",
       "</table>\n",
       "</div>"
      ],
      "text/plain": [
       "                Model  Cohen's Kappa Score\n",
       "0      LGBM Regressor             0.415616\n",
       "1  CatBoost Regressor             0.418694"
      ]
     },
     "execution_count": 65,
     "metadata": {},
     "output_type": "execute_result"
    }
   ],
   "source": [
    "# basic + bert + breed + beit\n",
    "bert=True\n",
    "beit=True\n",
    "breed=True\n",
    "txt=False\n",
    "meta=False\n",
    "senti=False\n",
    "newcols=False\n",
    "pca_bert=200\n",
    "pca_breed=200\n",
    "X_train, X_test, y_train, y_test = PreProcess(\n",
    "    df, bert, beit, breed, txt, meta, senti, newcols, pca_bert, pca_breed\n",
    ")\n",
    "result = quick_check_regression(X_train, X_test, y_train, y_test)\n",
    "result"
   ]
  },
  {
   "cell_type": "code",
   "execution_count": 66,
   "id": "9c342ccf-6e59-451f-9b22-b855fa89abb3",
   "metadata": {},
   "outputs": [
    {
     "name": "stdout",
     "output_type": "stream",
     "text": [
      "[LightGBM] [Warning] categorical_feature is set=Type,Breed1,Breed2,Gender,Color1,Color2,Color3,State, categorical_column=2,4,5,6,7,8,9,18 will be ignored. Current value: categorical_feature=Type,Breed1,Breed2,Gender,Color1,Color2,Color3,State\n"
     ]
    },
    {
     "data": {
      "text/html": [
       "<div>\n",
       "<style scoped>\n",
       "    .dataframe tbody tr th:only-of-type {\n",
       "        vertical-align: middle;\n",
       "    }\n",
       "\n",
       "    .dataframe tbody tr th {\n",
       "        vertical-align: top;\n",
       "    }\n",
       "\n",
       "    .dataframe thead th {\n",
       "        text-align: right;\n",
       "    }\n",
       "</style>\n",
       "<table border=\"1\" class=\"dataframe\">\n",
       "  <thead>\n",
       "    <tr style=\"text-align: right;\">\n",
       "      <th></th>\n",
       "      <th>Model</th>\n",
       "      <th>Cohen's Kappa Score</th>\n",
       "    </tr>\n",
       "  </thead>\n",
       "  <tbody>\n",
       "    <tr>\n",
       "      <th>0</th>\n",
       "      <td>LGBM Regressor</td>\n",
       "      <td>0.375392</td>\n",
       "    </tr>\n",
       "    <tr>\n",
       "      <th>1</th>\n",
       "      <td>CatBoost Regressor</td>\n",
       "      <td>0.362386</td>\n",
       "    </tr>\n",
       "  </tbody>\n",
       "</table>\n",
       "</div>"
      ],
      "text/plain": [
       "                Model  Cohen's Kappa Score\n",
       "0      LGBM Regressor             0.375392\n",
       "1  CatBoost Regressor             0.362386"
      ]
     },
     "execution_count": 66,
     "metadata": {},
     "output_type": "execute_result"
    }
   ],
   "source": [
    "# basic + txt\n",
    "bert=False\n",
    "beit=False\n",
    "breed=False\n",
    "txt=True\n",
    "meta=False\n",
    "senti=False\n",
    "newcols=False\n",
    "pca_bert=200\n",
    "pca_breed=200\n",
    "X_train, X_test, y_train, y_test = PreProcess(\n",
    "    df, bert, beit, breed, txt, meta, senti, newcols, pca_bert, pca_breed\n",
    ")\n",
    "result = quick_check_regression(X_train, X_test, y_train, y_test)\n",
    "result"
   ]
  },
  {
   "cell_type": "code",
   "execution_count": 67,
   "id": "e6f3d8ba-13d5-4875-b5a2-1fc446f64a80",
   "metadata": {},
   "outputs": [
    {
     "name": "stdout",
     "output_type": "stream",
     "text": [
      "[LightGBM] [Warning] categorical_feature is set=Type,Breed1,Breed2,Gender,Color1,Color2,Color3,State, categorical_column=2,4,5,6,7,8,9,18 will be ignored. Current value: categorical_feature=Type,Breed1,Breed2,Gender,Color1,Color2,Color3,State\n"
     ]
    },
    {
     "data": {
      "text/html": [
       "<div>\n",
       "<style scoped>\n",
       "    .dataframe tbody tr th:only-of-type {\n",
       "        vertical-align: middle;\n",
       "    }\n",
       "\n",
       "    .dataframe tbody tr th {\n",
       "        vertical-align: top;\n",
       "    }\n",
       "\n",
       "    .dataframe thead th {\n",
       "        text-align: right;\n",
       "    }\n",
       "</style>\n",
       "<table border=\"1\" class=\"dataframe\">\n",
       "  <thead>\n",
       "    <tr style=\"text-align: right;\">\n",
       "      <th></th>\n",
       "      <th>Model</th>\n",
       "      <th>Cohen's Kappa Score</th>\n",
       "    </tr>\n",
       "  </thead>\n",
       "  <tbody>\n",
       "    <tr>\n",
       "      <th>0</th>\n",
       "      <td>LGBM Regressor</td>\n",
       "      <td>0.371684</td>\n",
       "    </tr>\n",
       "    <tr>\n",
       "      <th>1</th>\n",
       "      <td>CatBoost Regressor</td>\n",
       "      <td>0.366876</td>\n",
       "    </tr>\n",
       "  </tbody>\n",
       "</table>\n",
       "</div>"
      ],
      "text/plain": [
       "                Model  Cohen's Kappa Score\n",
       "0      LGBM Regressor             0.371684\n",
       "1  CatBoost Regressor             0.366876"
      ]
     },
     "execution_count": 67,
     "metadata": {},
     "output_type": "execute_result"
    }
   ],
   "source": [
    "# basic + meta + senti + txt\n",
    "bert=False\n",
    "beit=False\n",
    "breed=False\n",
    "txt=True\n",
    "meta=True\n",
    "senti=True\n",
    "newcols=False\n",
    "pca_bert=200\n",
    "pca_breed=200\n",
    "X_train, X_test, y_train, y_test = PreProcess(\n",
    "    df, bert, beit, breed, txt, meta, senti, newcols, pca_bert, pca_breed\n",
    ")\n",
    "result = quick_check_regression(X_train, X_test, y_train, y_test)\n",
    "result"
   ]
  },
  {
   "cell_type": "code",
   "execution_count": 68,
   "id": "7206c0a9-afd0-407d-a2d3-0b88eed6f800",
   "metadata": {},
   "outputs": [
    {
     "name": "stdout",
     "output_type": "stream",
     "text": [
      "[LightGBM] [Warning] categorical_feature is set=Type,Breed1,Breed2,Gender,Color1,Color2,Color3,State, categorical_column=2,4,5,6,7,8,9,18 will be ignored. Current value: categorical_feature=Type,Breed1,Breed2,Gender,Color1,Color2,Color3,State\n"
     ]
    },
    {
     "data": {
      "text/html": [
       "<div>\n",
       "<style scoped>\n",
       "    .dataframe tbody tr th:only-of-type {\n",
       "        vertical-align: middle;\n",
       "    }\n",
       "\n",
       "    .dataframe tbody tr th {\n",
       "        vertical-align: top;\n",
       "    }\n",
       "\n",
       "    .dataframe thead th {\n",
       "        text-align: right;\n",
       "    }\n",
       "</style>\n",
       "<table border=\"1\" class=\"dataframe\">\n",
       "  <thead>\n",
       "    <tr style=\"text-align: right;\">\n",
       "      <th></th>\n",
       "      <th>Model</th>\n",
       "      <th>Cohen's Kappa Score</th>\n",
       "    </tr>\n",
       "  </thead>\n",
       "  <tbody>\n",
       "    <tr>\n",
       "      <th>0</th>\n",
       "      <td>LGBM Regressor</td>\n",
       "      <td>0.405032</td>\n",
       "    </tr>\n",
       "    <tr>\n",
       "      <th>1</th>\n",
       "      <td>CatBoost Regressor</td>\n",
       "      <td>0.406217</td>\n",
       "    </tr>\n",
       "  </tbody>\n",
       "</table>\n",
       "</div>"
      ],
      "text/plain": [
       "                Model  Cohen's Kappa Score\n",
       "0      LGBM Regressor             0.405032\n",
       "1  CatBoost Regressor             0.406217"
      ]
     },
     "execution_count": 68,
     "metadata": {},
     "output_type": "execute_result"
    }
   ],
   "source": [
    "# basic + bert + breed + beit + meta + senti + txt\n",
    "bert=True\n",
    "beit=True\n",
    "breed=True\n",
    "txt=True\n",
    "meta=True\n",
    "senti=True\n",
    "newcols=False\n",
    "pca_bert=200\n",
    "pca_breed=200\n",
    "X_train, X_test, y_train, y_test = PreProcess(\n",
    "    df, bert, beit, breed, txt, meta, senti, newcols, pca_bert, pca_breed\n",
    ")\n",
    "result = quick_check_regression(X_train, X_test, y_train, y_test)\n",
    "result"
   ]
  },
  {
   "cell_type": "code",
   "execution_count": 69,
   "id": "ed427a9a-2038-47f5-8842-7683c49914cf",
   "metadata": {},
   "outputs": [
    {
     "name": "stdout",
     "output_type": "stream",
     "text": [
      "[LightGBM] [Warning] categorical_feature is set=Type,Breed1,Breed2,Gender,Color1,Color2,Color3,State, categorical_column=2,4,5,6,7,8,9,18 will be ignored. Current value: categorical_feature=Type,Breed1,Breed2,Gender,Color1,Color2,Color3,State\n"
     ]
    },
    {
     "data": {
      "text/html": [
       "<div>\n",
       "<style scoped>\n",
       "    .dataframe tbody tr th:only-of-type {\n",
       "        vertical-align: middle;\n",
       "    }\n",
       "\n",
       "    .dataframe tbody tr th {\n",
       "        vertical-align: top;\n",
       "    }\n",
       "\n",
       "    .dataframe thead th {\n",
       "        text-align: right;\n",
       "    }\n",
       "</style>\n",
       "<table border=\"1\" class=\"dataframe\">\n",
       "  <thead>\n",
       "    <tr style=\"text-align: right;\">\n",
       "      <th></th>\n",
       "      <th>Model</th>\n",
       "      <th>Cohen's Kappa Score</th>\n",
       "    </tr>\n",
       "  </thead>\n",
       "  <tbody>\n",
       "    <tr>\n",
       "      <th>0</th>\n",
       "      <td>LGBM Regressor</td>\n",
       "      <td>0.360156</td>\n",
       "    </tr>\n",
       "    <tr>\n",
       "      <th>1</th>\n",
       "      <td>CatBoost Regressor</td>\n",
       "      <td>0.352124</td>\n",
       "    </tr>\n",
       "  </tbody>\n",
       "</table>\n",
       "</div>"
      ],
      "text/plain": [
       "                Model  Cohen's Kappa Score\n",
       "0      LGBM Regressor             0.360156\n",
       "1  CatBoost Regressor             0.352124"
      ]
     },
     "execution_count": 69,
     "metadata": {},
     "output_type": "execute_result"
    }
   ],
   "source": [
    "# basic + meta + txt\n",
    "bert=False\n",
    "beit=False\n",
    "breed=False\n",
    "txt=True\n",
    "meta=True\n",
    "senti=False\n",
    "newcols=False\n",
    "pca_bert=200\n",
    "pca_breed=200\n",
    "X_train, X_test, y_train, y_test = PreProcess(\n",
    "    df, bert, beit, breed, txt, meta, senti, newcols, pca_bert, pca_breed\n",
    ")\n",
    "result = quick_check_regression(X_train, X_test, y_train, y_test)\n",
    "result"
   ]
  },
  {
   "cell_type": "code",
   "execution_count": 70,
   "id": "6c00583e-0be1-4c86-9fea-2d18e5bf6113",
   "metadata": {},
   "outputs": [
    {
     "name": "stdout",
     "output_type": "stream",
     "text": [
      "[LightGBM] [Warning] categorical_feature is set=Type,Breed1,Breed2,Gender,Color1,Color2,Color3,State, categorical_column=2,4,5,6,7,8,9,18 will be ignored. Current value: categorical_feature=Type,Breed1,Breed2,Gender,Color1,Color2,Color3,State\n"
     ]
    },
    {
     "data": {
      "text/html": [
       "<div>\n",
       "<style scoped>\n",
       "    .dataframe tbody tr th:only-of-type {\n",
       "        vertical-align: middle;\n",
       "    }\n",
       "\n",
       "    .dataframe tbody tr th {\n",
       "        vertical-align: top;\n",
       "    }\n",
       "\n",
       "    .dataframe thead th {\n",
       "        text-align: right;\n",
       "    }\n",
       "</style>\n",
       "<table border=\"1\" class=\"dataframe\">\n",
       "  <thead>\n",
       "    <tr style=\"text-align: right;\">\n",
       "      <th></th>\n",
       "      <th>Model</th>\n",
       "      <th>Cohen's Kappa Score</th>\n",
       "    </tr>\n",
       "  </thead>\n",
       "  <tbody>\n",
       "    <tr>\n",
       "      <th>0</th>\n",
       "      <td>LGBM Regressor</td>\n",
       "      <td>0.409855</td>\n",
       "    </tr>\n",
       "    <tr>\n",
       "      <th>1</th>\n",
       "      <td>CatBoost Regressor</td>\n",
       "      <td>0.412510</td>\n",
       "    </tr>\n",
       "  </tbody>\n",
       "</table>\n",
       "</div>"
      ],
      "text/plain": [
       "                Model  Cohen's Kappa Score\n",
       "0      LGBM Regressor             0.409855\n",
       "1  CatBoost Regressor             0.412510"
      ]
     },
     "execution_count": 70,
     "metadata": {},
     "output_type": "execute_result"
    }
   ],
   "source": [
    "# basic + bert + breed + beit + meta + txt\n",
    "bert=True\n",
    "beit=True\n",
    "breed=True\n",
    "txt=True\n",
    "meta=True\n",
    "senti=False\n",
    "newcols=False\n",
    "pca_bert=200\n",
    "pca_breed=200\n",
    "X_train, X_test, y_train, y_test = PreProcess(\n",
    "    df, bert, beit, breed, txt, meta, senti, newcols, pca_bert, pca_breed\n",
    ")\n",
    "result = quick_check_regression(X_train, X_test, y_train, y_test)\n",
    "result"
   ]
  },
  {
   "cell_type": "code",
   "execution_count": 151,
   "id": "cdaca5d1-f8b3-42a4-bf8a-5423ef116883",
   "metadata": {},
   "outputs": [
    {
     "name": "stdout",
     "output_type": "stream",
     "text": [
      "[LightGBM] [Warning] categorical_feature is set=Type,Breed1,Breed2,Gender,Color1,Color2,Color3,State, categorical_column=2,4,5,6,7,8,9,18 will be ignored. Current value: categorical_feature=Type,Breed1,Breed2,Gender,Color1,Color2,Color3,State\n"
     ]
    },
    {
     "data": {
      "text/html": [
       "<div>\n",
       "<style scoped>\n",
       "    .dataframe tbody tr th:only-of-type {\n",
       "        vertical-align: middle;\n",
       "    }\n",
       "\n",
       "    .dataframe tbody tr th {\n",
       "        vertical-align: top;\n",
       "    }\n",
       "\n",
       "    .dataframe thead th {\n",
       "        text-align: right;\n",
       "    }\n",
       "</style>\n",
       "<table border=\"1\" class=\"dataframe\">\n",
       "  <thead>\n",
       "    <tr style=\"text-align: right;\">\n",
       "      <th></th>\n",
       "      <th>Model</th>\n",
       "      <th>Cohen's Kappa Score</th>\n",
       "    </tr>\n",
       "  </thead>\n",
       "  <tbody>\n",
       "    <tr>\n",
       "      <th>0</th>\n",
       "      <td>LGBM Regressor</td>\n",
       "      <td>0.377743</td>\n",
       "    </tr>\n",
       "    <tr>\n",
       "      <th>1</th>\n",
       "      <td>CatBoost Regressor</td>\n",
       "      <td>0.378388</td>\n",
       "    </tr>\n",
       "  </tbody>\n",
       "</table>\n",
       "</div>"
      ],
      "text/plain": [
       "                Model  Cohen's Kappa Score\n",
       "0      LGBM Regressor             0.377743\n",
       "1  CatBoost Regressor             0.378388"
      ]
     },
     "execution_count": 151,
     "metadata": {},
     "output_type": "execute_result"
    }
   ],
   "source": [
    "# basic + senti + txt\n",
    "bert=False\n",
    "beit=False\n",
    "breed=False\n",
    "txt=True\n",
    "meta=False\n",
    "senti=True\n",
    "newcols=False\n",
    "pca_bert=200\n",
    "pca_breed=200\n",
    "X_train, X_test, y_train, y_test = PreProcess(\n",
    "    df, bert, beit, breed, txt, meta, senti, newcols, pca_bert, pca_breed\n",
    ")\n",
    "result = quick_check_regression(X_train, X_test, y_train, y_test)\n",
    "result"
   ]
  },
  {
   "cell_type": "code",
   "execution_count": 152,
   "id": "75a6075d-0269-4f95-8e2c-c81214bfa305",
   "metadata": {},
   "outputs": [
    {
     "name": "stdout",
     "output_type": "stream",
     "text": [
      "[LightGBM] [Warning] categorical_feature is set=Type,Breed1,Breed2,Gender,Color1,Color2,Color3,State, categorical_column=2,4,5,6,7,8,9,18 will be ignored. Current value: categorical_feature=Type,Breed1,Breed2,Gender,Color1,Color2,Color3,State\n"
     ]
    },
    {
     "data": {
      "text/html": [
       "<div>\n",
       "<style scoped>\n",
       "    .dataframe tbody tr th:only-of-type {\n",
       "        vertical-align: middle;\n",
       "    }\n",
       "\n",
       "    .dataframe tbody tr th {\n",
       "        vertical-align: top;\n",
       "    }\n",
       "\n",
       "    .dataframe thead th {\n",
       "        text-align: right;\n",
       "    }\n",
       "</style>\n",
       "<table border=\"1\" class=\"dataframe\">\n",
       "  <thead>\n",
       "    <tr style=\"text-align: right;\">\n",
       "      <th></th>\n",
       "      <th>Model</th>\n",
       "      <th>Cohen's Kappa Score</th>\n",
       "    </tr>\n",
       "  </thead>\n",
       "  <tbody>\n",
       "    <tr>\n",
       "      <th>0</th>\n",
       "      <td>LGBM Regressor</td>\n",
       "      <td>0.367796</td>\n",
       "    </tr>\n",
       "    <tr>\n",
       "      <th>1</th>\n",
       "      <td>CatBoost Regressor</td>\n",
       "      <td>0.376578</td>\n",
       "    </tr>\n",
       "  </tbody>\n",
       "</table>\n",
       "</div>"
      ],
      "text/plain": [
       "                Model  Cohen's Kappa Score\n",
       "0      LGBM Regressor             0.367796\n",
       "1  CatBoost Regressor             0.376578"
      ]
     },
     "execution_count": 152,
     "metadata": {},
     "output_type": "execute_result"
    }
   ],
   "source": [
    "# basic + bert + breed + meta + senti + txt\n",
    "bert=True\n",
    "beit=False\n",
    "breed=True\n",
    "txt=True\n",
    "meta=True\n",
    "senti=True\n",
    "newcols=False\n",
    "pca_bert=200\n",
    "pca_breed=200\n",
    "X_train, X_test, y_train, y_test = PreProcess(\n",
    "    df, bert, beit, breed, txt, meta, senti, newcols, pca_bert, pca_breed\n",
    ")\n",
    "result = quick_check_regression(X_train, X_test, y_train, y_test)\n",
    "result"
   ]
  },
  {
   "cell_type": "code",
   "execution_count": 153,
   "id": "1d82656a-e496-482f-ac42-4d68e058f24f",
   "metadata": {},
   "outputs": [
    {
     "name": "stdout",
     "output_type": "stream",
     "text": [
      "[LightGBM] [Warning] categorical_feature is set=Type,Breed1,Breed2,Gender,Color1,Color2,Color3,State, categorical_column=2,4,5,6,7,8,9,18 will be ignored. Current value: categorical_feature=Type,Breed1,Breed2,Gender,Color1,Color2,Color3,State\n"
     ]
    },
    {
     "data": {
      "text/html": [
       "<div>\n",
       "<style scoped>\n",
       "    .dataframe tbody tr th:only-of-type {\n",
       "        vertical-align: middle;\n",
       "    }\n",
       "\n",
       "    .dataframe tbody tr th {\n",
       "        vertical-align: top;\n",
       "    }\n",
       "\n",
       "    .dataframe thead th {\n",
       "        text-align: right;\n",
       "    }\n",
       "</style>\n",
       "<table border=\"1\" class=\"dataframe\">\n",
       "  <thead>\n",
       "    <tr style=\"text-align: right;\">\n",
       "      <th></th>\n",
       "      <th>Model</th>\n",
       "      <th>Cohen's Kappa Score</th>\n",
       "    </tr>\n",
       "  </thead>\n",
       "  <tbody>\n",
       "    <tr>\n",
       "      <th>0</th>\n",
       "      <td>LGBM Regressor</td>\n",
       "      <td>0.410855</td>\n",
       "    </tr>\n",
       "    <tr>\n",
       "      <th>1</th>\n",
       "      <td>CatBoost Regressor</td>\n",
       "      <td>0.394259</td>\n",
       "    </tr>\n",
       "  </tbody>\n",
       "</table>\n",
       "</div>"
      ],
      "text/plain": [
       "                Model  Cohen's Kappa Score\n",
       "0      LGBM Regressor             0.410855\n",
       "1  CatBoost Regressor             0.394259"
      ]
     },
     "execution_count": 153,
     "metadata": {},
     "output_type": "execute_result"
    }
   ],
   "source": [
    "# basic + beit + meta + senti + txt\n",
    "bert=False\n",
    "beit=True\n",
    "breed=False\n",
    "txt=True\n",
    "meta=True\n",
    "senti=True\n",
    "newcols=False\n",
    "pca_bert=200\n",
    "pca_breed=200\n",
    "X_train, X_test, y_train, y_test = PreProcess(\n",
    "    df, bert, beit, breed, txt, meta, senti, newcols, pca_bert, pca_breed\n",
    ")\n",
    "result = quick_check_regression(X_train, X_test, y_train, y_test)\n",
    "result"
   ]
  },
  {
   "cell_type": "code",
   "execution_count": null,
   "id": "b5701e3e-9963-4a3e-a0d0-ab6e3c7cd9b6",
   "metadata": {},
   "outputs": [],
   "source": []
  },
  {
   "cell_type": "markdown",
   "id": "84c49eb8-ee0f-4cbe-b1c4-ef5195ac12c5",
   "metadata": {},
   "source": [
    "## advanced (always have newcols)"
   ]
  },
  {
   "cell_type": "code",
   "execution_count": 71,
   "id": "19534eb5-e8f2-453d-997c-88c41798de58",
   "metadata": {},
   "outputs": [
    {
     "name": "stdout",
     "output_type": "stream",
     "text": [
      "[LightGBM] [Warning] categorical_feature is set=Type,Breed1,Breed2,Gender,Color1,Color2,Color3,State, categorical_column=2,4,5,6,7,8,9,18 will be ignored. Current value: categorical_feature=Type,Breed1,Breed2,Gender,Color1,Color2,Color3,State\n"
     ]
    },
    {
     "data": {
      "text/html": [
       "<div>\n",
       "<style scoped>\n",
       "    .dataframe tbody tr th:only-of-type {\n",
       "        vertical-align: middle;\n",
       "    }\n",
       "\n",
       "    .dataframe tbody tr th {\n",
       "        vertical-align: top;\n",
       "    }\n",
       "\n",
       "    .dataframe thead th {\n",
       "        text-align: right;\n",
       "    }\n",
       "</style>\n",
       "<table border=\"1\" class=\"dataframe\">\n",
       "  <thead>\n",
       "    <tr style=\"text-align: right;\">\n",
       "      <th></th>\n",
       "      <th>Model</th>\n",
       "      <th>Cohen's Kappa Score</th>\n",
       "    </tr>\n",
       "  </thead>\n",
       "  <tbody>\n",
       "    <tr>\n",
       "      <th>0</th>\n",
       "      <td>LGBM Regressor</td>\n",
       "      <td>0.406922</td>\n",
       "    </tr>\n",
       "    <tr>\n",
       "      <th>1</th>\n",
       "      <td>CatBoost Regressor</td>\n",
       "      <td>0.404311</td>\n",
       "    </tr>\n",
       "  </tbody>\n",
       "</table>\n",
       "</div>"
      ],
      "text/plain": [
       "                Model  Cohen's Kappa Score\n",
       "0      LGBM Regressor             0.406922\n",
       "1  CatBoost Regressor             0.404311"
      ]
     },
     "execution_count": 71,
     "metadata": {},
     "output_type": "execute_result"
    }
   ],
   "source": [
    "# advanced\n",
    "bert=False\n",
    "beit=False\n",
    "breed=False\n",
    "txt=False\n",
    "meta=False\n",
    "senti=False\n",
    "newcols=True\n",
    "pca_bert=200\n",
    "pca_breed=200\n",
    "X_train, X_test, y_train, y_test = PreProcess(\n",
    "    df, bert, beit, breed, txt, meta, senti, newcols, pca_bert, pca_breed\n",
    ")\n",
    "result = quick_check_regression(X_train, X_test, y_train, y_test)\n",
    "result"
   ]
  },
  {
   "cell_type": "code",
   "execution_count": 72,
   "id": "a1af890b-da1e-4dd6-a7b7-f3399f0e9cc9",
   "metadata": {},
   "outputs": [
    {
     "name": "stdout",
     "output_type": "stream",
     "text": [
      "[LightGBM] [Warning] categorical_feature is set=Type,Breed1,Breed2,Gender,Color1,Color2,Color3,State, categorical_column=2,4,5,6,7,8,9,18 will be ignored. Current value: categorical_feature=Type,Breed1,Breed2,Gender,Color1,Color2,Color3,State\n"
     ]
    },
    {
     "data": {
      "text/html": [
       "<div>\n",
       "<style scoped>\n",
       "    .dataframe tbody tr th:only-of-type {\n",
       "        vertical-align: middle;\n",
       "    }\n",
       "\n",
       "    .dataframe tbody tr th {\n",
       "        vertical-align: top;\n",
       "    }\n",
       "\n",
       "    .dataframe thead th {\n",
       "        text-align: right;\n",
       "    }\n",
       "</style>\n",
       "<table border=\"1\" class=\"dataframe\">\n",
       "  <thead>\n",
       "    <tr style=\"text-align: right;\">\n",
       "      <th></th>\n",
       "      <th>Model</th>\n",
       "      <th>Cohen's Kappa Score</th>\n",
       "    </tr>\n",
       "  </thead>\n",
       "  <tbody>\n",
       "    <tr>\n",
       "      <th>0</th>\n",
       "      <td>LGBM Regressor</td>\n",
       "      <td>0.413553</td>\n",
       "    </tr>\n",
       "    <tr>\n",
       "      <th>1</th>\n",
       "      <td>CatBoost Regressor</td>\n",
       "      <td>0.407842</td>\n",
       "    </tr>\n",
       "  </tbody>\n",
       "</table>\n",
       "</div>"
      ],
      "text/plain": [
       "                Model  Cohen's Kappa Score\n",
       "0      LGBM Regressor             0.413553\n",
       "1  CatBoost Regressor             0.407842"
      ]
     },
     "execution_count": 72,
     "metadata": {},
     "output_type": "execute_result"
    }
   ],
   "source": [
    "# advanced + bert\n",
    "bert=True\n",
    "beit=False\n",
    "breed=False\n",
    "txt=False\n",
    "meta=False\n",
    "senti=False\n",
    "newcols=True\n",
    "pca_bert=200\n",
    "pca_breed=200\n",
    "X_train, X_test, y_train, y_test = PreProcess(\n",
    "    df, bert, beit, breed, txt, meta, senti, newcols, pca_bert, pca_breed\n",
    ")\n",
    "result = quick_check_regression(X_train, X_test, y_train, y_test)\n",
    "result"
   ]
  },
  {
   "cell_type": "code",
   "execution_count": 73,
   "id": "8044bc91-a414-4fcf-a414-8497fb75ae07",
   "metadata": {},
   "outputs": [
    {
     "name": "stdout",
     "output_type": "stream",
     "text": [
      "[LightGBM] [Warning] categorical_feature is set=Type,Breed1,Breed2,Gender,Color1,Color2,Color3,State, categorical_column=2,4,5,6,7,8,9,18 will be ignored. Current value: categorical_feature=Type,Breed1,Breed2,Gender,Color1,Color2,Color3,State\n"
     ]
    },
    {
     "data": {
      "text/html": [
       "<div>\n",
       "<style scoped>\n",
       "    .dataframe tbody tr th:only-of-type {\n",
       "        vertical-align: middle;\n",
       "    }\n",
       "\n",
       "    .dataframe tbody tr th {\n",
       "        vertical-align: top;\n",
       "    }\n",
       "\n",
       "    .dataframe thead th {\n",
       "        text-align: right;\n",
       "    }\n",
       "</style>\n",
       "<table border=\"1\" class=\"dataframe\">\n",
       "  <thead>\n",
       "    <tr style=\"text-align: right;\">\n",
       "      <th></th>\n",
       "      <th>Model</th>\n",
       "      <th>Cohen's Kappa Score</th>\n",
       "    </tr>\n",
       "  </thead>\n",
       "  <tbody>\n",
       "    <tr>\n",
       "      <th>0</th>\n",
       "      <td>LGBM Regressor</td>\n",
       "      <td>0.396696</td>\n",
       "    </tr>\n",
       "    <tr>\n",
       "      <th>1</th>\n",
       "      <td>CatBoost Regressor</td>\n",
       "      <td>0.395192</td>\n",
       "    </tr>\n",
       "  </tbody>\n",
       "</table>\n",
       "</div>"
      ],
      "text/plain": [
       "                Model  Cohen's Kappa Score\n",
       "0      LGBM Regressor             0.396696\n",
       "1  CatBoost Regressor             0.395192"
      ]
     },
     "execution_count": 73,
     "metadata": {},
     "output_type": "execute_result"
    }
   ],
   "source": [
    "# advanced + bert + breed\n",
    "bert=True\n",
    "beit=False\n",
    "breed=True\n",
    "txt=False\n",
    "meta=False\n",
    "senti=False\n",
    "newcols=True\n",
    "pca_bert=200\n",
    "pca_breed=200\n",
    "X_train, X_test, y_train, y_test = PreProcess(\n",
    "    df, bert, beit, breed, txt, meta, senti, newcols, pca_bert, pca_breed\n",
    ")\n",
    "result = quick_check_regression(X_train, X_test, y_train, y_test)\n",
    "result"
   ]
  },
  {
   "cell_type": "code",
   "execution_count": 74,
   "id": "a4e95c90-ca9d-47cc-82f9-68829cad9753",
   "metadata": {},
   "outputs": [
    {
     "name": "stdout",
     "output_type": "stream",
     "text": [
      "[LightGBM] [Warning] categorical_feature is set=Type,Breed1,Breed2,Gender,Color1,Color2,Color3,State, categorical_column=2,4,5,6,7,8,9,18 will be ignored. Current value: categorical_feature=Type,Breed1,Breed2,Gender,Color1,Color2,Color3,State\n"
     ]
    },
    {
     "data": {
      "text/html": [
       "<div>\n",
       "<style scoped>\n",
       "    .dataframe tbody tr th:only-of-type {\n",
       "        vertical-align: middle;\n",
       "    }\n",
       "\n",
       "    .dataframe tbody tr th {\n",
       "        vertical-align: top;\n",
       "    }\n",
       "\n",
       "    .dataframe thead th {\n",
       "        text-align: right;\n",
       "    }\n",
       "</style>\n",
       "<table border=\"1\" class=\"dataframe\">\n",
       "  <thead>\n",
       "    <tr style=\"text-align: right;\">\n",
       "      <th></th>\n",
       "      <th>Model</th>\n",
       "      <th>Cohen's Kappa Score</th>\n",
       "    </tr>\n",
       "  </thead>\n",
       "  <tbody>\n",
       "    <tr>\n",
       "      <th>0</th>\n",
       "      <td>LGBM Regressor</td>\n",
       "      <td>0.422636</td>\n",
       "    </tr>\n",
       "    <tr>\n",
       "      <th>1</th>\n",
       "      <td>CatBoost Regressor</td>\n",
       "      <td>0.429826</td>\n",
       "    </tr>\n",
       "  </tbody>\n",
       "</table>\n",
       "</div>"
      ],
      "text/plain": [
       "                Model  Cohen's Kappa Score\n",
       "0      LGBM Regressor             0.422636\n",
       "1  CatBoost Regressor             0.429826"
      ]
     },
     "execution_count": 74,
     "metadata": {},
     "output_type": "execute_result"
    }
   ],
   "source": [
    "# advanced + beit\n",
    "bert=False\n",
    "beit=True\n",
    "breed=False\n",
    "txt=False\n",
    "meta=False\n",
    "senti=False\n",
    "newcols=True\n",
    "pca_bert=200\n",
    "pca_breed=200\n",
    "X_train, X_test, y_train, y_test = PreProcess(\n",
    "    df, bert, beit, breed, txt, meta, senti, newcols, pca_bert, pca_breed\n",
    ")\n",
    "result = quick_check_regression(X_train, X_test, y_train, y_test)\n",
    "result"
   ]
  },
  {
   "cell_type": "code",
   "execution_count": 75,
   "id": "9fe920e2-88e0-4c9e-8ce8-7b4709e9de6b",
   "metadata": {},
   "outputs": [
    {
     "name": "stdout",
     "output_type": "stream",
     "text": [
      "[LightGBM] [Warning] categorical_feature is set=Type,Breed1,Breed2,Gender,Color1,Color2,Color3,State, categorical_column=2,4,5,6,7,8,9,18 will be ignored. Current value: categorical_feature=Type,Breed1,Breed2,Gender,Color1,Color2,Color3,State\n"
     ]
    },
    {
     "data": {
      "text/html": [
       "<div>\n",
       "<style scoped>\n",
       "    .dataframe tbody tr th:only-of-type {\n",
       "        vertical-align: middle;\n",
       "    }\n",
       "\n",
       "    .dataframe tbody tr th {\n",
       "        vertical-align: top;\n",
       "    }\n",
       "\n",
       "    .dataframe thead th {\n",
       "        text-align: right;\n",
       "    }\n",
       "</style>\n",
       "<table border=\"1\" class=\"dataframe\">\n",
       "  <thead>\n",
       "    <tr style=\"text-align: right;\">\n",
       "      <th></th>\n",
       "      <th>Model</th>\n",
       "      <th>Cohen's Kappa Score</th>\n",
       "    </tr>\n",
       "  </thead>\n",
       "  <tbody>\n",
       "    <tr>\n",
       "      <th>0</th>\n",
       "      <td>LGBM Regressor</td>\n",
       "      <td>0.402215</td>\n",
       "    </tr>\n",
       "    <tr>\n",
       "      <th>1</th>\n",
       "      <td>CatBoost Regressor</td>\n",
       "      <td>0.411624</td>\n",
       "    </tr>\n",
       "  </tbody>\n",
       "</table>\n",
       "</div>"
      ],
      "text/plain": [
       "                Model  Cohen's Kappa Score\n",
       "0      LGBM Regressor             0.402215\n",
       "1  CatBoost Regressor             0.411624"
      ]
     },
     "execution_count": 75,
     "metadata": {},
     "output_type": "execute_result"
    }
   ],
   "source": [
    "# advanced + senti\n",
    "bert=False\n",
    "beit=False\n",
    "breed=False\n",
    "txt=False\n",
    "meta=False\n",
    "senti=True\n",
    "newcols=True\n",
    "pca_bert=200\n",
    "pca_breed=200\n",
    "X_train, X_test, y_train, y_test = PreProcess(\n",
    "    df, bert, beit, breed, txt, meta, senti, newcols, pca_bert, pca_breed\n",
    ")\n",
    "result = quick_check_regression(X_train, X_test, y_train, y_test)\n",
    "result"
   ]
  },
  {
   "cell_type": "code",
   "execution_count": 76,
   "id": "1fda2876-b945-440c-b48c-2463133f26fd",
   "metadata": {},
   "outputs": [
    {
     "name": "stdout",
     "output_type": "stream",
     "text": [
      "[LightGBM] [Warning] categorical_feature is set=Type,Breed1,Breed2,Gender,Color1,Color2,Color3,State, categorical_column=2,4,5,6,7,8,9,18 will be ignored. Current value: categorical_feature=Type,Breed1,Breed2,Gender,Color1,Color2,Color3,State\n"
     ]
    },
    {
     "data": {
      "text/html": [
       "<div>\n",
       "<style scoped>\n",
       "    .dataframe tbody tr th:only-of-type {\n",
       "        vertical-align: middle;\n",
       "    }\n",
       "\n",
       "    .dataframe tbody tr th {\n",
       "        vertical-align: top;\n",
       "    }\n",
       "\n",
       "    .dataframe thead th {\n",
       "        text-align: right;\n",
       "    }\n",
       "</style>\n",
       "<table border=\"1\" class=\"dataframe\">\n",
       "  <thead>\n",
       "    <tr style=\"text-align: right;\">\n",
       "      <th></th>\n",
       "      <th>Model</th>\n",
       "      <th>Cohen's Kappa Score</th>\n",
       "    </tr>\n",
       "  </thead>\n",
       "  <tbody>\n",
       "    <tr>\n",
       "      <th>0</th>\n",
       "      <td>LGBM Regressor</td>\n",
       "      <td>0.384582</td>\n",
       "    </tr>\n",
       "    <tr>\n",
       "      <th>1</th>\n",
       "      <td>CatBoost Regressor</td>\n",
       "      <td>0.387458</td>\n",
       "    </tr>\n",
       "  </tbody>\n",
       "</table>\n",
       "</div>"
      ],
      "text/plain": [
       "                Model  Cohen's Kappa Score\n",
       "0      LGBM Regressor             0.384582\n",
       "1  CatBoost Regressor             0.387458"
      ]
     },
     "execution_count": 76,
     "metadata": {},
     "output_type": "execute_result"
    }
   ],
   "source": [
    "# advanced + meta\n",
    "bert=False\n",
    "beit=False\n",
    "breed=False\n",
    "txt=False\n",
    "meta=True\n",
    "senti=False\n",
    "newcols=True\n",
    "pca_bert=200\n",
    "pca_breed=200\n",
    "X_train, X_test, y_train, y_test = PreProcess(\n",
    "    df, bert, beit, breed, txt, meta, senti, newcols, pca_bert, pca_breed\n",
    ")\n",
    "result = quick_check_regression(X_train, X_test, y_train, y_test)\n",
    "result"
   ]
  },
  {
   "cell_type": "code",
   "execution_count": 77,
   "id": "b7735b5f-eaae-409d-9bce-f448f6dc01ff",
   "metadata": {},
   "outputs": [
    {
     "name": "stdout",
     "output_type": "stream",
     "text": [
      "[LightGBM] [Warning] categorical_feature is set=Type,Breed1,Breed2,Gender,Color1,Color2,Color3,State, categorical_column=2,4,5,6,7,8,9,18 will be ignored. Current value: categorical_feature=Type,Breed1,Breed2,Gender,Color1,Color2,Color3,State\n"
     ]
    },
    {
     "data": {
      "text/html": [
       "<div>\n",
       "<style scoped>\n",
       "    .dataframe tbody tr th:only-of-type {\n",
       "        vertical-align: middle;\n",
       "    }\n",
       "\n",
       "    .dataframe tbody tr th {\n",
       "        vertical-align: top;\n",
       "    }\n",
       "\n",
       "    .dataframe thead th {\n",
       "        text-align: right;\n",
       "    }\n",
       "</style>\n",
       "<table border=\"1\" class=\"dataframe\">\n",
       "  <thead>\n",
       "    <tr style=\"text-align: right;\">\n",
       "      <th></th>\n",
       "      <th>Model</th>\n",
       "      <th>Cohen's Kappa Score</th>\n",
       "    </tr>\n",
       "  </thead>\n",
       "  <tbody>\n",
       "    <tr>\n",
       "      <th>0</th>\n",
       "      <td>LGBM Regressor</td>\n",
       "      <td>0.395401</td>\n",
       "    </tr>\n",
       "    <tr>\n",
       "      <th>1</th>\n",
       "      <td>CatBoost Regressor</td>\n",
       "      <td>0.396109</td>\n",
       "    </tr>\n",
       "  </tbody>\n",
       "</table>\n",
       "</div>"
      ],
      "text/plain": [
       "                Model  Cohen's Kappa Score\n",
       "0      LGBM Regressor             0.395401\n",
       "1  CatBoost Regressor             0.396109"
      ]
     },
     "execution_count": 77,
     "metadata": {},
     "output_type": "execute_result"
    }
   ],
   "source": [
    "# advanced + meta + senti\n",
    "bert=False\n",
    "beit=False\n",
    "breed=False\n",
    "txt=False\n",
    "meta=True\n",
    "senti=True\n",
    "newcols=True\n",
    "pca_bert=200\n",
    "pca_breed=200\n",
    "X_train, X_test, y_train, y_test = PreProcess(\n",
    "    df, bert, beit, breed, txt, meta, senti, newcols, pca_bert, pca_breed\n",
    ")\n",
    "result = quick_check_regression(X_train, X_test, y_train, y_test)\n",
    "result"
   ]
  },
  {
   "cell_type": "code",
   "execution_count": 78,
   "id": "03cfe0ae-19fa-4a13-b13f-8d3037130c3f",
   "metadata": {},
   "outputs": [
    {
     "name": "stdout",
     "output_type": "stream",
     "text": [
      "[LightGBM] [Warning] categorical_feature is set=Type,Breed1,Breed2,Gender,Color1,Color2,Color3,State, categorical_column=2,4,5,6,7,8,9,18 will be ignored. Current value: categorical_feature=Type,Breed1,Breed2,Gender,Color1,Color2,Color3,State\n"
     ]
    },
    {
     "data": {
      "text/html": [
       "<div>\n",
       "<style scoped>\n",
       "    .dataframe tbody tr th:only-of-type {\n",
       "        vertical-align: middle;\n",
       "    }\n",
       "\n",
       "    .dataframe tbody tr th {\n",
       "        vertical-align: top;\n",
       "    }\n",
       "\n",
       "    .dataframe thead th {\n",
       "        text-align: right;\n",
       "    }\n",
       "</style>\n",
       "<table border=\"1\" class=\"dataframe\">\n",
       "  <thead>\n",
       "    <tr style=\"text-align: right;\">\n",
       "      <th></th>\n",
       "      <th>Model</th>\n",
       "      <th>Cohen's Kappa Score</th>\n",
       "    </tr>\n",
       "  </thead>\n",
       "  <tbody>\n",
       "    <tr>\n",
       "      <th>0</th>\n",
       "      <td>LGBM Regressor</td>\n",
       "      <td>0.427444</td>\n",
       "    </tr>\n",
       "    <tr>\n",
       "      <th>1</th>\n",
       "      <td>CatBoost Regressor</td>\n",
       "      <td>0.437551</td>\n",
       "    </tr>\n",
       "  </tbody>\n",
       "</table>\n",
       "</div>"
      ],
      "text/plain": [
       "                Model  Cohen's Kappa Score\n",
       "0      LGBM Regressor             0.427444\n",
       "1  CatBoost Regressor             0.437551"
      ]
     },
     "execution_count": 78,
     "metadata": {},
     "output_type": "execute_result"
    }
   ],
   "source": [
    "# advanced + bert + breed + beit\n",
    "bert=True\n",
    "beit=True\n",
    "breed=True\n",
    "txt=False\n",
    "meta=False\n",
    "senti=False\n",
    "newcols=True\n",
    "pca_bert=200\n",
    "pca_breed=200\n",
    "X_train, X_test, y_train, y_test = PreProcess(\n",
    "    df, bert, beit, breed, txt, meta, senti, newcols, pca_bert, pca_breed\n",
    ")\n",
    "result = quick_check_regression(X_train, X_test, y_train, y_test)\n",
    "result"
   ]
  },
  {
   "cell_type": "code",
   "execution_count": 79,
   "id": "395e72e8-a7e4-49fb-ae00-24fa76a4244f",
   "metadata": {},
   "outputs": [
    {
     "name": "stdout",
     "output_type": "stream",
     "text": [
      "[LightGBM] [Warning] categorical_feature is set=Type,Breed1,Breed2,Gender,Color1,Color2,Color3,State, categorical_column=2,4,5,6,7,8,9,18 will be ignored. Current value: categorical_feature=Type,Breed1,Breed2,Gender,Color1,Color2,Color3,State\n"
     ]
    },
    {
     "data": {
      "text/html": [
       "<div>\n",
       "<style scoped>\n",
       "    .dataframe tbody tr th:only-of-type {\n",
       "        vertical-align: middle;\n",
       "    }\n",
       "\n",
       "    .dataframe tbody tr th {\n",
       "        vertical-align: top;\n",
       "    }\n",
       "\n",
       "    .dataframe thead th {\n",
       "        text-align: right;\n",
       "    }\n",
       "</style>\n",
       "<table border=\"1\" class=\"dataframe\">\n",
       "  <thead>\n",
       "    <tr style=\"text-align: right;\">\n",
       "      <th></th>\n",
       "      <th>Model</th>\n",
       "      <th>Cohen's Kappa Score</th>\n",
       "    </tr>\n",
       "  </thead>\n",
       "  <tbody>\n",
       "    <tr>\n",
       "      <th>0</th>\n",
       "      <td>LGBM Regressor</td>\n",
       "      <td>0.402540</td>\n",
       "    </tr>\n",
       "    <tr>\n",
       "      <th>1</th>\n",
       "      <td>CatBoost Regressor</td>\n",
       "      <td>0.395628</td>\n",
       "    </tr>\n",
       "  </tbody>\n",
       "</table>\n",
       "</div>"
      ],
      "text/plain": [
       "                Model  Cohen's Kappa Score\n",
       "0      LGBM Regressor             0.402540\n",
       "1  CatBoost Regressor             0.395628"
      ]
     },
     "execution_count": 79,
     "metadata": {},
     "output_type": "execute_result"
    }
   ],
   "source": [
    "# advanced + txt\n",
    "bert=False\n",
    "beit=False\n",
    "breed=False\n",
    "txt=True\n",
    "meta=False\n",
    "senti=False\n",
    "newcols=True\n",
    "pca_bert=200\n",
    "pca_breed=200\n",
    "X_train, X_test, y_train, y_test = PreProcess(\n",
    "    df, bert, beit, breed, txt, meta, senti, newcols, pca_bert, pca_breed\n",
    ")\n",
    "result = quick_check_regression(X_train, X_test, y_train, y_test)\n",
    "result"
   ]
  },
  {
   "cell_type": "code",
   "execution_count": 80,
   "id": "01187c75-176d-43c2-869f-820efcbcf731",
   "metadata": {},
   "outputs": [
    {
     "name": "stdout",
     "output_type": "stream",
     "text": [
      "[LightGBM] [Warning] categorical_feature is set=Type,Breed1,Breed2,Gender,Color1,Color2,Color3,State, categorical_column=2,4,5,6,7,8,9,18 will be ignored. Current value: categorical_feature=Type,Breed1,Breed2,Gender,Color1,Color2,Color3,State\n"
     ]
    },
    {
     "data": {
      "text/html": [
       "<div>\n",
       "<style scoped>\n",
       "    .dataframe tbody tr th:only-of-type {\n",
       "        vertical-align: middle;\n",
       "    }\n",
       "\n",
       "    .dataframe tbody tr th {\n",
       "        vertical-align: top;\n",
       "    }\n",
       "\n",
       "    .dataframe thead th {\n",
       "        text-align: right;\n",
       "    }\n",
       "</style>\n",
       "<table border=\"1\" class=\"dataframe\">\n",
       "  <thead>\n",
       "    <tr style=\"text-align: right;\">\n",
       "      <th></th>\n",
       "      <th>Model</th>\n",
       "      <th>Cohen's Kappa Score</th>\n",
       "    </tr>\n",
       "  </thead>\n",
       "  <tbody>\n",
       "    <tr>\n",
       "      <th>0</th>\n",
       "      <td>LGBM Regressor</td>\n",
       "      <td>0.390298</td>\n",
       "    </tr>\n",
       "    <tr>\n",
       "      <th>1</th>\n",
       "      <td>CatBoost Regressor</td>\n",
       "      <td>0.389988</td>\n",
       "    </tr>\n",
       "  </tbody>\n",
       "</table>\n",
       "</div>"
      ],
      "text/plain": [
       "                Model  Cohen's Kappa Score\n",
       "0      LGBM Regressor             0.390298\n",
       "1  CatBoost Regressor             0.389988"
      ]
     },
     "execution_count": 80,
     "metadata": {},
     "output_type": "execute_result"
    }
   ],
   "source": [
    "# advanced + meta + senti + txt\n",
    "bert=False\n",
    "beit=False\n",
    "breed=False\n",
    "txt=True\n",
    "meta=True\n",
    "senti=True\n",
    "newcols=True\n",
    "pca_bert=200\n",
    "pca_breed=200\n",
    "X_train, X_test, y_train, y_test = PreProcess(\n",
    "    df, bert, beit, breed, txt, meta, senti, newcols, pca_bert, pca_breed\n",
    ")\n",
    "result = quick_check_regression(X_train, X_test, y_train, y_test)\n",
    "result"
   ]
  },
  {
   "cell_type": "code",
   "execution_count": 81,
   "id": "1639c74c-86e5-4800-bc5d-eb199361ea99",
   "metadata": {},
   "outputs": [
    {
     "name": "stdout",
     "output_type": "stream",
     "text": [
      "[LightGBM] [Warning] categorical_feature is set=Type,Breed1,Breed2,Gender,Color1,Color2,Color3,State, categorical_column=2,4,5,6,7,8,9,18 will be ignored. Current value: categorical_feature=Type,Breed1,Breed2,Gender,Color1,Color2,Color3,State\n"
     ]
    },
    {
     "data": {
      "text/html": [
       "<div>\n",
       "<style scoped>\n",
       "    .dataframe tbody tr th:only-of-type {\n",
       "        vertical-align: middle;\n",
       "    }\n",
       "\n",
       "    .dataframe tbody tr th {\n",
       "        vertical-align: top;\n",
       "    }\n",
       "\n",
       "    .dataframe thead th {\n",
       "        text-align: right;\n",
       "    }\n",
       "</style>\n",
       "<table border=\"1\" class=\"dataframe\">\n",
       "  <thead>\n",
       "    <tr style=\"text-align: right;\">\n",
       "      <th></th>\n",
       "      <th>Model</th>\n",
       "      <th>Cohen's Kappa Score</th>\n",
       "    </tr>\n",
       "  </thead>\n",
       "  <tbody>\n",
       "    <tr>\n",
       "      <th>0</th>\n",
       "      <td>LGBM Regressor</td>\n",
       "      <td>0.42785</td>\n",
       "    </tr>\n",
       "    <tr>\n",
       "      <th>1</th>\n",
       "      <td>CatBoost Regressor</td>\n",
       "      <td>0.43121</td>\n",
       "    </tr>\n",
       "  </tbody>\n",
       "</table>\n",
       "</div>"
      ],
      "text/plain": [
       "                Model  Cohen's Kappa Score\n",
       "0      LGBM Regressor              0.42785\n",
       "1  CatBoost Regressor              0.43121"
      ]
     },
     "execution_count": 81,
     "metadata": {},
     "output_type": "execute_result"
    }
   ],
   "source": [
    "# advanced + bert + breed + beit + meta + senti + txt (200)\n",
    "bert=True\n",
    "beit=True\n",
    "breed=True\n",
    "txt=True\n",
    "meta=True\n",
    "senti=True\n",
    "newcols=True\n",
    "pca_bert=200\n",
    "pca_breed=200\n",
    "X_train, X_test, y_train, y_test = PreProcess(\n",
    "    df, bert, beit, breed, txt, meta, senti, newcols, pca_bert, pca_breed\n",
    ")\n",
    "result = quick_check_regression(X_train, X_test, y_train, y_test)\n",
    "result"
   ]
  },
  {
   "cell_type": "code",
   "execution_count": 82,
   "id": "2547b9a2-6e5a-4fdb-9e29-c0c4eee5d62e",
   "metadata": {},
   "outputs": [
    {
     "name": "stdout",
     "output_type": "stream",
     "text": [
      "[LightGBM] [Warning] categorical_feature is set=Type,Breed1,Breed2,Gender,Color1,Color2,Color3,State, categorical_column=2,4,5,6,7,8,9,18 will be ignored. Current value: categorical_feature=Type,Breed1,Breed2,Gender,Color1,Color2,Color3,State\n"
     ]
    },
    {
     "data": {
      "text/html": [
       "<div>\n",
       "<style scoped>\n",
       "    .dataframe tbody tr th:only-of-type {\n",
       "        vertical-align: middle;\n",
       "    }\n",
       "\n",
       "    .dataframe tbody tr th {\n",
       "        vertical-align: top;\n",
       "    }\n",
       "\n",
       "    .dataframe thead th {\n",
       "        text-align: right;\n",
       "    }\n",
       "</style>\n",
       "<table border=\"1\" class=\"dataframe\">\n",
       "  <thead>\n",
       "    <tr style=\"text-align: right;\">\n",
       "      <th></th>\n",
       "      <th>Model</th>\n",
       "      <th>Cohen's Kappa Score</th>\n",
       "    </tr>\n",
       "  </thead>\n",
       "  <tbody>\n",
       "    <tr>\n",
       "      <th>0</th>\n",
       "      <td>LGBM Regressor</td>\n",
       "      <td>0.399345</td>\n",
       "    </tr>\n",
       "    <tr>\n",
       "      <th>1</th>\n",
       "      <td>CatBoost Regressor</td>\n",
       "      <td>0.384126</td>\n",
       "    </tr>\n",
       "  </tbody>\n",
       "</table>\n",
       "</div>"
      ],
      "text/plain": [
       "                Model  Cohen's Kappa Score\n",
       "0      LGBM Regressor             0.399345\n",
       "1  CatBoost Regressor             0.384126"
      ]
     },
     "execution_count": 82,
     "metadata": {},
     "output_type": "execute_result"
    }
   ],
   "source": [
    "# advanced + meta + txt\n",
    "bert=False\n",
    "beit=False\n",
    "breed=False\n",
    "txt=True\n",
    "meta=True\n",
    "senti=False\n",
    "newcols=True\n",
    "pca_bert=200\n",
    "pca_breed=200\n",
    "X_train, X_test, y_train, y_test = PreProcess(\n",
    "    df, bert, beit, breed, txt, meta, senti, newcols, pca_bert, pca_breed\n",
    ")\n",
    "result = quick_check_regression(X_train, X_test, y_train, y_test)\n",
    "result"
   ]
  },
  {
   "cell_type": "code",
   "execution_count": 83,
   "id": "d431b7c2-f493-4a7b-bc78-96c45d0e0676",
   "metadata": {},
   "outputs": [
    {
     "name": "stdout",
     "output_type": "stream",
     "text": [
      "[LightGBM] [Warning] categorical_feature is set=Type,Breed1,Breed2,Gender,Color1,Color2,Color3,State, categorical_column=2,4,5,6,7,8,9,18 will be ignored. Current value: categorical_feature=Type,Breed1,Breed2,Gender,Color1,Color2,Color3,State\n"
     ]
    },
    {
     "data": {
      "text/html": [
       "<div>\n",
       "<style scoped>\n",
       "    .dataframe tbody tr th:only-of-type {\n",
       "        vertical-align: middle;\n",
       "    }\n",
       "\n",
       "    .dataframe tbody tr th {\n",
       "        vertical-align: top;\n",
       "    }\n",
       "\n",
       "    .dataframe thead th {\n",
       "        text-align: right;\n",
       "    }\n",
       "</style>\n",
       "<table border=\"1\" class=\"dataframe\">\n",
       "  <thead>\n",
       "    <tr style=\"text-align: right;\">\n",
       "      <th></th>\n",
       "      <th>Model</th>\n",
       "      <th>Cohen's Kappa Score</th>\n",
       "    </tr>\n",
       "  </thead>\n",
       "  <tbody>\n",
       "    <tr>\n",
       "      <th>0</th>\n",
       "      <td>LGBM Regressor</td>\n",
       "      <td>0.429146</td>\n",
       "    </tr>\n",
       "    <tr>\n",
       "      <th>1</th>\n",
       "      <td>CatBoost Regressor</td>\n",
       "      <td>0.441144</td>\n",
       "    </tr>\n",
       "  </tbody>\n",
       "</table>\n",
       "</div>"
      ],
      "text/plain": [
       "                Model  Cohen's Kappa Score\n",
       "0      LGBM Regressor             0.429146\n",
       "1  CatBoost Regressor             0.441144"
      ]
     },
     "execution_count": 83,
     "metadata": {},
     "output_type": "execute_result"
    }
   ],
   "source": [
    "# advanced + bert + breed + beit + meta + txt\n",
    "bert=True\n",
    "beit=True\n",
    "breed=True\n",
    "txt=True\n",
    "meta=True\n",
    "senti=False\n",
    "newcols=True\n",
    "pca_bert=200\n",
    "pca_breed=200\n",
    "X_train, X_test, y_train, y_test = PreProcess(\n",
    "    df, bert, beit, breed, txt, meta, senti, newcols, pca_bert, pca_breed\n",
    ")\n",
    "result = quick_check_regression(X_train, X_test, y_train, y_test)\n",
    "result"
   ]
  },
  {
   "cell_type": "code",
   "execution_count": 84,
   "id": "2f53abc0-4d96-4f72-b787-ab77f86ee16a",
   "metadata": {},
   "outputs": [
    {
     "name": "stdout",
     "output_type": "stream",
     "text": [
      "[LightGBM] [Warning] categorical_feature is set=Type,Breed1,Breed2,Gender,Color1,Color2,Color3,State, categorical_column=2,4,5,6,7,8,9,18 will be ignored. Current value: categorical_feature=Type,Breed1,Breed2,Gender,Color1,Color2,Color3,State\n"
     ]
    },
    {
     "data": {
      "text/html": [
       "<div>\n",
       "<style scoped>\n",
       "    .dataframe tbody tr th:only-of-type {\n",
       "        vertical-align: middle;\n",
       "    }\n",
       "\n",
       "    .dataframe tbody tr th {\n",
       "        vertical-align: top;\n",
       "    }\n",
       "\n",
       "    .dataframe thead th {\n",
       "        text-align: right;\n",
       "    }\n",
       "</style>\n",
       "<table border=\"1\" class=\"dataframe\">\n",
       "  <thead>\n",
       "    <tr style=\"text-align: right;\">\n",
       "      <th></th>\n",
       "      <th>Model</th>\n",
       "      <th>Cohen's Kappa Score</th>\n",
       "    </tr>\n",
       "  </thead>\n",
       "  <tbody>\n",
       "    <tr>\n",
       "      <th>0</th>\n",
       "      <td>LGBM Regressor</td>\n",
       "      <td>0.429301</td>\n",
       "    </tr>\n",
       "    <tr>\n",
       "      <th>1</th>\n",
       "      <td>CatBoost Regressor</td>\n",
       "      <td>0.426544</td>\n",
       "    </tr>\n",
       "  </tbody>\n",
       "</table>\n",
       "</div>"
      ],
      "text/plain": [
       "                Model  Cohen's Kappa Score\n",
       "0      LGBM Regressor             0.429301\n",
       "1  CatBoost Regressor             0.426544"
      ]
     },
     "execution_count": 84,
     "metadata": {},
     "output_type": "execute_result"
    }
   ],
   "source": [
    "# advanced + bert + breed + beit + meta + senti + txt (100)\n",
    "bert=True\n",
    "beit=True\n",
    "breed=True\n",
    "txt=True\n",
    "meta=True\n",
    "senti=True\n",
    "newcols=True\n",
    "pca_bert=100\n",
    "pca_breed=100\n",
    "X_train, X_test, y_train, y_test = PreProcess(\n",
    "    df, bert, beit, breed, txt, meta, senti, newcols, pca_bert, pca_breed\n",
    ")\n",
    "result = quick_check_regression(X_train, X_test, y_train, y_test)\n",
    "result"
   ]
  },
  {
   "cell_type": "code",
   "execution_count": 85,
   "id": "6d474622-edfb-406f-b9ec-ff24d047377c",
   "metadata": {},
   "outputs": [
    {
     "name": "stdout",
     "output_type": "stream",
     "text": [
      "[LightGBM] [Warning] categorical_feature is set=Type,Breed1,Breed2,Gender,Color1,Color2,Color3,State, categorical_column=2,4,5,6,7,8,9,18 will be ignored. Current value: categorical_feature=Type,Breed1,Breed2,Gender,Color1,Color2,Color3,State\n"
     ]
    },
    {
     "data": {
      "text/html": [
       "<div>\n",
       "<style scoped>\n",
       "    .dataframe tbody tr th:only-of-type {\n",
       "        vertical-align: middle;\n",
       "    }\n",
       "\n",
       "    .dataframe tbody tr th {\n",
       "        vertical-align: top;\n",
       "    }\n",
       "\n",
       "    .dataframe thead th {\n",
       "        text-align: right;\n",
       "    }\n",
       "</style>\n",
       "<table border=\"1\" class=\"dataframe\">\n",
       "  <thead>\n",
       "    <tr style=\"text-align: right;\">\n",
       "      <th></th>\n",
       "      <th>Model</th>\n",
       "      <th>Cohen's Kappa Score</th>\n",
       "    </tr>\n",
       "  </thead>\n",
       "  <tbody>\n",
       "    <tr>\n",
       "      <th>0</th>\n",
       "      <td>LGBM Regressor</td>\n",
       "      <td>0.430136</td>\n",
       "    </tr>\n",
       "    <tr>\n",
       "      <th>1</th>\n",
       "      <td>CatBoost Regressor</td>\n",
       "      <td>0.424917</td>\n",
       "    </tr>\n",
       "  </tbody>\n",
       "</table>\n",
       "</div>"
      ],
      "text/plain": [
       "                Model  Cohen's Kappa Score\n",
       "0      LGBM Regressor             0.430136\n",
       "1  CatBoost Regressor             0.424917"
      ]
     },
     "execution_count": 85,
     "metadata": {},
     "output_type": "execute_result"
    }
   ],
   "source": [
    "# advanced + bert + beit + meta + senti + txt (200)\n",
    "bert=True\n",
    "beit=True\n",
    "breed=False\n",
    "txt=True\n",
    "meta=True\n",
    "senti=True\n",
    "newcols=True\n",
    "pca_bert=200\n",
    "pca_breed=200\n",
    "X_train, X_test, y_train, y_test = PreProcess(\n",
    "    df, bert, beit, breed, txt, meta, senti, newcols, pca_bert, pca_breed\n",
    ")\n",
    "result = quick_check_regression(X_train, X_test, y_train, y_test)\n",
    "result"
   ]
  },
  {
   "cell_type": "code",
   "execution_count": 86,
   "id": "ab173ee0-15c1-45dd-aac4-95412f339d2d",
   "metadata": {},
   "outputs": [
    {
     "name": "stdout",
     "output_type": "stream",
     "text": [
      "[LightGBM] [Warning] categorical_feature is set=Type,Breed1,Breed2,Gender,Color1,Color2,Color3,State, categorical_column=2,4,5,6,7,8,9,18 will be ignored. Current value: categorical_feature=Type,Breed1,Breed2,Gender,Color1,Color2,Color3,State\n"
     ]
    },
    {
     "data": {
      "text/html": [
       "<div>\n",
       "<style scoped>\n",
       "    .dataframe tbody tr th:only-of-type {\n",
       "        vertical-align: middle;\n",
       "    }\n",
       "\n",
       "    .dataframe tbody tr th {\n",
       "        vertical-align: top;\n",
       "    }\n",
       "\n",
       "    .dataframe thead th {\n",
       "        text-align: right;\n",
       "    }\n",
       "</style>\n",
       "<table border=\"1\" class=\"dataframe\">\n",
       "  <thead>\n",
       "    <tr style=\"text-align: right;\">\n",
       "      <th></th>\n",
       "      <th>Model</th>\n",
       "      <th>Cohen's Kappa Score</th>\n",
       "    </tr>\n",
       "  </thead>\n",
       "  <tbody>\n",
       "    <tr>\n",
       "      <th>0</th>\n",
       "      <td>LGBM Regressor</td>\n",
       "      <td>0.419004</td>\n",
       "    </tr>\n",
       "    <tr>\n",
       "      <th>1</th>\n",
       "      <td>CatBoost Regressor</td>\n",
       "      <td>0.436655</td>\n",
       "    </tr>\n",
       "  </tbody>\n",
       "</table>\n",
       "</div>"
      ],
      "text/plain": [
       "                Model  Cohen's Kappa Score\n",
       "0      LGBM Regressor             0.419004\n",
       "1  CatBoost Regressor             0.436655"
      ]
     },
     "execution_count": 86,
     "metadata": {},
     "output_type": "execute_result"
    }
   ],
   "source": [
    "# advanced + bert + breed + beit + meta + senti + txt (150)\n",
    "bert=True\n",
    "beit=True\n",
    "breed=True\n",
    "txt=True\n",
    "meta=True\n",
    "senti=True\n",
    "newcols=True\n",
    "pca_bert=150\n",
    "pca_breed=150\n",
    "X_train, X_test, y_train, y_test = PreProcess(\n",
    "    df, bert, beit, breed, txt, meta, senti, newcols, pca_bert, pca_breed\n",
    ")\n",
    "result = quick_check_regression(X_train, X_test, y_train, y_test)\n",
    "result"
   ]
  },
  {
   "cell_type": "code",
   "execution_count": 87,
   "id": "f8520891-07b8-43fa-b744-8e78e99625e4",
   "metadata": {},
   "outputs": [
    {
     "name": "stdout",
     "output_type": "stream",
     "text": [
      "[LightGBM] [Warning] categorical_feature is set=Type,Breed1,Breed2,Gender,Color1,Color2,Color3,State, categorical_column=2,4,5,6,7,8,9,18 will be ignored. Current value: categorical_feature=Type,Breed1,Breed2,Gender,Color1,Color2,Color3,State\n"
     ]
    },
    {
     "data": {
      "text/html": [
       "<div>\n",
       "<style scoped>\n",
       "    .dataframe tbody tr th:only-of-type {\n",
       "        vertical-align: middle;\n",
       "    }\n",
       "\n",
       "    .dataframe tbody tr th {\n",
       "        vertical-align: top;\n",
       "    }\n",
       "\n",
       "    .dataframe thead th {\n",
       "        text-align: right;\n",
       "    }\n",
       "</style>\n",
       "<table border=\"1\" class=\"dataframe\">\n",
       "  <thead>\n",
       "    <tr style=\"text-align: right;\">\n",
       "      <th></th>\n",
       "      <th>Model</th>\n",
       "      <th>Cohen's Kappa Score</th>\n",
       "    </tr>\n",
       "  </thead>\n",
       "  <tbody>\n",
       "    <tr>\n",
       "      <th>0</th>\n",
       "      <td>LGBM Regressor</td>\n",
       "      <td>0.418836</td>\n",
       "    </tr>\n",
       "    <tr>\n",
       "      <th>1</th>\n",
       "      <td>CatBoost Regressor</td>\n",
       "      <td>0.430335</td>\n",
       "    </tr>\n",
       "  </tbody>\n",
       "</table>\n",
       "</div>"
      ],
      "text/plain": [
       "                Model  Cohen's Kappa Score\n",
       "0      LGBM Regressor             0.418836\n",
       "1  CatBoost Regressor             0.430335"
      ]
     },
     "execution_count": 87,
     "metadata": {},
     "output_type": "execute_result"
    }
   ],
   "source": [
    "# advanced + bert + breed + beit + meta + senti + txt (160)\n",
    "bert=True\n",
    "beit=True\n",
    "breed=True\n",
    "txt=True\n",
    "meta=True\n",
    "senti=True\n",
    "newcols=True\n",
    "pca_bert=160\n",
    "pca_breed=160\n",
    "X_train, X_test, y_train, y_test = PreProcess(\n",
    "    df, bert, beit, breed, txt, meta, senti, newcols, pca_bert, pca_breed\n",
    ")\n",
    "result = quick_check_regression(X_train, X_test, y_train, y_test)\n",
    "result"
   ]
  },
  {
   "cell_type": "code",
   "execution_count": 88,
   "id": "e44a79f5-5c8e-42b7-819b-5a78ec9e98e0",
   "metadata": {},
   "outputs": [
    {
     "name": "stdout",
     "output_type": "stream",
     "text": [
      "[LightGBM] [Warning] categorical_feature is set=Type,Breed1,Breed2,Gender,Color1,Color2,Color3,State, categorical_column=2,4,5,6,7,8,9,18 will be ignored. Current value: categorical_feature=Type,Breed1,Breed2,Gender,Color1,Color2,Color3,State\n"
     ]
    },
    {
     "data": {
      "text/html": [
       "<div>\n",
       "<style scoped>\n",
       "    .dataframe tbody tr th:only-of-type {\n",
       "        vertical-align: middle;\n",
       "    }\n",
       "\n",
       "    .dataframe tbody tr th {\n",
       "        vertical-align: top;\n",
       "    }\n",
       "\n",
       "    .dataframe thead th {\n",
       "        text-align: right;\n",
       "    }\n",
       "</style>\n",
       "<table border=\"1\" class=\"dataframe\">\n",
       "  <thead>\n",
       "    <tr style=\"text-align: right;\">\n",
       "      <th></th>\n",
       "      <th>Model</th>\n",
       "      <th>Cohen's Kappa Score</th>\n",
       "    </tr>\n",
       "  </thead>\n",
       "  <tbody>\n",
       "    <tr>\n",
       "      <th>0</th>\n",
       "      <td>LGBM Regressor</td>\n",
       "      <td>0.429097</td>\n",
       "    </tr>\n",
       "    <tr>\n",
       "      <th>1</th>\n",
       "      <td>CatBoost Regressor</td>\n",
       "      <td>0.440728</td>\n",
       "    </tr>\n",
       "  </tbody>\n",
       "</table>\n",
       "</div>"
      ],
      "text/plain": [
       "                Model  Cohen's Kappa Score\n",
       "0      LGBM Regressor             0.429097\n",
       "1  CatBoost Regressor             0.440728"
      ]
     },
     "execution_count": 88,
     "metadata": {},
     "output_type": "execute_result"
    }
   ],
   "source": [
    "# advanced + bert + breed + beit + meta + senti + txt (170)\n",
    "bert=True\n",
    "beit=True\n",
    "breed=True\n",
    "txt=True\n",
    "meta=True\n",
    "senti=True\n",
    "newcols=True\n",
    "pca_bert=170\n",
    "pca_breed=170\n",
    "X_train, X_test, y_train, y_test = PreProcess(\n",
    "    df, bert, beit, breed, txt, meta, senti, newcols, pca_bert, pca_breed\n",
    ")\n",
    "result = quick_check_regression(X_train, X_test, y_train, y_test)\n",
    "result"
   ]
  },
  {
   "cell_type": "code",
   "execution_count": 89,
   "id": "29f7c695-fc2e-409f-94d7-94bbf612708b",
   "metadata": {},
   "outputs": [
    {
     "name": "stdout",
     "output_type": "stream",
     "text": [
      "[LightGBM] [Warning] categorical_feature is set=Type,Breed1,Breed2,Gender,Color1,Color2,Color3,State, categorical_column=2,4,5,6,7,8,9,18 will be ignored. Current value: categorical_feature=Type,Breed1,Breed2,Gender,Color1,Color2,Color3,State\n"
     ]
    },
    {
     "data": {
      "text/html": [
       "<div>\n",
       "<style scoped>\n",
       "    .dataframe tbody tr th:only-of-type {\n",
       "        vertical-align: middle;\n",
       "    }\n",
       "\n",
       "    .dataframe tbody tr th {\n",
       "        vertical-align: top;\n",
       "    }\n",
       "\n",
       "    .dataframe thead th {\n",
       "        text-align: right;\n",
       "    }\n",
       "</style>\n",
       "<table border=\"1\" class=\"dataframe\">\n",
       "  <thead>\n",
       "    <tr style=\"text-align: right;\">\n",
       "      <th></th>\n",
       "      <th>Model</th>\n",
       "      <th>Cohen's Kappa Score</th>\n",
       "    </tr>\n",
       "  </thead>\n",
       "  <tbody>\n",
       "    <tr>\n",
       "      <th>0</th>\n",
       "      <td>LGBM Regressor</td>\n",
       "      <td>0.413942</td>\n",
       "    </tr>\n",
       "    <tr>\n",
       "      <th>1</th>\n",
       "      <td>CatBoost Regressor</td>\n",
       "      <td>0.436146</td>\n",
       "    </tr>\n",
       "  </tbody>\n",
       "</table>\n",
       "</div>"
      ],
      "text/plain": [
       "                Model  Cohen's Kappa Score\n",
       "0      LGBM Regressor             0.413942\n",
       "1  CatBoost Regressor             0.436146"
      ]
     },
     "execution_count": 89,
     "metadata": {},
     "output_type": "execute_result"
    }
   ],
   "source": [
    "# advanced + bert + breed + beit + meta + senti + txt (180)\n",
    "bert=True\n",
    "beit=True\n",
    "breed=True\n",
    "txt=True\n",
    "meta=True\n",
    "senti=True\n",
    "newcols=True\n",
    "pca_bert=180\n",
    "pca_breed=180\n",
    "X_train, X_test, y_train, y_test = PreProcess(\n",
    "    df, bert, beit, breed, txt, meta, senti, newcols, pca_bert, pca_breed\n",
    ")\n",
    "result = quick_check_regression(X_train, X_test, y_train, y_test)\n",
    "result"
   ]
  },
  {
   "cell_type": "code",
   "execution_count": 90,
   "id": "72e9dfbf-79de-407e-b6cd-c4d17f949ede",
   "metadata": {},
   "outputs": [
    {
     "name": "stdout",
     "output_type": "stream",
     "text": [
      "[LightGBM] [Warning] categorical_feature is set=Type,Breed1,Breed2,Gender,Color1,Color2,Color3,State, categorical_column=2,4,5,6,7,8,9,18 will be ignored. Current value: categorical_feature=Type,Breed1,Breed2,Gender,Color1,Color2,Color3,State\n"
     ]
    },
    {
     "data": {
      "text/html": [
       "<div>\n",
       "<style scoped>\n",
       "    .dataframe tbody tr th:only-of-type {\n",
       "        vertical-align: middle;\n",
       "    }\n",
       "\n",
       "    .dataframe tbody tr th {\n",
       "        vertical-align: top;\n",
       "    }\n",
       "\n",
       "    .dataframe thead th {\n",
       "        text-align: right;\n",
       "    }\n",
       "</style>\n",
       "<table border=\"1\" class=\"dataframe\">\n",
       "  <thead>\n",
       "    <tr style=\"text-align: right;\">\n",
       "      <th></th>\n",
       "      <th>Model</th>\n",
       "      <th>Cohen's Kappa Score</th>\n",
       "    </tr>\n",
       "  </thead>\n",
       "  <tbody>\n",
       "    <tr>\n",
       "      <th>0</th>\n",
       "      <td>LGBM Regressor</td>\n",
       "      <td>0.424012</td>\n",
       "    </tr>\n",
       "    <tr>\n",
       "      <th>1</th>\n",
       "      <td>CatBoost Regressor</td>\n",
       "      <td>0.431512</td>\n",
       "    </tr>\n",
       "  </tbody>\n",
       "</table>\n",
       "</div>"
      ],
      "text/plain": [
       "                Model  Cohen's Kappa Score\n",
       "0      LGBM Regressor             0.424012\n",
       "1  CatBoost Regressor             0.431512"
      ]
     },
     "execution_count": 90,
     "metadata": {},
     "output_type": "execute_result"
    }
   ],
   "source": [
    "# advanced + bert + breed + beit + meta + senti + txt (190)\n",
    "bert=True\n",
    "beit=True\n",
    "breed=True\n",
    "txt=True\n",
    "meta=True\n",
    "senti=True\n",
    "newcols=True\n",
    "pca_bert=190\n",
    "pca_breed=190\n",
    "X_train, X_test, y_train, y_test = PreProcess(\n",
    "    df, bert, beit, breed, txt, meta, senti, newcols, pca_bert, pca_breed\n",
    ")\n",
    "result = quick_check_regression(X_train, X_test, y_train, y_test)\n",
    "result"
   ]
  },
  {
   "cell_type": "code",
   "execution_count": 154,
   "id": "54aa6052-6527-45c4-a371-dbf4bd8488da",
   "metadata": {},
   "outputs": [
    {
     "name": "stdout",
     "output_type": "stream",
     "text": [
      "[LightGBM] [Warning] categorical_feature is set=Type,Breed1,Breed2,Gender,Color1,Color2,Color3,State, categorical_column=2,4,5,6,7,8,9,18 will be ignored. Current value: categorical_feature=Type,Breed1,Breed2,Gender,Color1,Color2,Color3,State\n"
     ]
    },
    {
     "data": {
      "text/html": [
       "<div>\n",
       "<style scoped>\n",
       "    .dataframe tbody tr th:only-of-type {\n",
       "        vertical-align: middle;\n",
       "    }\n",
       "\n",
       "    .dataframe tbody tr th {\n",
       "        vertical-align: top;\n",
       "    }\n",
       "\n",
       "    .dataframe thead th {\n",
       "        text-align: right;\n",
       "    }\n",
       "</style>\n",
       "<table border=\"1\" class=\"dataframe\">\n",
       "  <thead>\n",
       "    <tr style=\"text-align: right;\">\n",
       "      <th></th>\n",
       "      <th>Model</th>\n",
       "      <th>Cohen's Kappa Score</th>\n",
       "    </tr>\n",
       "  </thead>\n",
       "  <tbody>\n",
       "    <tr>\n",
       "      <th>0</th>\n",
       "      <td>LGBM Regressor</td>\n",
       "      <td>0.403422</td>\n",
       "    </tr>\n",
       "    <tr>\n",
       "      <th>1</th>\n",
       "      <td>CatBoost Regressor</td>\n",
       "      <td>0.396336</td>\n",
       "    </tr>\n",
       "  </tbody>\n",
       "</table>\n",
       "</div>"
      ],
      "text/plain": [
       "                Model  Cohen's Kappa Score\n",
       "0      LGBM Regressor             0.403422\n",
       "1  CatBoost Regressor             0.396336"
      ]
     },
     "execution_count": 154,
     "metadata": {},
     "output_type": "execute_result"
    }
   ],
   "source": [
    "# advanced + senti + txt\n",
    "bert=False\n",
    "beit=False\n",
    "breed=False\n",
    "txt=True\n",
    "meta=False\n",
    "senti=True\n",
    "newcols=True\n",
    "pca_bert=200\n",
    "pca_breed=200\n",
    "X_train, X_test, y_train, y_test = PreProcess(\n",
    "    df, bert, beit, breed, txt, meta, senti, newcols, pca_bert, pca_breed\n",
    ")\n",
    "result = quick_check_regression(X_train, X_test, y_train, y_test)\n",
    "result"
   ]
  },
  {
   "cell_type": "code",
   "execution_count": 155,
   "id": "0d2e3bbf-49f3-4f7f-b3ab-588736190c84",
   "metadata": {},
   "outputs": [
    {
     "name": "stdout",
     "output_type": "stream",
     "text": [
      "[LightGBM] [Warning] categorical_feature is set=Type,Breed1,Breed2,Gender,Color1,Color2,Color3,State, categorical_column=2,4,5,6,7,8,9,18 will be ignored. Current value: categorical_feature=Type,Breed1,Breed2,Gender,Color1,Color2,Color3,State\n"
     ]
    },
    {
     "data": {
      "text/html": [
       "<div>\n",
       "<style scoped>\n",
       "    .dataframe tbody tr th:only-of-type {\n",
       "        vertical-align: middle;\n",
       "    }\n",
       "\n",
       "    .dataframe tbody tr th {\n",
       "        vertical-align: top;\n",
       "    }\n",
       "\n",
       "    .dataframe thead th {\n",
       "        text-align: right;\n",
       "    }\n",
       "</style>\n",
       "<table border=\"1\" class=\"dataframe\">\n",
       "  <thead>\n",
       "    <tr style=\"text-align: right;\">\n",
       "      <th></th>\n",
       "      <th>Model</th>\n",
       "      <th>Cohen's Kappa Score</th>\n",
       "    </tr>\n",
       "  </thead>\n",
       "  <tbody>\n",
       "    <tr>\n",
       "      <th>0</th>\n",
       "      <td>LGBM Regressor</td>\n",
       "      <td>0.400165</td>\n",
       "    </tr>\n",
       "    <tr>\n",
       "      <th>1</th>\n",
       "      <td>CatBoost Regressor</td>\n",
       "      <td>0.407927</td>\n",
       "    </tr>\n",
       "  </tbody>\n",
       "</table>\n",
       "</div>"
      ],
      "text/plain": [
       "                Model  Cohen's Kappa Score\n",
       "0      LGBM Regressor             0.400165\n",
       "1  CatBoost Regressor             0.407927"
      ]
     },
     "execution_count": 155,
     "metadata": {},
     "output_type": "execute_result"
    }
   ],
   "source": [
    "# advanced + bert + breed + meta + senti + txt\n",
    "bert=True\n",
    "beit=False\n",
    "breed=True\n",
    "txt=True\n",
    "meta=True\n",
    "senti=True\n",
    "newcols=True\n",
    "pca_bert=200\n",
    "pca_breed=200\n",
    "X_train, X_test, y_train, y_test = PreProcess(\n",
    "    df, bert, beit, breed, txt, meta, senti, newcols, pca_bert, pca_breed\n",
    ")\n",
    "result = quick_check_regression(X_train, X_test, y_train, y_test)\n",
    "result"
   ]
  },
  {
   "cell_type": "code",
   "execution_count": 156,
   "id": "ebd543f1-ae82-4199-9ff3-f44e50c9f2c6",
   "metadata": {},
   "outputs": [
    {
     "name": "stdout",
     "output_type": "stream",
     "text": [
      "[LightGBM] [Warning] categorical_feature is set=Type,Breed1,Breed2,Gender,Color1,Color2,Color3,State, categorical_column=2,4,5,6,7,8,9,18 will be ignored. Current value: categorical_feature=Type,Breed1,Breed2,Gender,Color1,Color2,Color3,State\n"
     ]
    },
    {
     "data": {
      "text/html": [
       "<div>\n",
       "<style scoped>\n",
       "    .dataframe tbody tr th:only-of-type {\n",
       "        vertical-align: middle;\n",
       "    }\n",
       "\n",
       "    .dataframe tbody tr th {\n",
       "        vertical-align: top;\n",
       "    }\n",
       "\n",
       "    .dataframe thead th {\n",
       "        text-align: right;\n",
       "    }\n",
       "</style>\n",
       "<table border=\"1\" class=\"dataframe\">\n",
       "  <thead>\n",
       "    <tr style=\"text-align: right;\">\n",
       "      <th></th>\n",
       "      <th>Model</th>\n",
       "      <th>Cohen's Kappa Score</th>\n",
       "    </tr>\n",
       "  </thead>\n",
       "  <tbody>\n",
       "    <tr>\n",
       "      <th>0</th>\n",
       "      <td>LGBM Regressor</td>\n",
       "      <td>0.433317</td>\n",
       "    </tr>\n",
       "    <tr>\n",
       "      <th>1</th>\n",
       "      <td>CatBoost Regressor</td>\n",
       "      <td>0.422608</td>\n",
       "    </tr>\n",
       "  </tbody>\n",
       "</table>\n",
       "</div>"
      ],
      "text/plain": [
       "                Model  Cohen's Kappa Score\n",
       "0      LGBM Regressor             0.433317\n",
       "1  CatBoost Regressor             0.422608"
      ]
     },
     "execution_count": 156,
     "metadata": {},
     "output_type": "execute_result"
    }
   ],
   "source": [
    "# advanced + beit + meta + senti + txt\n",
    "bert=False\n",
    "beit=True\n",
    "breed=False\n",
    "txt=True\n",
    "meta=True\n",
    "senti=True\n",
    "newcols=True\n",
    "pca_bert=200\n",
    "pca_breed=200\n",
    "X_train, X_test, y_train, y_test = PreProcess(\n",
    "    df, bert, beit, breed, txt, meta, senti, newcols, pca_bert, pca_breed\n",
    ")\n",
    "result = quick_check_regression(X_train, X_test, y_train, y_test)\n",
    "result"
   ]
  },
  {
   "cell_type": "code",
   "execution_count": 157,
   "id": "cd855f60-1cf2-4a94-89ed-eaf186716f29",
   "metadata": {},
   "outputs": [
    {
     "name": "stdout",
     "output_type": "stream",
     "text": [
      "[LightGBM] [Warning] categorical_feature is set=Type,Breed1,Breed2,Gender,Color1,Color2,Color3,State, categorical_column=2,4,5,6,7,8,9,18 will be ignored. Current value: categorical_feature=Type,Breed1,Breed2,Gender,Color1,Color2,Color3,State\n"
     ]
    },
    {
     "data": {
      "text/html": [
       "<div>\n",
       "<style scoped>\n",
       "    .dataframe tbody tr th:only-of-type {\n",
       "        vertical-align: middle;\n",
       "    }\n",
       "\n",
       "    .dataframe tbody tr th {\n",
       "        vertical-align: top;\n",
       "    }\n",
       "\n",
       "    .dataframe thead th {\n",
       "        text-align: right;\n",
       "    }\n",
       "</style>\n",
       "<table border=\"1\" class=\"dataframe\">\n",
       "  <thead>\n",
       "    <tr style=\"text-align: right;\">\n",
       "      <th></th>\n",
       "      <th>Model</th>\n",
       "      <th>Cohen's Kappa Score</th>\n",
       "    </tr>\n",
       "  </thead>\n",
       "  <tbody>\n",
       "    <tr>\n",
       "      <th>0</th>\n",
       "      <td>LGBM Regressor</td>\n",
       "      <td>0.436703</td>\n",
       "    </tr>\n",
       "    <tr>\n",
       "      <th>1</th>\n",
       "      <td>CatBoost Regressor</td>\n",
       "      <td>0.432402</td>\n",
       "    </tr>\n",
       "  </tbody>\n",
       "</table>\n",
       "</div>"
      ],
      "text/plain": [
       "                Model  Cohen's Kappa Score\n",
       "0      LGBM Regressor             0.436703\n",
       "1  CatBoost Regressor             0.432402"
      ]
     },
     "execution_count": 157,
     "metadata": {},
     "output_type": "execute_result"
    }
   ],
   "source": [
    "# advanced + bert + beit\n",
    "bert=True\n",
    "beit=True\n",
    "breed=False\n",
    "txt=False\n",
    "meta=False\n",
    "senti=False\n",
    "newcols=True\n",
    "pca_bert=200\n",
    "pca_breed=200\n",
    "X_train, X_test, y_train, y_test = PreProcess(\n",
    "    df, bert, beit, breed, txt, meta, senti, newcols, pca_bert, pca_breed\n",
    ")\n",
    "result = quick_check_regression(X_train, X_test, y_train, y_test)\n",
    "result"
   ]
  },
  {
   "cell_type": "markdown",
   "id": "e0dd23c3-4dfd-43cd-9282-08dfc3f3cfb1",
   "metadata": {},
   "source": [
    "## final compare"
   ]
  },
  {
   "cell_type": "code",
   "execution_count": 158,
   "id": "da821aff-7ebd-4f47-8adf-d46b8da5a510",
   "metadata": {},
   "outputs": [
    {
     "name": "stdout",
     "output_type": "stream",
     "text": [
      "[LightGBM] [Warning] categorical_feature is set=Type,Breed1,Breed2,Gender,Color1,Color2,Color3,State, categorical_column=2,4,5,6,7,8,9,18 will be ignored. Current value: categorical_feature=Type,Breed1,Breed2,Gender,Color1,Color2,Color3,State\n"
     ]
    },
    {
     "data": {
      "text/html": [
       "<div>\n",
       "<style scoped>\n",
       "    .dataframe tbody tr th:only-of-type {\n",
       "        vertical-align: middle;\n",
       "    }\n",
       "\n",
       "    .dataframe tbody tr th {\n",
       "        vertical-align: top;\n",
       "    }\n",
       "\n",
       "    .dataframe thead th {\n",
       "        text-align: right;\n",
       "    }\n",
       "</style>\n",
       "<table border=\"1\" class=\"dataframe\">\n",
       "  <thead>\n",
       "    <tr style=\"text-align: right;\">\n",
       "      <th></th>\n",
       "      <th>Model</th>\n",
       "      <th>Cohen's Kappa Score</th>\n",
       "    </tr>\n",
       "  </thead>\n",
       "  <tbody>\n",
       "    <tr>\n",
       "      <th>0</th>\n",
       "      <td>LGBM Regressor</td>\n",
       "      <td>0.419741</td>\n",
       "    </tr>\n",
       "    <tr>\n",
       "      <th>1</th>\n",
       "      <td>CatBoost Regressor</td>\n",
       "      <td>0.441630</td>\n",
       "    </tr>\n",
       "  </tbody>\n",
       "</table>\n",
       "</div>"
      ],
      "text/plain": [
       "                Model  Cohen's Kappa Score\n",
       "0      LGBM Regressor             0.419741\n",
       "1  CatBoost Regressor             0.441630"
      ]
     },
     "execution_count": 158,
     "metadata": {},
     "output_type": "execute_result"
    }
   ],
   "source": [
    "# advanced + T200 G s\n",
    "bert=True\n",
    "beit=True\n",
    "breed=False\n",
    "txt=False\n",
    "meta=False\n",
    "senti=True\n",
    "newcols=True\n",
    "pca_bert=200\n",
    "pca_breed=200\n",
    "X_train, X_test, y_train, y_test = PreProcess(\n",
    "    df, bert, beit, breed, txt, meta, senti, newcols, pca_bert, pca_breed\n",
    ")\n",
    "result = quick_check_regression(X_train, X_test, y_train, y_test)\n",
    "result"
   ]
  },
  {
   "cell_type": "code",
   "execution_count": 159,
   "id": "b2aaad6b-094d-42ce-a7a2-f452663d3822",
   "metadata": {},
   "outputs": [
    {
     "name": "stdout",
     "output_type": "stream",
     "text": [
      "[LightGBM] [Warning] categorical_feature is set=Type,Breed1,Breed2,Gender,Color1,Color2,Color3,State, categorical_column=2,4,5,6,7,8,9,18 will be ignored. Current value: categorical_feature=Type,Breed1,Breed2,Gender,Color1,Color2,Color3,State\n"
     ]
    },
    {
     "data": {
      "text/html": [
       "<div>\n",
       "<style scoped>\n",
       "    .dataframe tbody tr th:only-of-type {\n",
       "        vertical-align: middle;\n",
       "    }\n",
       "\n",
       "    .dataframe tbody tr th {\n",
       "        vertical-align: top;\n",
       "    }\n",
       "\n",
       "    .dataframe thead th {\n",
       "        text-align: right;\n",
       "    }\n",
       "</style>\n",
       "<table border=\"1\" class=\"dataframe\">\n",
       "  <thead>\n",
       "    <tr style=\"text-align: right;\">\n",
       "      <th></th>\n",
       "      <th>Model</th>\n",
       "      <th>Cohen's Kappa Score</th>\n",
       "    </tr>\n",
       "  </thead>\n",
       "  <tbody>\n",
       "    <tr>\n",
       "      <th>0</th>\n",
       "      <td>LGBM Regressor</td>\n",
       "      <td>0.433364</td>\n",
       "    </tr>\n",
       "    <tr>\n",
       "      <th>1</th>\n",
       "      <td>CatBoost Regressor</td>\n",
       "      <td>0.441839</td>\n",
       "    </tr>\n",
       "  </tbody>\n",
       "</table>\n",
       "</div>"
      ],
      "text/plain": [
       "                Model  Cohen's Kappa Score\n",
       "0      LGBM Regressor             0.433364\n",
       "1  CatBoost Regressor             0.441839"
      ]
     },
     "execution_count": 159,
     "metadata": {},
     "output_type": "execute_result"
    }
   ],
   "source": [
    "# advanced + T200 b200 G s\n",
    "bert=True\n",
    "beit=True\n",
    "breed=True\n",
    "txt=False\n",
    "meta=False\n",
    "senti=True\n",
    "newcols=True\n",
    "pca_bert=200\n",
    "pca_breed=200\n",
    "X_train, X_test, y_train, y_test = PreProcess(\n",
    "    df, bert, beit, breed, txt, meta, senti, newcols, pca_bert, pca_breed\n",
    ")\n",
    "result = quick_check_regression(X_train, X_test, y_train, y_test)\n",
    "result"
   ]
  },
  {
   "cell_type": "code",
   "execution_count": 160,
   "id": "b98626a5-d5cc-420a-8014-9b67217c86f0",
   "metadata": {},
   "outputs": [
    {
     "name": "stdout",
     "output_type": "stream",
     "text": [
      "[LightGBM] [Warning] categorical_feature is set=Type,Breed1,Breed2,Gender,Color1,Color2,Color3,State, categorical_column=2,4,5,6,7,8,9,18 will be ignored. Current value: categorical_feature=Type,Breed1,Breed2,Gender,Color1,Color2,Color3,State\n"
     ]
    },
    {
     "data": {
      "text/html": [
       "<div>\n",
       "<style scoped>\n",
       "    .dataframe tbody tr th:only-of-type {\n",
       "        vertical-align: middle;\n",
       "    }\n",
       "\n",
       "    .dataframe tbody tr th {\n",
       "        vertical-align: top;\n",
       "    }\n",
       "\n",
       "    .dataframe thead th {\n",
       "        text-align: right;\n",
       "    }\n",
       "</style>\n",
       "<table border=\"1\" class=\"dataframe\">\n",
       "  <thead>\n",
       "    <tr style=\"text-align: right;\">\n",
       "      <th></th>\n",
       "      <th>Model</th>\n",
       "      <th>Cohen's Kappa Score</th>\n",
       "    </tr>\n",
       "  </thead>\n",
       "  <tbody>\n",
       "    <tr>\n",
       "      <th>0</th>\n",
       "      <td>LGBM Regressor</td>\n",
       "      <td>0.418410</td>\n",
       "    </tr>\n",
       "    <tr>\n",
       "      <th>1</th>\n",
       "      <td>CatBoost Regressor</td>\n",
       "      <td>0.443546</td>\n",
       "    </tr>\n",
       "  </tbody>\n",
       "</table>\n",
       "</div>"
      ],
      "text/plain": [
       "                Model  Cohen's Kappa Score\n",
       "0      LGBM Regressor             0.418410\n",
       "1  CatBoost Regressor             0.443546"
      ]
     },
     "execution_count": 160,
     "metadata": {},
     "output_type": "execute_result"
    }
   ],
   "source": [
    "# advanced + T200 G t\n",
    "bert=True\n",
    "beit=True\n",
    "breed=False\n",
    "txt=True\n",
    "meta=False\n",
    "senti=False\n",
    "newcols=True\n",
    "pca_bert=200\n",
    "pca_breed=200\n",
    "X_train, X_test, y_train, y_test = PreProcess(\n",
    "    df, bert, beit, breed, txt, meta, senti, newcols, pca_bert, pca_breed\n",
    ")\n",
    "result = quick_check_regression(X_train, X_test, y_train, y_test)\n",
    "result"
   ]
  },
  {
   "cell_type": "code",
   "execution_count": 161,
   "id": "933308dd-998f-4263-ab70-fe3fc7641c6d",
   "metadata": {},
   "outputs": [
    {
     "name": "stdout",
     "output_type": "stream",
     "text": [
      "[LightGBM] [Warning] categorical_feature is set=Type,Breed1,Breed2,Gender,Color1,Color2,Color3,State, categorical_column=2,4,5,6,7,8,9,18 will be ignored. Current value: categorical_feature=Type,Breed1,Breed2,Gender,Color1,Color2,Color3,State\n"
     ]
    },
    {
     "data": {
      "text/html": [
       "<div>\n",
       "<style scoped>\n",
       "    .dataframe tbody tr th:only-of-type {\n",
       "        vertical-align: middle;\n",
       "    }\n",
       "\n",
       "    .dataframe tbody tr th {\n",
       "        vertical-align: top;\n",
       "    }\n",
       "\n",
       "    .dataframe thead th {\n",
       "        text-align: right;\n",
       "    }\n",
       "</style>\n",
       "<table border=\"1\" class=\"dataframe\">\n",
       "  <thead>\n",
       "    <tr style=\"text-align: right;\">\n",
       "      <th></th>\n",
       "      <th>Model</th>\n",
       "      <th>Cohen's Kappa Score</th>\n",
       "    </tr>\n",
       "  </thead>\n",
       "  <tbody>\n",
       "    <tr>\n",
       "      <th>0</th>\n",
       "      <td>LGBM Regressor</td>\n",
       "      <td>0.420966</td>\n",
       "    </tr>\n",
       "    <tr>\n",
       "      <th>1</th>\n",
       "      <td>CatBoost Regressor</td>\n",
       "      <td>0.434905</td>\n",
       "    </tr>\n",
       "  </tbody>\n",
       "</table>\n",
       "</div>"
      ],
      "text/plain": [
       "                Model  Cohen's Kappa Score\n",
       "0      LGBM Regressor             0.420966\n",
       "1  CatBoost Regressor             0.434905"
      ]
     },
     "execution_count": 161,
     "metadata": {},
     "output_type": "execute_result"
    }
   ],
   "source": [
    "# advanced + T200 b200 G t\n",
    "bert=True\n",
    "beit=True\n",
    "breed=True\n",
    "txt=True\n",
    "meta=False\n",
    "senti=False\n",
    "newcols=True\n",
    "pca_bert=200\n",
    "pca_breed=200\n",
    "X_train, X_test, y_train, y_test = PreProcess(\n",
    "    df, bert, beit, breed, txt, meta, senti, newcols, pca_bert, pca_breed\n",
    ")\n",
    "result = quick_check_regression(X_train, X_test, y_train, y_test)\n",
    "result"
   ]
  },
  {
   "cell_type": "code",
   "execution_count": 162,
   "id": "ab2bd1e0-187f-4aad-982d-9c55631ce666",
   "metadata": {},
   "outputs": [
    {
     "name": "stdout",
     "output_type": "stream",
     "text": [
      "[LightGBM] [Warning] categorical_feature is set=Type,Breed1,Breed2,Gender,Color1,Color2,Color3,State, categorical_column=2,4,5,6,7,8,9,18 will be ignored. Current value: categorical_feature=Type,Breed1,Breed2,Gender,Color1,Color2,Color3,State\n"
     ]
    },
    {
     "data": {
      "text/html": [
       "<div>\n",
       "<style scoped>\n",
       "    .dataframe tbody tr th:only-of-type {\n",
       "        vertical-align: middle;\n",
       "    }\n",
       "\n",
       "    .dataframe tbody tr th {\n",
       "        vertical-align: top;\n",
       "    }\n",
       "\n",
       "    .dataframe thead th {\n",
       "        text-align: right;\n",
       "    }\n",
       "</style>\n",
       "<table border=\"1\" class=\"dataframe\">\n",
       "  <thead>\n",
       "    <tr style=\"text-align: right;\">\n",
       "      <th></th>\n",
       "      <th>Model</th>\n",
       "      <th>Cohen's Kappa Score</th>\n",
       "    </tr>\n",
       "  </thead>\n",
       "  <tbody>\n",
       "    <tr>\n",
       "      <th>0</th>\n",
       "      <td>LGBM Regressor</td>\n",
       "      <td>0.417965</td>\n",
       "    </tr>\n",
       "    <tr>\n",
       "      <th>1</th>\n",
       "      <td>CatBoost Regressor</td>\n",
       "      <td>0.443119</td>\n",
       "    </tr>\n",
       "  </tbody>\n",
       "</table>\n",
       "</div>"
      ],
      "text/plain": [
       "                Model  Cohen's Kappa Score\n",
       "0      LGBM Regressor             0.417965\n",
       "1  CatBoost Regressor             0.443119"
      ]
     },
     "execution_count": 162,
     "metadata": {},
     "output_type": "execute_result"
    }
   ],
   "source": [
    "# advanced + T200 G m t\n",
    "bert=True\n",
    "beit=True\n",
    "breed=False\n",
    "txt=True\n",
    "meta=True\n",
    "senti=False\n",
    "newcols=True\n",
    "pca_bert=200\n",
    "pca_breed=200\n",
    "X_train, X_test, y_train, y_test = PreProcess(\n",
    "    df, bert, beit, breed, txt, meta, senti, newcols, pca_bert, pca_breed\n",
    ")\n",
    "result = quick_check_regression(X_train, X_test, y_train, y_test)\n",
    "result"
   ]
  },
  {
   "cell_type": "code",
   "execution_count": 163,
   "id": "c7a31e9b-15ec-4322-964a-3336cbb58364",
   "metadata": {},
   "outputs": [
    {
     "name": "stdout",
     "output_type": "stream",
     "text": [
      "[LightGBM] [Warning] categorical_feature is set=Type,Breed1,Breed2,Gender,Color1,Color2,Color3,State, categorical_column=2,4,5,6,7,8,9,18 will be ignored. Current value: categorical_feature=Type,Breed1,Breed2,Gender,Color1,Color2,Color3,State\n"
     ]
    },
    {
     "data": {
      "text/html": [
       "<div>\n",
       "<style scoped>\n",
       "    .dataframe tbody tr th:only-of-type {\n",
       "        vertical-align: middle;\n",
       "    }\n",
       "\n",
       "    .dataframe tbody tr th {\n",
       "        vertical-align: top;\n",
       "    }\n",
       "\n",
       "    .dataframe thead th {\n",
       "        text-align: right;\n",
       "    }\n",
       "</style>\n",
       "<table border=\"1\" class=\"dataframe\">\n",
       "  <thead>\n",
       "    <tr style=\"text-align: right;\">\n",
       "      <th></th>\n",
       "      <th>Model</th>\n",
       "      <th>Cohen's Kappa Score</th>\n",
       "    </tr>\n",
       "  </thead>\n",
       "  <tbody>\n",
       "    <tr>\n",
       "      <th>0</th>\n",
       "      <td>LGBM Regressor</td>\n",
       "      <td>0.429146</td>\n",
       "    </tr>\n",
       "    <tr>\n",
       "      <th>1</th>\n",
       "      <td>CatBoost Regressor</td>\n",
       "      <td>0.441144</td>\n",
       "    </tr>\n",
       "  </tbody>\n",
       "</table>\n",
       "</div>"
      ],
      "text/plain": [
       "                Model  Cohen's Kappa Score\n",
       "0      LGBM Regressor             0.429146\n",
       "1  CatBoost Regressor             0.441144"
      ]
     },
     "execution_count": 163,
     "metadata": {},
     "output_type": "execute_result"
    }
   ],
   "source": [
    "# advanced + T200 b200 G m t\n",
    "bert=True\n",
    "beit=True\n",
    "breed=True\n",
    "txt=True\n",
    "meta=True\n",
    "senti=False\n",
    "newcols=True\n",
    "pca_bert=200\n",
    "pca_breed=200\n",
    "X_train, X_test, y_train, y_test = PreProcess(\n",
    "    df, bert, beit, breed, txt, meta, senti, newcols, pca_bert, pca_breed\n",
    ")\n",
    "result = quick_check_regression(X_train, X_test, y_train, y_test)\n",
    "result"
   ]
  },
  {
   "cell_type": "code",
   "execution_count": 164,
   "id": "c301ca90-152c-4748-9b9f-0015d3aa2492",
   "metadata": {},
   "outputs": [
    {
     "name": "stdout",
     "output_type": "stream",
     "text": [
      "[LightGBM] [Warning] categorical_feature is set=Type,Breed1,Breed2,Gender,Color1,Color2,Color3,State, categorical_column=2,4,5,6,7,8,9,18 will be ignored. Current value: categorical_feature=Type,Breed1,Breed2,Gender,Color1,Color2,Color3,State\n"
     ]
    },
    {
     "data": {
      "text/html": [
       "<div>\n",
       "<style scoped>\n",
       "    .dataframe tbody tr th:only-of-type {\n",
       "        vertical-align: middle;\n",
       "    }\n",
       "\n",
       "    .dataframe tbody tr th {\n",
       "        vertical-align: top;\n",
       "    }\n",
       "\n",
       "    .dataframe thead th {\n",
       "        text-align: right;\n",
       "    }\n",
       "</style>\n",
       "<table border=\"1\" class=\"dataframe\">\n",
       "  <thead>\n",
       "    <tr style=\"text-align: right;\">\n",
       "      <th></th>\n",
       "      <th>Model</th>\n",
       "      <th>Cohen's Kappa Score</th>\n",
       "    </tr>\n",
       "  </thead>\n",
       "  <tbody>\n",
       "    <tr>\n",
       "      <th>0</th>\n",
       "      <td>LGBM Regressor</td>\n",
       "      <td>0.430136</td>\n",
       "    </tr>\n",
       "    <tr>\n",
       "      <th>1</th>\n",
       "      <td>CatBoost Regressor</td>\n",
       "      <td>0.424917</td>\n",
       "    </tr>\n",
       "  </tbody>\n",
       "</table>\n",
       "</div>"
      ],
      "text/plain": [
       "                Model  Cohen's Kappa Score\n",
       "0      LGBM Regressor             0.430136\n",
       "1  CatBoost Regressor             0.424917"
      ]
     },
     "execution_count": 164,
     "metadata": {},
     "output_type": "execute_result"
    }
   ],
   "source": [
    "# advanced + T200 G m s t\n",
    "bert=True\n",
    "beit=True\n",
    "breed=False\n",
    "txt=True\n",
    "meta=True\n",
    "senti=True\n",
    "newcols=True\n",
    "pca_bert=200\n",
    "pca_breed=200\n",
    "X_train, X_test, y_train, y_test = PreProcess(\n",
    "    df, bert, beit, breed, txt, meta, senti, newcols, pca_bert, pca_breed\n",
    ")\n",
    "result = quick_check_regression(X_train, X_test, y_train, y_test)\n",
    "result"
   ]
  },
  {
   "cell_type": "code",
   "execution_count": null,
   "id": "8b2ffa7d-2319-44f1-927b-0ce326d60b33",
   "metadata": {},
   "outputs": [],
   "source": []
  },
  {
   "cell_type": "code",
   "execution_count": null,
   "id": "ac251f6c-9ca3-40c9-b8a8-4202e8bbcfda",
   "metadata": {},
   "outputs": [],
   "source": []
  },
  {
   "cell_type": "code",
   "execution_count": null,
   "id": "acaab4b5-7f66-4226-83a5-7fd10ecc3c06",
   "metadata": {},
   "outputs": [],
   "source": []
  },
  {
   "cell_type": "code",
   "execution_count": null,
   "id": "6e1e96c9-7a11-47cf-a327-d436b83d8952",
   "metadata": {},
   "outputs": [],
   "source": []
  },
  {
   "cell_type": "code",
   "execution_count": null,
   "id": "1110b721-e35d-4aad-b40e-57a756692fe7",
   "metadata": {},
   "outputs": [],
   "source": []
  },
  {
   "cell_type": "code",
   "execution_count": null,
   "id": "a35c4b6e-f474-4631-9850-05e7e54ad864",
   "metadata": {},
   "outputs": [],
   "source": []
  },
  {
   "cell_type": "code",
   "execution_count": null,
   "id": "d9691b84-8848-4ced-8198-bb7ad7d82735",
   "metadata": {},
   "outputs": [],
   "source": []
  },
  {
   "cell_type": "code",
   "execution_count": null,
   "id": "f9822734-66e2-40c5-a4a0-dfefce24af90",
   "metadata": {},
   "outputs": [],
   "source": []
  },
  {
   "cell_type": "code",
   "execution_count": null,
   "id": "4ceea970-9d83-4b52-9d29-dd2c9515f170",
   "metadata": {},
   "outputs": [],
   "source": []
  },
  {
   "cell_type": "code",
   "execution_count": null,
   "id": "4585e40c-0c0d-470f-ba24-a1e0fc5490ba",
   "metadata": {},
   "outputs": [],
   "source": []
  },
  {
   "cell_type": "code",
   "execution_count": 93,
   "id": "3d245fbb-50f2-419f-9faa-a9dd71275502",
   "metadata": {},
   "outputs": [
    {
     "name": "stdout",
     "output_type": "stream",
     "text": [
      "Testing Cohen's Kappa Score : 0.8863427153167841\n"
     ]
    }
   ],
   "source": [
    "bert=True\n",
    "beit=True\n",
    "breed=True\n",
    "txt=True\n",
    "meta=True\n",
    "senti=True\n",
    "newcols=True\n",
    "pca_bert=200\n",
    "pca_breed=200\n",
    "X, Y = Split(\n",
    "    df, bert, beit, breed, txt, meta, senti, newcols, pca_bert, pca_breed\n",
    ")\n",
    "model = CatBoostRegressor(verbose=0, thread_count=-1, cat_features=non_numeric_columns)  \n",
    "model.fit(X, Y)\n",
    "preds = model.predict(X)\n",
    "optR = OptimizedRounder()\n",
    "optR.fit(preds, Y.values)\n",
    "coefficients = optR.coefficients()\n",
    "pred_y = optR.predict(model.predict(X), coefficients)\n",
    "kappa_score = cohen_kappa_score(Y, pred_y, weights='quadratic')\n",
    "print(f\"Testing Cohen's Kappa Score : {kappa_score}\")"
   ]
  },
  {
   "cell_type": "code",
   "execution_count": 166,
   "id": "7b664494-dd38-4359-b4ff-f5fdc0f6597c",
   "metadata": {},
   "outputs": [
    {
     "data": {
      "image/png": "[encoded data removed]",
      "text/plain": [
       "<Figure size 800x950 with 2 Axes>"
      ]
     },
     "metadata": {},
     "output_type": "display_data"
    }
   ],
   "source": [
    "X_sample, _, y_sample, _ = train_test_split(X, Y, stratify=Y, test_size=0.98, random_state=42)\n",
    "explainer_cat = shap.TreeExplainer(model)\n",
    "shap_values_cat = explainer_cat.shap_values(X_sample)\n",
    "\n",
    "# Define new feature sets\n",
    "beit_features = [f'beit_{i}' for i in range(1, 769)]\n",
    "bert_features = [f'bert_pc_{i}' for i in range(1, 201)]\n",
    "breed_features = [f'breed_pc_{i}' for i in range(1, 201)]\n",
    "metadata_features = [col for col in X_sample.columns if \"metadata\" in col]\n",
    "\n",
    "# Find indices for these features\n",
    "beit_indices = [X_sample.columns.get_loc(feature) for feature in beit_features]\n",
    "bert_indices = [X_sample.columns.get_loc(feature) for feature in bert_features]\n",
    "breed_indices = [X_sample.columns.get_loc(feature) for feature in breed_features]\n",
    "metadata_indices = [X_sample.columns.get_loc(feature) for feature in metadata_features]\n",
    "\n",
    "# Aggregate SHAP values for the new feature sets\n",
    "image_shap_values = shap_values_cat[:, range(beit_indices[0], beit_indices[-1]+1)].sum(axis=1)\n",
    "bert_shap_values = shap_values_cat[:, range(bert_indices[0], bert_indices[-1]+1)].sum(axis=1)\n",
    "breed_shap_values = shap_values_cat[:, range(breed_indices[0], breed_indices[-1]+1)].sum(axis=1)\n",
    "metadata_shap_values = np.sum([shap_values_cat[:, idx] for idx in metadata_indices], axis=0)\n",
    "\n",
    "# Adjust X_sample\n",
    "X_sample_adjusted = X_sample.drop(columns=beit_features + bert_features + breed_features + metadata_features)\n",
    "X_sample_adjusted['aggregated_image_beit'] = X_sample[beit_features].mean(axis=1)\n",
    "X_sample_adjusted['aggregated_description_bert'] = X_sample[bert_features].mean(axis=1)\n",
    "X_sample_adjusted['aggregated_breed_bert'] = X_sample[breed_features].mean(axis=1)\n",
    "X_sample_adjusted['aggregated_metadata_feature'] = X_sample[metadata_features].mean(axis=1)\n",
    "\n",
    "# Adjust the SHAP values matrix\n",
    "shap_values_adjusted = np.delete(shap_values_cat, beit_indices + bert_indices + breed_indices + metadata_indices, axis=1)\n",
    "shap_values_adjusted = np.insert(shap_values_adjusted, X_sample_adjusted.columns.get_loc('aggregated_image_beit'), image_shap_values, axis=1)\n",
    "shap_values_adjusted = np.insert(shap_values_adjusted, X_sample_adjusted.columns.get_loc('aggregated_description_bert'), bert_shap_values, axis=1)\n",
    "shap_values_adjusted = np.insert(shap_values_adjusted, X_sample_adjusted.columns.get_loc('aggregated_breed_bert'), breed_shap_values, axis=1)\n",
    "shap_values_adjusted = np.insert(shap_values_adjusted, X_sample_adjusted.columns.get_loc('aggregated_metadata_feature'), metadata_shap_values, axis=1)\n",
    "\n",
    "# Use the adjusted SHAP values and dataset for the summary plot\n",
    "shap.summary_plot(shap_values_adjusted, X_sample_adjusted)"
   ]
  },
  {
   "cell_type": "code",
   "execution_count": null,
   "id": "a42d2c3e-0f59-4c04-bf4d-f6c4789f6d0f",
   "metadata": {},
   "outputs": [],
   "source": []
  },
  {
   "cell_type": "code",
   "execution_count": 150,
   "id": "33035221-aea7-4346-b7c2-6270478b6654",
   "metadata": {},
   "outputs": [
    {
     "data": {
      "image/png": "[encoded data removed]",
      "text/plain": [
       "<Figure size 800x950 with 1 Axes>"
      ]
     },
     "metadata": {},
     "output_type": "display_data"
    }
   ],
   "source": [
    "shap.summary_plot(shap_values_adjusted, X_sample_adjusted, plot_type='bar') "
   ]
  },
  {
   "cell_type": "code",
   "execution_count": 176,
   "id": "7a5049c9-df52-40e2-867c-c99ee406a089",
   "metadata": {},
   "outputs": [
    {
     "data": {
      "image/png": "[encoded data removed]",
      "text/plain": [
       "<Figure size 800x550 with 2 Axes>"
      ]
     },
     "metadata": {},
     "output_type": "display_data"
    },
    {
     "data": {
      "text/plain": [
       "<Figure size 640x480 with 0 Axes>"
      ]
     },
     "metadata": {},
     "output_type": "display_data"
    }
   ],
   "source": [
    "mean_abs_shap_values = np.abs(shap_values_adjusted).mean(axis=0)\n",
    "top_10_indices = np.argsort(mean_abs_shap_values)[-10:]\n",
    "\n",
    "# Select the top ten features and their corresponding SHAP values\n",
    "top_10_features = X_sample_adjusted.columns[top_10_indices]\n",
    "top_10_shap_values = shap_values_adjusted[:, top_10_indices]\n",
    "\n",
    "plt.figure()  # Create a new figure\n",
    "shap.summary_plot(top_10_shap_values, X_sample_adjusted[top_10_features])\n",
    "\n",
    "# Save the plot\n",
    "plt.savefig(\"summary_plot.png\", bbox_inches='tight')  # Save as PNG"
   ]
  },
  {
   "cell_type": "code",
   "execution_count": null,
   "id": "25befc7a-5f2f-4ecd-a534-646f173b528d",
   "metadata": {},
   "outputs": [],
   "source": []
  },
  {
   "cell_type": "code",
   "execution_count": null,
   "id": "5eb75fa4-f1b7-49f1-9bb2-dbe64ca7d41a",
   "metadata": {},
   "outputs": [],
   "source": []
  }
 ],
 "metadata": {
  "kernelspec": {
   "display_name": "myjulia",
   "language": "python",
   "name": "myjulia"
  },
  "language_info": {
   "codemirror_mode": {
    "name": "ipython",
    "version": 3
   },
   "file_extension": ".py",
   "mimetype": "text/x-python",
   "name": "python",
   "nbconvert_exporter": "python",
   "pygments_lexer": "ipython3",
   "version": "3.9.18"
  }
 },
 "nbformat": 4,
 "nbformat_minor": 5
}
